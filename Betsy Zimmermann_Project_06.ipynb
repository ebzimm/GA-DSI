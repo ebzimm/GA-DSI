{
 "cells": [
  {
   "cell_type": "markdown",
   "metadata": {},
   "source": [
    "## Overview\n",
    "\n",
    "This week, we're learning about ensemble methods, APIs, and natural language processing. Now we're going to put these skills to the test!\n",
    "\n",
    "You've been hired by Netflix to examine what factors lead to certain ratings for movies. Given that Netflix does not currently store this type of data, your boss has suggested that you collect ratings and reviews data from IMDB. Netflix is no stranger to machine learning, however:\n",
    "\n",
    "- Netflix uses random forests and decision trees to predict what types of movies an individual user may like.\n",
    "- Using unsupervised learning techniques, they are able to continually update suggestions, listings, and other features of its user interface.\n",
    "- Netflix, however, hasn't focused on collecting data on the top movies of all time, and would like to add some of them to their offerings based on popularity and other factors.\n",
    "\n",
    "**Point:** Your boss isn't sure where to start on this project, so your task is to collect the data, build a random forest, and examine its feature importances to understand what factors contribute to ratings.\n",
    "\n",
    "\n",
    "## Project Summary\n",
    "Acquire data from IMDB, and use whatever metrics you can collect to predict whether a movie is highly rated.\n",
    "\n",
    "When you've finished your analysis, Netflix would like a report detailing your findings, with recommendations as to next steps.\n",
    "\n",
    "Here are some questions to keep in mind:\n",
    "\n",
    "- What factors are the most direct predictors of rating?\n",
    "- You can use rating as your target variable. But it's up to you whether to treat it as continuous, binary, or multiclass.\n",
    "\n",
    "**Goal**: Completed Jupyter notebook that includes modeling using a random forest and an blog post explaining your findings.\n",
    "\n",
    "---\n",
    "\n",
    "## Requirements\n",
    "This is deliberately open ended. There is no starter code. It's up to you how to acquire the data, store the data, and what features you want to use. \n",
    "\n",
    "We expect you to use a **tree-based model**, but the rest of the decisions are up to you. \n",
    "\n",
    "We will be looking for the following things:\n",
    " - A clear problem statement & description of the goals of your study to be included in the final report\n",
    " - Data from IMDB\n",
    " - Cleaned and refined data\n",
    " - Visualization. Plots that describe your data and evaluate your model.\n",
    " - Tree-based models (use any combination of ensemble techniques: random forests, bagging, boosting). \n",
    " - A blog post presenting the results of your findings as a report to Netflix, including:\n",
    "  - a problem statement,\n",
    "  - summary statistics of the various factors (e.g. year, number of ratings, etc.),\n",
    "  - your model,\n",
    "  - at least 2 graphics,\n",
    "  - and your recommendations for next steps!\n"
   ]
  },
  {
   "cell_type": "markdown",
   "metadata": {},
   "source": [
    "## All the imports"
   ]
  },
  {
   "cell_type": "code",
   "execution_count": 442,
   "metadata": {
    "collapsed": false
   },
   "outputs": [],
   "source": [
    "import numpy as np\n",
    "import pandas as pd \n",
    "import matplotlib.pyplot as plt\n",
    "from datetime import datetime\n",
    "from bs4 import BeautifulSoup\n",
    "import requests\n",
    "from sklearn.tree import DecisionTreeClassifier\n",
    "from sklearn.preprocessing import LabelEncoder\n",
    "from sklearn.cross_validation import cross_val_score, StratifiedKFold\n",
    "from sklearn.tree import DecisionTreeClassifier\n",
    "from sklearn.ensemble import RandomForestClassifier, ExtraTreesClassifier, BaggingClassifier\n",
    "from sklearn.ensemble import AdaBoostClassifier\n",
    "from sklearn.ensemble import GradientBoostingClassifier\n",
    "from sklearn.feature_extraction.text import CountVectorizer\n",
    "from sklearn.preprocessing import LabelEncoder\n",
    "from sklearn.cross_validation import cross_val_score, StratifiedKFold\n",
    "from sklearn.tree import DecisionTreeClassifier\n",
    "from imdbpie import Imdb\n",
    "imdb = Imdb()\n",
    "imdb = Imdb(anonymize=True) # to proxy requests\n",
    "import seaborn as sns\n",
    "from sklearn.metrics import classification_report\n",
    "from sklearn.metrics import roc_auc_score\n",
    "from sklearn.metrics import roc_curve\n",
    "from sklearn.metrics import auc\n",
    "from sklearn.metrics import confusion_matrix\n",
    "\n",
    "%matplotlib inline"
   ]
  },
  {
   "cell_type": "markdown",
   "metadata": {},
   "source": [
    "## Scrape data from IMDB.com using imdbpie API and BeautifulSoup\n",
    "#### 1. Find lists of imbd_ids to iteratively dissect for target data"
   ]
  },
  {
   "cell_type": "code",
   "execution_count": 400,
   "metadata": {
    "collapsed": false
   },
   "outputs": [
    {
     "data": {
      "text/plain": [
       "250"
      ]
     },
     "execution_count": 400,
     "metadata": {},
     "output_type": "execute_result"
    }
   ],
   "source": [
    "# Get list of imbd_ids for top 250 rated movies on IMBD\n",
    "\n",
    "best = imdb.top_250()\n",
    "\n",
    "top_250 = []\n",
    "def str_lists(data, new_list, class_id):\n",
    "    for i in data:\n",
    "        new_list.append((i[class_id]).encode('ascii','ignore'))\n",
    "    return new_list\n",
    "\n",
    "str_lists(best, top_250, class_id = \"tconst\")\n",
    "len(top_250)"
   ]
  },
  {
   "cell_type": "code",
   "execution_count": 80,
   "metadata": {
    "collapsed": false
   },
   "outputs": [
    {
     "data": {
      "text/plain": [
       "89"
      ]
     },
     "execution_count": 80,
     "metadata": {},
     "output_type": "execute_result"
    }
   ],
   "source": [
    "# Get list of imdb_ids for oscar winning films (best picture winners)\n",
    "\n",
    "url = \"http://www.imdb.com/search/title?count=100&groups=oscar_best_picture_winners&sort=year,desc&ref_=nv_ch_osc_2\"\n",
    "r = requests.get(url)\n",
    "page = r.content\n",
    "soup = BeautifulSoup(page, 'lxml')\n",
    "\n",
    "results = soup.findAll(\"img\")\n",
    "results = str(results).split(\"data-tconst=\\\"\")\n",
    "\n",
    "oscars = []\n",
    "for i in results: \n",
    "    oscars.append(i[:9])\n",
    "    \n",
    "oscars = oscars[1:]\n",
    "len(oscars)"
   ]
  },
  {
   "cell_type": "code",
   "execution_count": 396,
   "metadata": {
    "collapsed": false
   },
   "outputs": [
    {
     "data": {
      "text/plain": [
       "128"
      ]
     },
     "execution_count": 396,
     "metadata": {},
     "output_type": "execute_result"
    }
   ],
   "source": [
    "# Get list of imdb_ids for cult classic films\n",
    "\n",
    "url = \"http://www.imdb.com/list/ls052232899/\"\n",
    "r = requests.get(url)\n",
    "page = r.content\n",
    "soup = BeautifulSoup(page, 'lxml')\n",
    "\n",
    "results = soup.findAll(class_ = \"info\")\n",
    "results = str(results).split(\"<a href=\\\"/title/\")\n",
    "\n",
    "cult_classics = []\n",
    "for i in results: \n",
    "    cult_classics.append(i[:9])\n",
    "    \n",
    "cult_classics = cult_classics[1:]\n",
    "len(cult_classics)"
   ]
  },
  {
   "cell_type": "code",
   "execution_count": 109,
   "metadata": {
    "collapsed": false
   },
   "outputs": [
    {
     "data": {
      "text/plain": [
       "48"
      ]
     },
     "execution_count": 109,
     "metadata": {},
     "output_type": "execute_result"
    }
   ],
   "source": [
    "# Get list of imdb_ids for top drama films\n",
    "\n",
    "url = \"http://www.imdb.com/genre/drama/?ref_=gnr_mn_dr_mp\"\n",
    "r = requests.get(url)\n",
    "page = r.content\n",
    "soup = BeautifulSoup(page, 'lxml')\n",
    "\n",
    "results = soup.findAll(class_ = \"title\")\n",
    "results = str(results).split(\"<a href=\\\"/title/\")\n",
    "\n",
    "drama = []\n",
    "for i in results: \n",
    "    drama.append(i[:9])\n",
    "    \n",
    "drama = drama[1:]\n",
    "len(drama)"
   ]
  },
  {
   "cell_type": "code",
   "execution_count": 106,
   "metadata": {
    "collapsed": false
   },
   "outputs": [
    {
     "data": {
      "text/plain": [
       "47"
      ]
     },
     "execution_count": 106,
     "metadata": {},
     "output_type": "execute_result"
    }
   ],
   "source": [
    "# Get list of imdb_ids for top comedy films\n",
    "\n",
    "url = \"http://www.imdb.com/genre/comedy/?ref_=gnr_mn_co_mp\"\n",
    "r = requests.get(url)\n",
    "page = r.content\n",
    "soup = BeautifulSoup(page, 'lxml')\n",
    "\n",
    "results = soup.findAll(class_ = \"title\")\n",
    "results = str(results).split(\"<a href=\\\"/title/\")\n",
    "\n",
    "comedy = []\n",
    "for i in results: \n",
    "    comedy.append(i[:9])\n",
    "    \n",
    "comedy = comedy[1:]\n",
    "len(comedy)"
   ]
  },
  {
   "cell_type": "code",
   "execution_count": 107,
   "metadata": {
    "collapsed": false
   },
   "outputs": [
    {
     "data": {
      "text/plain": [
       "40"
      ]
     },
     "execution_count": 107,
     "metadata": {},
     "output_type": "execute_result"
    }
   ],
   "source": [
    "# Get list of imdb_ids for top action films\n",
    "\n",
    "url = \"http://www.imdb.com/genre/action/?ref_=gnr_mn_ac_mp\"\n",
    "r = requests.get(url)\n",
    "page = r.content\n",
    "soup = BeautifulSoup(page, 'lxml')\n",
    "\n",
    "results = soup.findAll(class_ = \"title\")\n",
    "results = str(results).split(\"<a href=\\\"/title/\")\n",
    "\n",
    "action = []\n",
    "for i in results: \n",
    "    action.append(i[:9])\n",
    "    \n",
    "action = action[1:]\n",
    "len(action)"
   ]
  },
  {
   "cell_type": "code",
   "execution_count": 110,
   "metadata": {
    "collapsed": false
   },
   "outputs": [
    {
     "data": {
      "text/plain": [
       "48"
      ]
     },
     "execution_count": 110,
     "metadata": {},
     "output_type": "execute_result"
    }
   ],
   "source": [
    "# Get list of imdb_ids for top animation films\n",
    "\n",
    "url = \"http://www.imdb.com/genre/animation/?ref_=gnr_mn_an_mp\"\n",
    "r = requests.get(url)\n",
    "page = r.content\n",
    "soup = BeautifulSoup(page, 'lxml')\n",
    "\n",
    "results = soup.findAll(class_ = \"title\")\n",
    "results = str(results).split(\"<a href=\\\"/title/\")\n",
    "\n",
    "animation = []\n",
    "for i in results: \n",
    "    animation.append(i[:9])\n",
    "    \n",
    "animation = animation[1:]\n",
    "len(animation)"
   ]
  },
  {
   "cell_type": "code",
   "execution_count": 114,
   "metadata": {
    "collapsed": false
   },
   "outputs": [
    {
     "data": {
      "text/plain": [
       "44"
      ]
     },
     "execution_count": 114,
     "metadata": {},
     "output_type": "execute_result"
    }
   ],
   "source": [
    "# Get list of imdb_ids for top thriller films\n",
    "\n",
    "url = \"http://www.imdb.com/genre/thriller/?ref_=gnr_mn_th_mp\"\n",
    "r = requests.get(url)\n",
    "page = r.content\n",
    "soup = BeautifulSoup(page, 'lxml')\n",
    "\n",
    "results = soup.findAll(class_ = \"title\")\n",
    "results = str(results).split(\"<a href=\\\"/title/\")\n",
    "\n",
    "thriller = []\n",
    "for i in results: \n",
    "    thriller.append(i[:9])\n",
    "    \n",
    "thriller = thriller[1:]\n",
    "len(thriller)"
   ]
  },
  {
   "cell_type": "code",
   "execution_count": 117,
   "metadata": {
    "collapsed": false
   },
   "outputs": [
    {
     "data": {
      "text/plain": [
       "49"
      ]
     },
     "execution_count": 117,
     "metadata": {},
     "output_type": "execute_result"
    }
   ],
   "source": [
    "# Get list of imdb_ids for top western films\n",
    "\n",
    "url = \"http://www.imdb.com/genre/western/?ref_=gnr_mn_we_mp\"\n",
    "r = requests.get(url)\n",
    "page = r.content\n",
    "soup = BeautifulSoup(page, 'lxml')\n",
    "\n",
    "results = soup.findAll(class_ = \"title\")\n",
    "results = str(results).split(\"<a href=\\\"/title/\")\n",
    "\n",
    "western = []\n",
    "for i in results: \n",
    "    western.append(i[:9])\n",
    "    \n",
    "western = western[1:]\n",
    "len(western)"
   ]
  },
  {
   "cell_type": "code",
   "execution_count": 112,
   "metadata": {
    "collapsed": false
   },
   "outputs": [
    {
     "data": {
      "text/plain": [
       "40"
      ]
     },
     "execution_count": 112,
     "metadata": {},
     "output_type": "execute_result"
    }
   ],
   "source": [
    "# Get list of imdb_ids for top fantasy films\n",
    "\n",
    "url = \"http://www.imdb.com/genre/fantasy/?ref_=gnr_mn_fa_mp\"\n",
    "r = requests.get(url)\n",
    "page = r.content\n",
    "soup = BeautifulSoup(page, 'lxml')\n",
    "\n",
    "results = soup.findAll(class_ = \"title\")\n",
    "results = str(results).split(\"<a href=\\\"/title/\")\n",
    "\n",
    "fantasy = []\n",
    "for i in results: \n",
    "    fantasy.append(i[:9])\n",
    "    \n",
    "fantasy = fantasy[1:]\n",
    "len(fantasy)"
   ]
  },
  {
   "cell_type": "code",
   "execution_count": 119,
   "metadata": {
    "collapsed": false
   },
   "outputs": [
    {
     "data": {
      "text/plain": [
       "46"
      ]
     },
     "execution_count": 119,
     "metadata": {},
     "output_type": "execute_result"
    }
   ],
   "source": [
    "# Get list of imdb_ids for top romance films\n",
    "\n",
    "url = \"http://www.imdb.com/genre/romance/?ref_=gnr_mn_ro_mp\"\n",
    "r = requests.get(url)\n",
    "page = r.content\n",
    "soup = BeautifulSoup(page, 'lxml')\n",
    "\n",
    "results = soup.findAll(class_ = \"title\")\n",
    "results = str(results).split(\"<a href=\\\"/title/\")\n",
    "\n",
    "romance = []\n",
    "for i in results: \n",
    "    romance.append(i[:9])\n",
    "    \n",
    "romance = romance[1:]\n",
    "len(romance)  "
   ]
  },
  {
   "cell_type": "code",
   "execution_count": 88,
   "metadata": {
    "collapsed": false
   },
   "outputs": [
    {
     "data": {
      "text/plain": [
       "100"
      ]
     },
     "execution_count": 88,
     "metadata": {},
     "output_type": "execute_result"
    }
   ],
   "source": [
    "# Get imdb_ids for most popular movies\n",
    "\n",
    "url = 'http://www.imdb.com/chart/moviemeter?ref_=nv_mv_mpm_8'\n",
    "r = requests.get(url)\n",
    "page = r.content\n",
    "soup = BeautifulSoup(page, 'lxml')\n",
    "\n",
    "results = soup.findAll(class_ = \"titleColumn\")\n",
    "results = str(results).split(\"n<a href=\\\"/title/\")\n",
    "\n",
    "pop_list = []\n",
    "for i in results: \n",
    "    pop_list.append(i[:9])\n",
    "    \n",
    "pop_list = pop_list[1:]\n",
    "len(pop_list)"
   ]
  },
  {
   "cell_type": "markdown",
   "metadata": {},
   "source": [
    "#### 2. Create scraping function for each imdb_id collected above"
   ]
  },
  {
   "cell_type": "code",
   "execution_count": 460,
   "metadata": {
    "collapsed": false
   },
   "outputs": [],
   "source": [
    "# Create empty lists for future dataframe\n",
    "year = []\n",
    "month = []\n",
    "rating = []\n",
    "votes = []\n",
    "cert = []\n",
    "title_name = []\n",
    "cast_1 = []\n",
    "cast_2 = []\n",
    "cast_3 = []\n",
    "cast_4 = []\n",
    "direct = []\n",
    "writer_1 = []\n",
    "writer_2 = []\n",
    "genre_1 = []\n",
    "genre_2 = []\n",
    "genre_3 = []\n",
    "\n",
    "\n",
    "# Define function to extract all elements from individual pages, iteratively work through imdb_ids \n",
    "def get_all_info(id_list):\n",
    "    for i in id_list: \n",
    "        url = \"http://www.imdb.com/title/\"+ i\n",
    "        r = requests.get(url)\n",
    "        if str(r) == \"<Response [200]>\":\n",
    "            title = imdb.get_title_by_id(i)\n",
    "            try:\n",
    "                year.append(title.year)\n",
    "            except: \n",
    "                year.append(\"no_data\")\n",
    "            try:\n",
    "                month.append(int(((title.release_date).encode('ascii','ignore').split(\"-\"))[1]))\n",
    "            except: \n",
    "                month.append(\"no_data\")\n",
    "            try:\n",
    "                rating.append(title.rating)\n",
    "            except:\n",
    "                rating.append(\"no_data\")\n",
    "            try: \n",
    "                votes.append(title.votes)\n",
    "            except: \n",
    "                votes.append(\"no_data\")\n",
    "            try: \n",
    "                cert.append((title.certification).encode('ascii','ignore'))\n",
    "            except:\n",
    "                cert.append(\"no_data\")\n",
    "            try:\n",
    "                title_name.append((title.title).encode('ascii','ignore'))\n",
    "            except:\n",
    "                title_name.append(\"no_data\")\n",
    "            try:\n",
    "                cast_1.append(str((title.cast_summary)[0]).split(\"\\'\")[1])\n",
    "            except: \n",
    "                cast_1.append(\"no_data\")\n",
    "            try:\n",
    "                cast_2.append(str((title.cast_summary)[1]).split(\"\\'\")[1])\n",
    "            except: \n",
    "                cast_2.append(\"no_data\")\n",
    "            try:\n",
    "                cast_3.append(str((title.cast_summary)[2]).split(\"\\'\")[1])\n",
    "            except:\n",
    "                cast_3.append(\"no_data\")\n",
    "            try:\n",
    "                cast_4.append(str((title.cast_summary)[3]).split(\"\\'\")[1])\n",
    "            except: \n",
    "                cast_4.append(\"no_data\")\n",
    "            try:\n",
    "                direct.append(str((title.directors_summary)[0]).split(\"\\'\")[1])\n",
    "            except:\n",
    "                direct.append(\"no_data\")\n",
    "            try:\n",
    "                writer_1.append(str((title.writers_summary)[0]).split(\"\\'\")[1])\n",
    "            except:\n",
    "                writer_1.append(\"no_data\")\n",
    "            try:\n",
    "                writer_2.append(str((title.writers_summary)[1]).split(\"\\'\")[1])\n",
    "            except:\n",
    "                writer_2.append(\"no_data\")\n",
    "            try:\n",
    "                genre_1.append(((title.genres)[0]).encode('ascii','ignore'))\n",
    "            except:\n",
    "                genre_1.append(\"no_data\")\n",
    "            try:\n",
    "                genre_2.append(((title.genres)[1]).encode('ascii','ignore'))\n",
    "            except:\n",
    "                genre_2.append(\"no_data\")\n",
    "            try:\n",
    "                genre_3.append(((title.genres)[2]).encode('ascii','ignore'))\n",
    "            except:\n",
    "                genre_3.append(\"no_data\")\n",
    "        else:\n",
    "            pass\n",
    "    \n",
    "    # Zip into dataframe\n",
    "    df = pd.DataFrame(zip(title_name, cert, year, month, rating, votes, genre_1, genre_2, genre_3, direct,\\\n",
    "                            cast_1, cast_2, cast_3, cast_4, writer_1, writer_2))\n",
    "    df.columns = [\"title\", \"cert\", \"year\", \"month\", \"rating\", \"votes\", \"genre_1\", \"genre_2\", \"genre_3\",\\\n",
    "                    \"direct\", \"cast_1\", \"cast_2\", \"cast_3\", \"cast_4\", \"writer_1\", \"writer_2\"]\n",
    "    return df"
   ]
  },
  {
   "cell_type": "markdown",
   "metadata": {},
   "source": [
    "#### 3.  Run functions for each list of imbd_ids. Export after each run in order to avoid kernel interruption."
   ]
  },
  {
   "cell_type": "code",
   "execution_count": 461,
   "metadata": {
    "collapsed": true
   },
   "outputs": [],
   "source": [
    "top_250_df = get_all_info(top_250)\n",
    "top_250_df.to_csv('/Users/ebzimm/Desktop/imdb_top_250.csv')"
   ]
  },
  {
   "cell_type": "code",
   "execution_count": 69,
   "metadata": {
    "collapsed": true
   },
   "outputs": [],
   "source": [
    "pop_list_df = get_all_info(pop_list)\n",
    "pop_list_df.to_csv('/Users/ebzimm/Desktop/imdb_pop_list.csv')"
   ]
  },
  {
   "cell_type": "code",
   "execution_count": 79,
   "metadata": {
    "collapsed": true
   },
   "outputs": [],
   "source": [
    "oscars_df = get_all_info(oscars)\n",
    "oscars_df.to_csv('/Users/ebzimm/Desktop/imdb_oscars.csv')"
   ]
  },
  {
   "cell_type": "code",
   "execution_count": 95,
   "metadata": {
    "collapsed": true
   },
   "outputs": [],
   "source": [
    "cult_df = get_all_info(cult_classics)\n",
    "cult_df.to_csv('/Users/ebzimm/Desktop/imdb_cult.csv')"
   ]
  },
  {
   "cell_type": "code",
   "execution_count": 104,
   "metadata": {
    "collapsed": false
   },
   "outputs": [],
   "source": [
    "drama_df = get_all_info(drama)\n",
    "drama_df.to_csv('/Users/ebzimm/Desktop/imdb_drama.csv')"
   ]
  },
  {
   "cell_type": "code",
   "execution_count": 105,
   "metadata": {
    "collapsed": true
   },
   "outputs": [],
   "source": [
    "comedy_df = get_all_info(comedy)\n",
    "comedy_df.to_csv('/Users/ebzimm/Desktop/imdb_comedy.csv')"
   ]
  },
  {
   "cell_type": "code",
   "execution_count": 108,
   "metadata": {
    "collapsed": false
   },
   "outputs": [],
   "source": [
    "action_df = get_all_info(action)\n",
    "action_df.to_csv('/Users/ebzimm/Desktop/imdb_action.csv')"
   ]
  },
  {
   "cell_type": "code",
   "execution_count": 111,
   "metadata": {
    "collapsed": false
   },
   "outputs": [],
   "source": [
    "animation_df = get_all_info(animation)\n",
    "animation_df.to_csv('/Users/ebzimm/Desktop/imdb_animation.csv')"
   ]
  },
  {
   "cell_type": "code",
   "execution_count": 113,
   "metadata": {
    "collapsed": true
   },
   "outputs": [],
   "source": [
    "fantasy_df = get_all_info(fantasy)\n",
    "fantasy_df.to_csv('/Users/ebzimm/Desktop/imdb_fantasy.csv')"
   ]
  },
  {
   "cell_type": "code",
   "execution_count": 116,
   "metadata": {
    "collapsed": true
   },
   "outputs": [],
   "source": [
    "thriller_df = get_all_info(thriller)\n",
    "thriller_df.to_csv('/Users/ebzimm/Desktop/imdb_thriller.csv')"
   ]
  },
  {
   "cell_type": "code",
   "execution_count": 118,
   "metadata": {
    "collapsed": true
   },
   "outputs": [],
   "source": [
    "western_df = get_all_info(western)\n",
    "western_df.to_csv('/Users/ebzimm/Desktop/imdb_western.csv')"
   ]
  },
  {
   "cell_type": "code",
   "execution_count": 122,
   "metadata": {
    "collapsed": true
   },
   "outputs": [],
   "source": [
    "romance_df = get_all_info(romance)\n",
    "romance_df.to_csv('/Users/ebzimm/Desktop/imdb_romance.csv')"
   ]
  },
  {
   "cell_type": "markdown",
   "metadata": {},
   "source": [
    "#### 4. After exporting and compiling results in Excel (including duplicat removal), import .csv to pandas dataframe"
   ]
  },
  {
   "cell_type": "code",
   "execution_count": 489,
   "metadata": {
    "collapsed": false
   },
   "outputs": [],
   "source": [
    "# Import final .csv\n",
    "df = pd.read_csv('/Users/ebzimm/GA-DSI/Projects/projects-weekly/project-06/imdb.csv')\n",
    "\n",
    "# Drop Nan values; ~7% of data (37 rows)\n",
    "df = df.dropna()\n",
    "\n",
    "# Change \"month\" to numeric\n",
    "df[\"month\"] = df[\"month\"].replace(\"no_data\",\"\")\n",
    "df[\"month\"] = pd.to_numeric(df[\"month\"])\n",
    "\n",
    "# Reset index\n",
    "df = df.reset_index(drop=True)"
   ]
  },
  {
   "cell_type": "code",
   "execution_count": 490,
   "metadata": {
    "collapsed": false
   },
   "outputs": [
    {
     "name": "stdout",
     "output_type": "stream",
     "text": [
      "472\n"
     ]
    },
    {
     "data": {
      "text/html": [
       "<div>\n",
       "<table border=\"1\" class=\"dataframe\">\n",
       "  <thead>\n",
       "    <tr style=\"text-align: right;\">\n",
       "      <th></th>\n",
       "      <th>title</th>\n",
       "      <th>cert</th>\n",
       "      <th>year</th>\n",
       "      <th>month</th>\n",
       "      <th>rating</th>\n",
       "      <th>votes</th>\n",
       "      <th>genre_1</th>\n",
       "      <th>genre_2</th>\n",
       "      <th>genre_3</th>\n",
       "      <th>direct</th>\n",
       "      <th>cast_1</th>\n",
       "      <th>cast_2</th>\n",
       "      <th>cast_3</th>\n",
       "      <th>cast_4</th>\n",
       "      <th>writer_1</th>\n",
       "      <th>writer_2</th>\n",
       "    </tr>\n",
       "  </thead>\n",
       "  <tbody>\n",
       "    <tr>\n",
       "      <th>0</th>\n",
       "      <td>The Shawshank Redemption</td>\n",
       "      <td>R</td>\n",
       "      <td>1994</td>\n",
       "      <td>10.0</td>\n",
       "      <td>9.3</td>\n",
       "      <td>1722149.0</td>\n",
       "      <td>Crime</td>\n",
       "      <td>Drama</td>\n",
       "      <td>no_data</td>\n",
       "      <td>Frank Darabont</td>\n",
       "      <td>Tim Robbins</td>\n",
       "      <td>Morgan Freeman</td>\n",
       "      <td>Bob Gunton</td>\n",
       "      <td>William Sadler</td>\n",
       "      <td>Stephen King</td>\n",
       "      <td>Frank Darabont</td>\n",
       "    </tr>\n",
       "    <tr>\n",
       "      <th>1</th>\n",
       "      <td>The Godfather</td>\n",
       "      <td>R</td>\n",
       "      <td>1972</td>\n",
       "      <td>3.0</td>\n",
       "      <td>9.2</td>\n",
       "      <td>1176965.0</td>\n",
       "      <td>Crime</td>\n",
       "      <td>Drama</td>\n",
       "      <td>no_data</td>\n",
       "      <td>Francis Ford Coppola</td>\n",
       "      <td>Marlon Brando</td>\n",
       "      <td>Al Pacino</td>\n",
       "      <td>James Caan</td>\n",
       "      <td>Diane Keaton</td>\n",
       "      <td>Mario Puzo</td>\n",
       "      <td>Francis Ford Coppola</td>\n",
       "    </tr>\n",
       "    <tr>\n",
       "      <th>2</th>\n",
       "      <td>The Godfather: Part II</td>\n",
       "      <td>R</td>\n",
       "      <td>1974</td>\n",
       "      <td>12.0</td>\n",
       "      <td>9.0</td>\n",
       "      <td>806763.0</td>\n",
       "      <td>Crime</td>\n",
       "      <td>Drama</td>\n",
       "      <td>no_data</td>\n",
       "      <td>Francis Ford Coppola</td>\n",
       "      <td>Al Pacino</td>\n",
       "      <td>Robert De Niro</td>\n",
       "      <td>Robert Duvall</td>\n",
       "      <td>Diane Keaton</td>\n",
       "      <td>Francis Ford Coppola</td>\n",
       "      <td>Mario Puzo</td>\n",
       "    </tr>\n",
       "    <tr>\n",
       "      <th>3</th>\n",
       "      <td>The Dark Knight</td>\n",
       "      <td>PG-13</td>\n",
       "      <td>2008</td>\n",
       "      <td>7.0</td>\n",
       "      <td>9.0</td>\n",
       "      <td>1707952.0</td>\n",
       "      <td>Action</td>\n",
       "      <td>Crime</td>\n",
       "      <td>Drama</td>\n",
       "      <td>Christopher Nolan</td>\n",
       "      <td>Christian Bale</td>\n",
       "      <td>Heath Ledger</td>\n",
       "      <td>Aaron Eckhart</td>\n",
       "      <td>Michael Caine</td>\n",
       "      <td>Jonathan Nolan</td>\n",
       "      <td>Christopher Nolan</td>\n",
       "    </tr>\n",
       "    <tr>\n",
       "      <th>4</th>\n",
       "      <td>12 Angry Men</td>\n",
       "      <td>Approved</td>\n",
       "      <td>1957</td>\n",
       "      <td>4.0</td>\n",
       "      <td>8.9</td>\n",
       "      <td>458935.0</td>\n",
       "      <td>Crime</td>\n",
       "      <td>Drama</td>\n",
       "      <td>no_data</td>\n",
       "      <td>Sidney Lumet</td>\n",
       "      <td>Henry Fonda</td>\n",
       "      <td>Lee J. Cobb</td>\n",
       "      <td>Martin Balsam</td>\n",
       "      <td>John Fiedler</td>\n",
       "      <td>Reginald Rose</td>\n",
       "      <td>Reginald Rose</td>\n",
       "    </tr>\n",
       "  </tbody>\n",
       "</table>\n",
       "</div>"
      ],
      "text/plain": [
       "                      title      cert  year  month  rating      votes genre_1  \\\n",
       "0  The Shawshank Redemption         R  1994   10.0     9.3  1722149.0   Crime   \n",
       "1             The Godfather         R  1972    3.0     9.2  1176965.0   Crime   \n",
       "2    The Godfather: Part II         R  1974   12.0     9.0   806763.0   Crime   \n",
       "3           The Dark Knight     PG-13  2008    7.0     9.0  1707952.0  Action   \n",
       "4              12 Angry Men  Approved  1957    4.0     8.9   458935.0   Crime   \n",
       "\n",
       "  genre_2  genre_3                direct          cast_1          cast_2  \\\n",
       "0   Drama  no_data        Frank Darabont     Tim Robbins  Morgan Freeman   \n",
       "1   Drama  no_data  Francis Ford Coppola   Marlon Brando       Al Pacino   \n",
       "2   Drama  no_data  Francis Ford Coppola       Al Pacino  Robert De Niro   \n",
       "3   Crime    Drama     Christopher Nolan  Christian Bale    Heath Ledger   \n",
       "4   Drama  no_data          Sidney Lumet     Henry Fonda     Lee J. Cobb   \n",
       "\n",
       "          cast_3          cast_4              writer_1              writer_2  \n",
       "0     Bob Gunton  William Sadler          Stephen King        Frank Darabont  \n",
       "1     James Caan    Diane Keaton            Mario Puzo  Francis Ford Coppola  \n",
       "2  Robert Duvall    Diane Keaton  Francis Ford Coppola            Mario Puzo  \n",
       "3  Aaron Eckhart   Michael Caine        Jonathan Nolan     Christopher Nolan  \n",
       "4  Martin Balsam    John Fiedler         Reginald Rose         Reginald Rose  "
      ]
     },
     "execution_count": 490,
     "metadata": {},
     "output_type": "execute_result"
    }
   ],
   "source": [
    "# Check results\n",
    "print len(df)\n",
    "df.head()"
   ]
  },
  {
   "cell_type": "markdown",
   "metadata": {},
   "source": [
    "## Refine results\n",
    "#### a. Set performance metrics for \"cast,\" \"director,\" and \"writers\""
   ]
  },
  {
   "cell_type": "code",
   "execution_count": 491,
   "metadata": {
    "collapsed": false
   },
   "outputs": [],
   "source": [
    "# Identify frequency of all actors across all movies\n",
    "# Create list of top 5% of actors (ranked by frequency in database)\n",
    "# Count how many top actors are cast per movie\n",
    "\n",
    "cast = pd.DataFrame([df[\"cast_1\"],df[\"cast_2\"],df[\"cast_3\"],df[\"cast_4\"]]).T\n",
    "cast = (cast.stack().value_counts()).head(70) #70 = top 5% of actors\n",
    "\n",
    "cast_1 = []\n",
    "cast_2 = []\n",
    "cast_3 = []\n",
    "cast_4 = []\n",
    "\n",
    "def count_list(data, param_list, new_list):\n",
    "    for i in data:\n",
    "        if i in param_list:\n",
    "            new_list.append(1)\n",
    "        else: \n",
    "            new_list.append(0)\n",
    "    return new_list\n",
    "\n",
    "# Redefine columns as binary - 1 for top actor, else 0\n",
    "df['cast_1'] = pd.DataFrame(count_list(df['cast_1'], cast, cast_1))\n",
    "df['cast_2'] = pd.DataFrame(count_list(df['cast_2'], cast, cast_2))\n",
    "df['cast_3'] = pd.DataFrame(count_list(df['cast_3'], cast, cast_3))\n",
    "df['cast_4'] = pd.DataFrame(count_list(df['cast_4'], cast, cast_4))\n",
    "\n",
    "# Create new column with sum of binary columns\n",
    "df['top_actors'] = df['cast_1'] + df['cast_2'] + df['cast_3'] + df['cast_4']\n",
    "\n",
    "# Remove old columns\n",
    "del df['cast_1']\n",
    "del df['cast_2']\n",
    "del df['cast_3']\n",
    "del df['cast_4']"
   ]
  },
  {
   "cell_type": "code",
   "execution_count": 492,
   "metadata": {
    "collapsed": false
   },
   "outputs": [],
   "source": [
    "# Identify frequency of all writers across all movies\n",
    "# Create list of top 5% of writers (ranked by frequency in database)\n",
    "# Count how many top writers are cast per movie\n",
    "\n",
    "writers = pd.DataFrame([df[\"writer_1\"],df[\"writer_2\"]]).T\n",
    "writers = (writers.stack().value_counts()).head(32) # 32 = top 5% of writers\n",
    "\n",
    "writer_1 = []\n",
    "writer_2 = []\n",
    "\n",
    "def count_list(data, param_list, new_list):\n",
    "    for i in data:\n",
    "        if i in param_list:\n",
    "            new_list.append(1)\n",
    "        else: \n",
    "            new_list.append(0)\n",
    "    return new_list\n",
    "\n",
    "# Redefine columns as binary - 1 for top writer, else 0\n",
    "df['writer_1'] = pd.DataFrame(count_list(df['writer_1'], writers, writer_1))\n",
    "df['writer_2'] = pd.DataFrame(count_list(df['writer_2'], writers, writer_2))\n",
    "\n",
    "# Create new column with sum of binary columns\n",
    "df['top_writers'] = df['writer_1'] + df['writer_2']\n",
    "\n",
    "# Remove old columns\n",
    "del df['writer_1']\n",
    "del df['writer_2']"
   ]
  },
  {
   "cell_type": "code",
   "execution_count": 493,
   "metadata": {
    "collapsed": false
   },
   "outputs": [],
   "source": [
    "# Identify frequency of directors across all movies\n",
    "# Create list of top 10% of directors (ranked by frequency in database)\n",
    "# Assign binary variable for top-director or non-top-director\n",
    "\n",
    "directs = pd.DataFrame(df[\"direct\"]).T\n",
    "directs = (directs.stack().value_counts()).head(31) # 31 = top 10% of directors\n",
    "len(directs)\n",
    "\n",
    "directors = []\n",
    "\n",
    "def count_list(data, param_list, new_list):\n",
    "    for i in data:\n",
    "        if i in param_list:\n",
    "            new_list.append(1)\n",
    "        else: \n",
    "            new_list.append(0)\n",
    "    return new_list\n",
    "\n",
    "# Redefine columns as binary - 1 for top director, else 0\n",
    "df['direct'] = pd.DataFrame(count_list(df['direct'], directs, directors))"
   ]
  },
  {
   "cell_type": "code",
   "execution_count": 494,
   "metadata": {
    "collapsed": false
   },
   "outputs": [
    {
     "data": {
      "text/html": [
       "<div>\n",
       "<table border=\"1\" class=\"dataframe\">\n",
       "  <thead>\n",
       "    <tr style=\"text-align: right;\">\n",
       "      <th></th>\n",
       "      <th>title</th>\n",
       "      <th>cert</th>\n",
       "      <th>year</th>\n",
       "      <th>month</th>\n",
       "      <th>rating</th>\n",
       "      <th>votes</th>\n",
       "      <th>genre_1</th>\n",
       "      <th>genre_2</th>\n",
       "      <th>genre_3</th>\n",
       "      <th>direct</th>\n",
       "      <th>top_actors</th>\n",
       "      <th>top_writers</th>\n",
       "    </tr>\n",
       "  </thead>\n",
       "  <tbody>\n",
       "    <tr>\n",
       "      <th>0</th>\n",
       "      <td>The Shawshank Redemption</td>\n",
       "      <td>R</td>\n",
       "      <td>1994</td>\n",
       "      <td>10.0</td>\n",
       "      <td>9.3</td>\n",
       "      <td>1722149.0</td>\n",
       "      <td>Crime</td>\n",
       "      <td>Drama</td>\n",
       "      <td>no_data</td>\n",
       "      <td>0</td>\n",
       "      <td>1</td>\n",
       "      <td>1</td>\n",
       "    </tr>\n",
       "    <tr>\n",
       "      <th>1</th>\n",
       "      <td>The Godfather</td>\n",
       "      <td>R</td>\n",
       "      <td>1972</td>\n",
       "      <td>3.0</td>\n",
       "      <td>9.2</td>\n",
       "      <td>1176965.0</td>\n",
       "      <td>Crime</td>\n",
       "      <td>Drama</td>\n",
       "      <td>no_data</td>\n",
       "      <td>1</td>\n",
       "      <td>1</td>\n",
       "      <td>1</td>\n",
       "    </tr>\n",
       "    <tr>\n",
       "      <th>2</th>\n",
       "      <td>The Godfather: Part II</td>\n",
       "      <td>R</td>\n",
       "      <td>1974</td>\n",
       "      <td>12.0</td>\n",
       "      <td>9.0</td>\n",
       "      <td>806763.0</td>\n",
       "      <td>Crime</td>\n",
       "      <td>Drama</td>\n",
       "      <td>no_data</td>\n",
       "      <td>1</td>\n",
       "      <td>3</td>\n",
       "      <td>1</td>\n",
       "    </tr>\n",
       "    <tr>\n",
       "      <th>3</th>\n",
       "      <td>The Dark Knight</td>\n",
       "      <td>PG-13</td>\n",
       "      <td>2008</td>\n",
       "      <td>7.0</td>\n",
       "      <td>9.0</td>\n",
       "      <td>1707952.0</td>\n",
       "      <td>Action</td>\n",
       "      <td>Crime</td>\n",
       "      <td>Drama</td>\n",
       "      <td>1</td>\n",
       "      <td>1</td>\n",
       "      <td>2</td>\n",
       "    </tr>\n",
       "    <tr>\n",
       "      <th>4</th>\n",
       "      <td>12 Angry Men</td>\n",
       "      <td>Approved</td>\n",
       "      <td>1957</td>\n",
       "      <td>4.0</td>\n",
       "      <td>8.9</td>\n",
       "      <td>458935.0</td>\n",
       "      <td>Crime</td>\n",
       "      <td>Drama</td>\n",
       "      <td>no_data</td>\n",
       "      <td>1</td>\n",
       "      <td>1</td>\n",
       "      <td>0</td>\n",
       "    </tr>\n",
       "  </tbody>\n",
       "</table>\n",
       "</div>"
      ],
      "text/plain": [
       "                      title      cert  year  month  rating      votes genre_1  \\\n",
       "0  The Shawshank Redemption         R  1994   10.0     9.3  1722149.0   Crime   \n",
       "1             The Godfather         R  1972    3.0     9.2  1176965.0   Crime   \n",
       "2    The Godfather: Part II         R  1974   12.0     9.0   806763.0   Crime   \n",
       "3           The Dark Knight     PG-13  2008    7.0     9.0  1707952.0  Action   \n",
       "4              12 Angry Men  Approved  1957    4.0     8.9   458935.0   Crime   \n",
       "\n",
       "  genre_2  genre_3  direct  top_actors  top_writers  \n",
       "0   Drama  no_data       0           1            1  \n",
       "1   Drama  no_data       1           1            1  \n",
       "2   Drama  no_data       1           3            1  \n",
       "3   Crime    Drama       1           1            2  \n",
       "4   Drama  no_data       1           1            0  "
      ]
     },
     "execution_count": 494,
     "metadata": {},
     "output_type": "execute_result"
    }
   ],
   "source": [
    "# Check results\n",
    "df.head()"
   ]
  },
  {
   "cell_type": "markdown",
   "metadata": {},
   "source": [
    "#### 2. Create dummy variables for certification & month"
   ]
  },
  {
   "cell_type": "code",
   "execution_count": 495,
   "metadata": {
    "collapsed": false
   },
   "outputs": [],
   "source": [
    "# Remove unrelated labels (19% of data) and replace \"Not Rated\" with \"Unrated\" (consolidation)\n",
    "ratings = ['12A','15A', 'Approved', 'E','G','GP','M','MA15+','Passed','R18+','R21','TV-14','TV-G''TV-MA','TV-PG']\n",
    "df[\"cert\"] = df[\"cert\"].replace('Not Rated','Unrated')\n",
    "for i in ratings:\n",
    "    df = df[df.cert != i]\n",
    "\n",
    "# Create dummy variables for certification\n",
    "cert = pd.get_dummies(df['cert'])\n",
    "cert = pd.DataFrame(cert)\n",
    "cert.head()\n",
    "\n",
    "# Delete old column in df\n",
    "del df['cert']"
   ]
  },
  {
   "cell_type": "code",
   "execution_count": 496,
   "metadata": {
    "collapsed": false
   },
   "outputs": [],
   "source": [
    "# Create dummy variables for month\n",
    "month = pd.get_dummies(df['month'])\n",
    "month.columns = [\"Jan\",\"Feb\",\"Mar\",\"Apr\",\"May\",\"Jun\",\"Jul\",\"Aug\",\"Sep\",\"Oct\",\"Nov\",\"Dec\"]\n",
    "month = pd.DataFrame(month)\n",
    "month.head()\n",
    "\n",
    "# Delete old column in df\n",
    "del df['month']"
   ]
  },
  {
   "cell_type": "markdown",
   "metadata": {},
   "source": [
    "#### 3. Final data set!"
   ]
  },
  {
   "cell_type": "code",
   "execution_count": 497,
   "metadata": {
    "collapsed": false
   },
   "outputs": [
    {
     "name": "stdout",
     "output_type": "stream",
     "text": [
      "379\n"
     ]
    },
    {
     "data": {
      "text/html": [
       "<div>\n",
       "<table border=\"1\" class=\"dataframe\">\n",
       "  <thead>\n",
       "    <tr style=\"text-align: right;\">\n",
       "      <th></th>\n",
       "      <th>title</th>\n",
       "      <th>year</th>\n",
       "      <th>rating</th>\n",
       "      <th>votes</th>\n",
       "      <th>genre_1</th>\n",
       "      <th>genre_2</th>\n",
       "      <th>genre_3</th>\n",
       "      <th>direct</th>\n",
       "      <th>top_actors</th>\n",
       "      <th>top_writers</th>\n",
       "      <th>...</th>\n",
       "      <th>Nov</th>\n",
       "      <th>Dec</th>\n",
       "      <th>NC-17</th>\n",
       "      <th>PG</th>\n",
       "      <th>PG-13</th>\n",
       "      <th>R</th>\n",
       "      <th>TV-G</th>\n",
       "      <th>TV-MA</th>\n",
       "      <th>Unrated</th>\n",
       "      <th>no_data</th>\n",
       "    </tr>\n",
       "  </thead>\n",
       "  <tbody>\n",
       "    <tr>\n",
       "      <th>0</th>\n",
       "      <td>The Shawshank Redemption</td>\n",
       "      <td>1994</td>\n",
       "      <td>9.3</td>\n",
       "      <td>1722149.0</td>\n",
       "      <td>Crime</td>\n",
       "      <td>Drama</td>\n",
       "      <td>no_data</td>\n",
       "      <td>0</td>\n",
       "      <td>1</td>\n",
       "      <td>1</td>\n",
       "      <td>...</td>\n",
       "      <td>0.0</td>\n",
       "      <td>0.0</td>\n",
       "      <td>0.0</td>\n",
       "      <td>0.0</td>\n",
       "      <td>0.0</td>\n",
       "      <td>1.0</td>\n",
       "      <td>0.0</td>\n",
       "      <td>0.0</td>\n",
       "      <td>0.0</td>\n",
       "      <td>0.0</td>\n",
       "    </tr>\n",
       "    <tr>\n",
       "      <th>1</th>\n",
       "      <td>The Godfather</td>\n",
       "      <td>1972</td>\n",
       "      <td>9.2</td>\n",
       "      <td>1176965.0</td>\n",
       "      <td>Crime</td>\n",
       "      <td>Drama</td>\n",
       "      <td>no_data</td>\n",
       "      <td>1</td>\n",
       "      <td>1</td>\n",
       "      <td>1</td>\n",
       "      <td>...</td>\n",
       "      <td>0.0</td>\n",
       "      <td>0.0</td>\n",
       "      <td>0.0</td>\n",
       "      <td>0.0</td>\n",
       "      <td>0.0</td>\n",
       "      <td>1.0</td>\n",
       "      <td>0.0</td>\n",
       "      <td>0.0</td>\n",
       "      <td>0.0</td>\n",
       "      <td>0.0</td>\n",
       "    </tr>\n",
       "    <tr>\n",
       "      <th>2</th>\n",
       "      <td>The Godfather: Part II</td>\n",
       "      <td>1974</td>\n",
       "      <td>9.0</td>\n",
       "      <td>806763.0</td>\n",
       "      <td>Crime</td>\n",
       "      <td>Drama</td>\n",
       "      <td>no_data</td>\n",
       "      <td>1</td>\n",
       "      <td>3</td>\n",
       "      <td>1</td>\n",
       "      <td>...</td>\n",
       "      <td>0.0</td>\n",
       "      <td>1.0</td>\n",
       "      <td>0.0</td>\n",
       "      <td>0.0</td>\n",
       "      <td>0.0</td>\n",
       "      <td>1.0</td>\n",
       "      <td>0.0</td>\n",
       "      <td>0.0</td>\n",
       "      <td>0.0</td>\n",
       "      <td>0.0</td>\n",
       "    </tr>\n",
       "    <tr>\n",
       "      <th>3</th>\n",
       "      <td>The Dark Knight</td>\n",
       "      <td>2008</td>\n",
       "      <td>9.0</td>\n",
       "      <td>1707952.0</td>\n",
       "      <td>Action</td>\n",
       "      <td>Crime</td>\n",
       "      <td>Drama</td>\n",
       "      <td>1</td>\n",
       "      <td>1</td>\n",
       "      <td>2</td>\n",
       "      <td>...</td>\n",
       "      <td>0.0</td>\n",
       "      <td>0.0</td>\n",
       "      <td>0.0</td>\n",
       "      <td>0.0</td>\n",
       "      <td>1.0</td>\n",
       "      <td>0.0</td>\n",
       "      <td>0.0</td>\n",
       "      <td>0.0</td>\n",
       "      <td>0.0</td>\n",
       "      <td>0.0</td>\n",
       "    </tr>\n",
       "    <tr>\n",
       "      <th>5</th>\n",
       "      <td>Schindler's List</td>\n",
       "      <td>1993</td>\n",
       "      <td>8.9</td>\n",
       "      <td>881972.0</td>\n",
       "      <td>Biography</td>\n",
       "      <td>Drama</td>\n",
       "      <td>History</td>\n",
       "      <td>1</td>\n",
       "      <td>2</td>\n",
       "      <td>0</td>\n",
       "      <td>...</td>\n",
       "      <td>0.0</td>\n",
       "      <td>0.0</td>\n",
       "      <td>0.0</td>\n",
       "      <td>0.0</td>\n",
       "      <td>0.0</td>\n",
       "      <td>1.0</td>\n",
       "      <td>0.0</td>\n",
       "      <td>0.0</td>\n",
       "      <td>0.0</td>\n",
       "      <td>0.0</td>\n",
       "    </tr>\n",
       "  </tbody>\n",
       "</table>\n",
       "<p>5 rows × 30 columns</p>\n",
       "</div>"
      ],
      "text/plain": [
       "                      title  year  rating      votes    genre_1 genre_2  \\\n",
       "0  The Shawshank Redemption  1994     9.3  1722149.0      Crime   Drama   \n",
       "1             The Godfather  1972     9.2  1176965.0      Crime   Drama   \n",
       "2    The Godfather: Part II  1974     9.0   806763.0      Crime   Drama   \n",
       "3           The Dark Knight  2008     9.0  1707952.0     Action   Crime   \n",
       "5          Schindler's List  1993     8.9   881972.0  Biography   Drama   \n",
       "\n",
       "   genre_3  direct  top_actors  top_writers   ...     Nov  Dec  NC-17   PG  \\\n",
       "0  no_data       0           1            1   ...     0.0  0.0    0.0  0.0   \n",
       "1  no_data       1           1            1   ...     0.0  0.0    0.0  0.0   \n",
       "2  no_data       1           3            1   ...     0.0  1.0    0.0  0.0   \n",
       "3    Drama       1           1            2   ...     0.0  0.0    0.0  0.0   \n",
       "5  History       1           2            0   ...     0.0  0.0    0.0  0.0   \n",
       "\n",
       "   PG-13    R  TV-G  TV-MA  Unrated  no_data  \n",
       "0    0.0  1.0   0.0    0.0      0.0      0.0  \n",
       "1    0.0  1.0   0.0    0.0      0.0      0.0  \n",
       "2    0.0  1.0   0.0    0.0      0.0      0.0  \n",
       "3    1.0  0.0   0.0    0.0      0.0      0.0  \n",
       "5    0.0  1.0   0.0    0.0      0.0      0.0  \n",
       "\n",
       "[5 rows x 30 columns]"
      ]
     },
     "execution_count": 497,
     "metadata": {},
     "output_type": "execute_result"
    }
   ],
   "source": [
    "# Concatenate dummy variables with original df and check results\n",
    "df = pd.concat([df,month,cert], axis=1)\n",
    "print len(df)\n",
    "df.head()"
   ]
  },
  {
   "cell_type": "markdown",
   "metadata": {},
   "source": [
    "## Data Visualization"
   ]
  },
  {
   "cell_type": "code",
   "execution_count": 515,
   "metadata": {
    "collapsed": false
   },
   "outputs": [
    {
     "name": "stdout",
     "output_type": "stream",
     "text": [
      "Rating Mean: 7.69841688654\n",
      "Rating Median: 8.1\n"
     ]
    },
    {
     "data": {
      "image/png": "[encoded data removed]",
      "text/plain": [
       "<matplotlib.figure.Figure at 0x1ca0d7b10>"
      ]
     },
     "metadata": {},
     "output_type": "display_data"
    }
   ],
   "source": [
    "# Distribution of \"rating\"\n",
    "df['rating'].plot(kind = 'hist')\n",
    "plt.axvline(np.median(df['rating']), color = \"orange\")\n",
    "plt.title('Distribution of Ratings')\n",
    "    \n",
    "print \"Rating Mean:\",np.mean(df['rating'])\n",
    "print \"Rating Median:\",np.median(df['rating'])"
   ]
  },
  {
   "cell_type": "code",
   "execution_count": 516,
   "metadata": {
    "collapsed": false
   },
   "outputs": [
    {
     "data": {
      "text/plain": [
       "<seaborn.axisgrid.PairGrid at 0x1ca0d7a10>"
      ]
     },
     "execution_count": 516,
     "metadata": {},
     "output_type": "execute_result"
    },
    {
     "data": {
      "image/png": "[encoded data removed]",
      "text/plain": [
       "<matplotlib.figure.Figure at 0x1ca0d7a90>"
      ]
     },
     "metadata": {},
     "output_type": "display_data"
    }
   ],
   "source": [
    "# Eyeball for correlations\n",
    "sns.pairplot(df, vars = [\"rating\", \"direct\", \"top_actors\", \"top_writers\"])"
   ]
  },
  {
   "cell_type": "markdown",
   "metadata": {},
   "source": [
    "## Tree-Based Model Building with Ensemble Techniques"
   ]
  },
  {
   "cell_type": "code",
   "execution_count": 475,
   "metadata": {
    "collapsed": true
   },
   "outputs": [],
   "source": [
    "# Set a threshold and convert target to binary (1 if rating is above 8.5, 0 if rating is below)\n",
    "# Define X and y variables\n",
    "\n",
    "threshold = 8.3 # Mean and median of top_250 listings\n",
    "\n",
    "y = df['rating'].apply(lambda x: 1 if x > threshold else 0)\n",
    "X = df.copy()\n",
    "\n",
    "# Food for thought: what could each of these offer if I left them in the model?\n",
    "del X['votes']\n",
    "del X['rating']\n",
    "del X['title']\n",
    "del X['year']\n",
    "del X['genre_1']\n",
    "del X['genre_2']\n",
    "del X['genre_3']"
   ]
  },
  {
   "cell_type": "code",
   "execution_count": 476,
   "metadata": {
    "collapsed": false
   },
   "outputs": [
    {
     "data": {
      "text/plain": [
       "ExtraTreesClassifier(bootstrap=False, class_weight='balanced',\n",
       "           criterion='gini', max_depth=None, max_features='auto',\n",
       "           max_leaf_nodes=None, min_samples_leaf=1, min_samples_split=2,\n",
       "           min_weight_fraction_leaf=0.0, n_estimators=10, n_jobs=-1,\n",
       "           oob_score=False, random_state=None, verbose=0, warm_start=False)"
      ]
     },
     "execution_count": 476,
     "metadata": {},
     "output_type": "execute_result"
    }
   ],
   "source": [
    "# Declare estimators and fit models\n",
    "\n",
    "dt = DecisionTreeClassifier(max_depth = 3, min_samples_split = 2)\n",
    "rf = RandomForestClassifier(class_weight='balanced', n_jobs=-1)\n",
    "et = ExtraTreesClassifier(class_weight='balanced', n_jobs=-1)\n",
    "\n",
    "dt.fit(X, y)\n",
    "rf.fit(X, y)\n",
    "et.fit(X, y)"
   ]
  },
  {
   "cell_type": "code",
   "execution_count": 528,
   "metadata": {
    "collapsed": false
   },
   "outputs": [
    {
     "data": {
      "text/html": [
       "<div>\n",
       "<table border=\"1\" class=\"dataframe\">\n",
       "  <thead>\n",
       "    <tr style=\"text-align: right;\">\n",
       "      <th></th>\n",
       "      <th>dt_importance</th>\n",
       "      <th>rf_importance</th>\n",
       "      <th>et_importance</th>\n",
       "    </tr>\n",
       "  </thead>\n",
       "  <tbody>\n",
       "    <tr>\n",
       "      <th>top_actors</th>\n",
       "      <td>0.391030</td>\n",
       "      <td>0.181599</td>\n",
       "      <td>0.178687</td>\n",
       "    </tr>\n",
       "    <tr>\n",
       "      <th>writer_count</th>\n",
       "      <td>0.208251</td>\n",
       "      <td>0.151466</td>\n",
       "      <td>0.122985</td>\n",
       "    </tr>\n",
       "    <tr>\n",
       "      <th>direct</th>\n",
       "      <td>0.095331</td>\n",
       "      <td>0.078537</td>\n",
       "      <td>0.066619</td>\n",
       "    </tr>\n",
       "    <tr>\n",
       "      <th>Feb</th>\n",
       "      <td>0.100490</td>\n",
       "      <td>0.077368</td>\n",
       "      <td>0.053745</td>\n",
       "    </tr>\n",
       "    <tr>\n",
       "      <th>R</th>\n",
       "      <td>0.000000</td>\n",
       "      <td>0.056388</td>\n",
       "      <td>0.054356</td>\n",
       "    </tr>\n",
       "    <tr>\n",
       "      <th>Nov</th>\n",
       "      <td>0.000000</td>\n",
       "      <td>0.050116</td>\n",
       "      <td>0.056715</td>\n",
       "    </tr>\n",
       "    <tr>\n",
       "      <th>Dec</th>\n",
       "      <td>0.000000</td>\n",
       "      <td>0.044317</td>\n",
       "      <td>0.045473</td>\n",
       "    </tr>\n",
       "    <tr>\n",
       "      <th>Unrated</th>\n",
       "      <td>0.000000</td>\n",
       "      <td>0.043605</td>\n",
       "      <td>0.039335</td>\n",
       "    </tr>\n",
       "    <tr>\n",
       "      <th>Mar</th>\n",
       "      <td>0.000000</td>\n",
       "      <td>0.040884</td>\n",
       "      <td>0.030907</td>\n",
       "    </tr>\n",
       "    <tr>\n",
       "      <th>Jun</th>\n",
       "      <td>0.000000</td>\n",
       "      <td>0.032212</td>\n",
       "      <td>0.030930</td>\n",
       "    </tr>\n",
       "  </tbody>\n",
       "</table>\n",
       "</div>"
      ],
      "text/plain": [
       "              dt_importance  rf_importance  et_importance\n",
       "top_actors         0.391030       0.181599       0.178687\n",
       "writer_count       0.208251       0.151466       0.122985\n",
       "direct             0.095331       0.078537       0.066619\n",
       "Feb                0.100490       0.077368       0.053745\n",
       "R                  0.000000       0.056388       0.054356\n",
       "Nov                0.000000       0.050116       0.056715\n",
       "Dec                0.000000       0.044317       0.045473\n",
       "Unrated            0.000000       0.043605       0.039335\n",
       "Mar                0.000000       0.040884       0.030907\n",
       "Jun                0.000000       0.032212       0.030930"
      ]
     },
     "execution_count": 528,
     "metadata": {},
     "output_type": "execute_result"
    },
    {
     "data": {
      "image/png": "[encoded data removed]",
      "text/plain": [
       "<matplotlib.figure.Figure at 0x1cd040c10>"
      ]
     },
     "metadata": {},
     "output_type": "display_data"
    }
   ],
   "source": [
    "# Find feature importances\n",
    "importances = rf.feature_importances_\n",
    "\n",
    "# Plot feature importances, sorted by ascending order on RandomForestClassifier\n",
    "importances = pd.DataFrame(zip(dt.feature_importances_,\n",
    "                               rf.feature_importances_,\n",
    "                               et.feature_importances_),\n",
    "                           index=X.columns,\n",
    "                           columns=['dt_importance',\n",
    "                                    'rf_importance',\n",
    "                                    'et_importance']).sort_values('rf_importance',\n",
    "                                                                   ascending=False)\n",
    "\n",
    "                           \n",
    "importances.plot(kind='bar', figsize=(16,9))\n",
    "plt.title('Feature Importance by Classifer')\n",
    "importances.sort_values(by = \"rf_importance\", ascending = False).head(10)"
   ]
  },
  {
   "cell_type": "code",
   "execution_count": 478,
   "metadata": {
    "collapsed": false
   },
   "outputs": [
    {
     "name": "stdout",
     "output_type": "stream",
     "text": [
      "Decision Tree Score:\t0.829 ± 0.024\n",
      "Random Forest Score:\t0.777 ± 0.079\n",
      "Extra Trees Score:\t0.785 ± 0.061\n"
     ]
    }
   ],
   "source": [
    "# Check scores for each estimator\n",
    "\n",
    "cv = StratifiedKFold(y, n_folds=10, shuffle=True, random_state=21)\n",
    "\n",
    "def classifier(model, name):\n",
    "    s = cross_val_score(model, X , y , cv=cv, n_jobs = -1) # n_jobs = -1 means run on all threads\n",
    "    print(\"{} Score:\\t{:0.3} ± {:0.3}\".format(name, s.mean().round(3), s.std().round(3)))\n",
    "\n",
    "classifier(dt, \"Decision Tree\")\n",
    "classifier(rf, \"Random Forest\")\n",
    "classifier(et, \"Extra Trees\")"
   ]
  },
  {
   "cell_type": "code",
   "execution_count": 480,
   "metadata": {
    "collapsed": false
   },
   "outputs": [],
   "source": [
    "# Predictions and probabilities\n",
    "\n",
    "y_pred_rf = rf.predict(X)\n",
    "y_prob_rf = rf.predict_proba(X)"
   ]
  },
  {
   "cell_type": "code",
   "execution_count": 481,
   "metadata": {
    "collapsed": false
   },
   "outputs": [
    {
     "name": "stdout",
     "output_type": "stream",
     "text": [
      "             precision    recall  f1-score   support\n",
      "\n",
      "          0       0.97      0.92      0.95       313\n",
      "          1       0.70      0.86      0.78        66\n",
      "\n",
      "avg / total       0.92      0.91      0.92       379\n",
      "\n"
     ]
    }
   ],
   "source": [
    "# Classification Report\n",
    "\n",
    "print classification_report(y,y_pred_rf)"
   ]
  },
  {
   "cell_type": "code",
   "execution_count": 482,
   "metadata": {
    "collapsed": false
   },
   "outputs": [
    {
     "name": "stdout",
     "output_type": "stream",
     "text": [
      "Confusion Matrix\n"
     ]
    },
    {
     "data": {
      "text/html": [
       "<div>\n",
       "<table border=\"1\" class=\"dataframe\">\n",
       "  <thead>\n",
       "    <tr style=\"text-align: right;\">\n",
       "      <th></th>\n",
       "      <th>&gt;8.5</th>\n",
       "      <th>&lt;8.5</th>\n",
       "    </tr>\n",
       "  </thead>\n",
       "  <tbody>\n",
       "    <tr>\n",
       "      <th>&gt;8.5</th>\n",
       "      <td>57</td>\n",
       "      <td>9</td>\n",
       "    </tr>\n",
       "    <tr>\n",
       "      <th>&lt;8.5</th>\n",
       "      <td>24</td>\n",
       "      <td>289</td>\n",
       "    </tr>\n",
       "  </tbody>\n",
       "</table>\n",
       "</div>"
      ],
      "text/plain": [
       "      >8.5  <8.5\n",
       ">8.5    57     9\n",
       "<8.5    24   289"
      ]
     },
     "execution_count": 482,
     "metadata": {},
     "output_type": "execute_result"
    }
   ],
   "source": [
    "# Confusion Matrix\n",
    "\n",
    "conmat = np.array(confusion_matrix(y, y_pred_rf, labels=[1,0]))\n",
    "print \"Confusion Matrix\"\n",
    "pd.DataFrame(conmat, index=['>8.5','<8.5'],\n",
    "                            columns=['>8.5','<8.5'])\n"
   ]
  },
  {
   "cell_type": "code",
   "execution_count": 483,
   "metadata": {
    "collapsed": false
   },
   "outputs": [
    {
     "data": {
      "image/png": "[encoded data removed]",
      "text/plain": [
       "<matplotlib.figure.Figure at 0x1ae967fd0>"
      ]
     },
     "metadata": {},
     "output_type": "display_data"
    }
   ],
   "source": [
    "# Plot ROC Curve\n",
    "\n",
    "y_pred_rf = rf.predict_proba(X)[:, 1]\n",
    "fpr_rf, tpr_rf, _ = roc_curve(y, y_pred_rf)\n",
    "ROC_AUC = auc(fpr_rf, tpr_rf)\n",
    "\n",
    "plt.figure(figsize=[11,9])\n",
    "plt.plot(fpr_rf, tpr_rf, label='ROC curve (area = %0.2f)' % ROC_AUC)\n",
    "plt.xlabel('False positive rate')\n",
    "plt.ylabel('True positive rate')\n",
    "plt.title('ROC curve')\n",
    "plt.legend(loc='best')\n",
    "plt.show()"
   ]
  },
  {
   "cell_type": "markdown",
   "metadata": {},
   "source": [
    "## A blog post presenting the results of your findings as a report to Netflix, including:\n",
    "- a problem statement\n",
    "- summary statistics of the various factors (e.g. year, number of ratings, etc.)\n",
    "- your model\n",
    "- at least 2 graphics\n",
    "- and your recommendations for next steps"
   ]
  },
  {
   "cell_type": "markdown",
   "metadata": {},
   "source": [
    "https://betsy-zimm.squarespace.com/blog"
   ]
  },
  {
   "cell_type": "code",
   "execution_count": null,
   "metadata": {
    "collapsed": true
   },
   "outputs": [],
   "source": []
  }
 ],
 "metadata": {
  "kernelspec": {
   "display_name": "Python [Root]",
   "language": "python",
   "name": "Python [Root]"
  },
  "language_info": {
   "codemirror_mode": {
    "name": "ipython",
    "version": 2
   },
   "file_extension": ".py",
   "mimetype": "text/x-python",
   "name": "python",
   "nbconvert_exporter": "python",
   "pygments_lexer": "ipython2",
   "version": "2.7.12"
  }
 },
 "nbformat": 4,
 "nbformat_minor": 0
}
