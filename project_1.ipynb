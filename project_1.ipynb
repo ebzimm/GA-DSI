{
 "cells": [
  {
   "cell_type": "markdown",
   "metadata": {},
   "source": [
    "# Project 1\n",
    "\n",
    "## Step 1: Open the `sat_scores.csv` file. Investigate the data, and answer the questions below.\n"
   ]
  },
  {
   "cell_type": "markdown",
   "metadata": {},
   "source": [
    "##### 1. What does the data describe?"
   ]
  },
  {
   "cell_type": "markdown",
   "metadata": {},
   "source": [
    "The rate of participation and average math and verbal scores by state."
   ]
  },
  {
   "cell_type": "markdown",
   "metadata": {},
   "source": [
    "##### 2. Does the data look complete? Are there any obvious issues with the observations?"
   ]
  },
  {
   "cell_type": "markdown",
   "metadata": {},
   "source": [
    "Yes, the data looks complete. All 50 states + Washington D.C. are included. However, there are curiously low rates of participation in some states; this may be a red flag requiring further investigation. For the purposes of this project, let's assume they are correct."
   ]
  },
  {
   "cell_type": "markdown",
   "metadata": {},
   "source": [
    "##### 3. Create a data dictionary for the dataset."
   ]
  },
  {
   "cell_type": "code",
   "execution_count": 2,
   "metadata": {
    "collapsed": false
   },
   "outputs": [],
   "source": [
    "import pandas as pd\n",
    "import numpy as np\n",
    "\n",
    "data = []\n",
    "dict = {}\n",
    "\n",
    "import csv\n",
    "with open('/Users/ebzimm/GA-DSI/Projects/project-01/assets/sat_scores.csv', 'rU') as f:\n",
    "    reader = csv.reader(f)\n",
    "    for x in f: \n",
    "        data.append(x)"
   ]
  },
  {
   "cell_type": "markdown",
   "metadata": {},
   "source": [
    "## Step 2: Load the data."
   ]
  },
  {
   "cell_type": "markdown",
   "metadata": {},
   "source": [
    "##### 4. Load the data into a list of lists"
   ]
  },
  {
   "cell_type": "code",
   "execution_count": 3,
   "metadata": {
    "collapsed": false
   },
   "outputs": [],
   "source": [
    "import pandas as pd\n",
    "import numpy as np\n",
    "\n",
    "data = []\n",
    "\n",
    "import csv\n",
    "with open('/Users/ebzimm/GA-DSI/Projects/project-01/assets/sat_scores.csv', 'rU') as f:\n",
    "    reader = csv.reader(f)\n",
    "    for x in f: \n",
    "        data.append(x)\n"
   ]
  },
  {
   "cell_type": "markdown",
   "metadata": {},
   "source": [
    "##### 5. Print the data"
   ]
  },
  {
   "cell_type": "code",
   "execution_count": 4,
   "metadata": {
    "collapsed": false
   },
   "outputs": [
    {
     "data": {
      "text/plain": [
       "['State,Rate,Verbal,Math\\n',\n",
       " 'CT,82,509,510\\n',\n",
       " 'NJ,81,499,513\\n',\n",
       " 'MA,79,511,515\\n',\n",
       " 'NY,77,495,505\\n',\n",
       " 'NH,72,520,516\\n',\n",
       " 'RI,71,501,499\\n',\n",
       " 'PA,71,500,499\\n',\n",
       " 'VT,69,511,506\\n',\n",
       " 'ME,69,506,500\\n',\n",
       " 'VA,68,510,501\\n',\n",
       " 'DE,67,501,499\\n',\n",
       " 'MD,65,508,510\\n',\n",
       " 'NC,65,493,499\\n',\n",
       " 'GA,63,491,489\\n',\n",
       " 'IN,60,499,501\\n',\n",
       " 'SC,57,486,488\\n',\n",
       " 'DC,56,482,474\\n',\n",
       " 'OR,55,526,526\\n',\n",
       " 'FL,54,498,499\\n',\n",
       " 'WA,53,527,527\\n',\n",
       " 'TX,53,493,499\\n',\n",
       " 'HI,52,485,515\\n',\n",
       " 'AK,51,514,510\\n',\n",
       " 'CA,51,498,517\\n',\n",
       " 'AZ,34,523,525\\n',\n",
       " 'NV,33,509,515\\n',\n",
       " 'CO,31,539,542\\n',\n",
       " 'OH,26,534,439\\n',\n",
       " 'MT,23,539,539\\n',\n",
       " 'WV,18,527,512\\n',\n",
       " 'ID,17,543,542\\n',\n",
       " 'TN,13,562,553\\n',\n",
       " 'NM,13,551,542\\n',\n",
       " 'IL,12,576,589\\n',\n",
       " 'KY,12,550,550\\n',\n",
       " 'WY,11,547,545\\n',\n",
       " 'MI,11,561,572\\n',\n",
       " 'MN,9,580,589\\n',\n",
       " 'KS,9,577,580\\n',\n",
       " 'AL,9,559,554\\n',\n",
       " 'NE,8,562,568\\n',\n",
       " 'OK,8,567,561\\n',\n",
       " 'MO,8,577,577\\n',\n",
       " 'LA,7,564,562\\n',\n",
       " 'WI,6,584,596\\n',\n",
       " 'AR,6,562,550\\n',\n",
       " 'UT,5,575,570\\n',\n",
       " 'IA,5,593,603\\n',\n",
       " 'SD,4,577,582\\n',\n",
       " 'ND,4,592,599\\n',\n",
       " 'MS,4,566,551\\n',\n",
       " 'All,45,506,514\\n']"
      ]
     },
     "execution_count": 4,
     "metadata": {},
     "output_type": "execute_result"
    }
   ],
   "source": [
    "data"
   ]
  },
  {
   "cell_type": "markdown",
   "metadata": {
    "collapsed": true
   },
   "source": [
    "##### 6. Extract a list of the labels from the data, and remove them from the data."
   ]
  },
  {
   "cell_type": "code",
   "execution_count": 5,
   "metadata": {
    "collapsed": false
   },
   "outputs": [
    {
     "name": "stdout",
     "output_type": "stream",
     "text": [
      "State,Rate,Verbal,Math\n",
      "\n",
      "['CT,82,509,510\\n', 'NJ,81,499,513\\n', 'MA,79,511,515\\n', 'NY,77,495,505\\n', 'NH,72,520,516\\n', 'RI,71,501,499\\n', 'PA,71,500,499\\n', 'VT,69,511,506\\n', 'ME,69,506,500\\n', 'VA,68,510,501\\n', 'DE,67,501,499\\n', 'MD,65,508,510\\n', 'NC,65,493,499\\n', 'GA,63,491,489\\n', 'IN,60,499,501\\n', 'SC,57,486,488\\n', 'DC,56,482,474\\n', 'OR,55,526,526\\n', 'FL,54,498,499\\n', 'WA,53,527,527\\n', 'TX,53,493,499\\n', 'HI,52,485,515\\n', 'AK,51,514,510\\n', 'CA,51,498,517\\n', 'AZ,34,523,525\\n', 'NV,33,509,515\\n', 'CO,31,539,542\\n', 'OH,26,534,439\\n', 'MT,23,539,539\\n', 'WV,18,527,512\\n', 'ID,17,543,542\\n', 'TN,13,562,553\\n', 'NM,13,551,542\\n', 'IL,12,576,589\\n', 'KY,12,550,550\\n', 'WY,11,547,545\\n', 'MI,11,561,572\\n', 'MN,9,580,589\\n', 'KS,9,577,580\\n', 'AL,9,559,554\\n', 'NE,8,562,568\\n', 'OK,8,567,561\\n', 'MO,8,577,577\\n', 'LA,7,564,562\\n', 'WI,6,584,596\\n', 'AR,6,562,550\\n', 'UT,5,575,570\\n', 'IA,5,593,603\\n', 'SD,4,577,582\\n', 'ND,4,592,599\\n', 'MS,4,566,551\\n']\n"
     ]
    }
   ],
   "source": [
    "headers = data[0]\n",
    "\n",
    "# Remove header row\n",
    "data.remove(headers)\n",
    "# Remove \"All\" row\n",
    "data.remove(data[-1])\n",
    "\n",
    "print headers\n",
    "print data\n",
    "\n"
   ]
  },
  {
   "cell_type": "markdown",
   "metadata": {},
   "source": [
    "##### 7. Create a list of State names extracted from the data. (Hint: use the list of labels to index on the State column)"
   ]
  },
  {
   "cell_type": "code",
   "execution_count": 8,
   "metadata": {
    "collapsed": false
   },
   "outputs": [
    {
     "name": "stdout",
     "output_type": "stream",
     "text": [
      "['CT', 'NJ', 'MA', 'NY', 'NH', 'RI', 'PA', 'VT', 'ME', 'VA', 'DE', 'MD', 'NC', 'GA', 'IN', 'SC', 'DC', 'OR', 'FL', 'WA', 'TX', 'HI', 'AK', 'CA', 'AZ', 'NV', 'CO', 'OH', 'MT', 'WV', 'ID', 'TN', 'NM', 'IL', 'KY', 'WY', 'MI', 'MN', 'KS', 'AL', 'NE', 'OK', 'MO', 'LA', 'WI', 'AR', 'UT', 'IA', 'SD', 'ND', 'MS']\n",
      "['82', '81', '79', '77', '72', '71', '71', '69', '69', '68', '67', '65', '65', '63', '60', '57', '56', '55', '54', '53', '53', '52', '51', '51', '34', '33', '31', '26', '23', '18', '17', '13', '13', '12', '12', '11', '11', '9', '9', '9', '8', '8', '8', '7', '6', '6', '5', '5', '4', '4', '4']\n",
      "['509', '499', '511', '495', '520', '501', '500', '511', '506', '510', '501', '508', '493', '491', '499', '486', '482', '526', '498', '527', '493', '485', '514', '498', '523', '509', '539', '534', '539', '527', '543', '562', '551', '576', '550', '547', '561', '580', '577', '559', '562', '567', '577', '564', '584', '562', '575', '593', '577', '592', '566']\n",
      "['510\\n', '513\\n', '515\\n', '505\\n', '516\\n', '499\\n', '499\\n', '506\\n', '500\\n', '501\\n', '499\\n', '510\\n', '499\\n', '489\\n', '501\\n', '488\\n', '474\\n', '526\\n', '499\\n', '527\\n', '499\\n', '515\\n', '510\\n', '517\\n', '525\\n', '515\\n', '542\\n', '439\\n', '539\\n', '512\\n', '542\\n', '553\\n', '542\\n', '589\\n', '550\\n', '545\\n', '572\\n', '589\\n', '580\\n', '554\\n', '568\\n', '561\\n', '577\\n', '562\\n', '596\\n', '550\\n', '570\\n', '603\\n', '582\\n', '599\\n', '551\\n']\n"
     ]
    }
   ],
   "source": [
    "# def make_col(list):\n",
    "#     i=0\n",
    "#     l=[]\n",
    "#     n = len(list)\n",
    "#     while i <= n:\n",
    "#         l.append(list[i].split(',')[s])\n",
    "#     i = i+1\n",
    "#     return l\n",
    "\n",
    "# s=1\n",
    "# make_col(data)\n",
    "\n",
    "l = []\n",
    "s = 0\n",
    "l.append(data[1].split(',')[s])\n",
    "l.append(data[2].split(',')[s])\n",
    "l\n",
    "\n",
    "i=0\n",
    "state=[]\n",
    "while i < len(data):\n",
    "    state.append(data[i].split(',')[0])\n",
    "    i+=1\n",
    "\n",
    "i=0\n",
    "rate=[]\n",
    "while i < len(data):\n",
    "    rate.append(data[i].split(',')[1])\n",
    "    i+=1\n",
    "\n",
    "i=0\n",
    "math=[]\n",
    "while i < len(data):\n",
    "    math.append(data[i].split(',')[2])\n",
    "    i+=1\n",
    "    \n",
    "i=0\n",
    "verbal=[]\n",
    "while i < len(data):\n",
    "    verbal.append(data[i].split(',')[3])\n",
    "    i+=1\n",
    "\n",
    "print state\n",
    "print rate\n",
    "print math\n",
    "print verbal"
   ]
  },
  {
   "cell_type": "markdown",
   "metadata": {},
   "source": [
    "#### 8. Print the types of each column"
   ]
  },
  {
   "cell_type": "code",
   "execution_count": 9,
   "metadata": {
    "collapsed": false
   },
   "outputs": [
    {
     "name": "stdout",
     "output_type": "stream",
     "text": [
      "<type 'str'>\n",
      "<type 'str'>\n",
      "<type 'str'>\n",
      "<type 'str'>\n"
     ]
    }
   ],
   "source": [
    "print type(state[0])\n",
    "print type(rate[0])\n",
    "print type(math[0])\n",
    "print type(verbal[0])\n",
    "\n"
   ]
  },
  {
   "cell_type": "markdown",
   "metadata": {},
   "source": [
    "##### 9. Do any types need to be reassigned? If so, go ahead and do it."
   ]
  },
  {
   "cell_type": "code",
   "execution_count": 10,
   "metadata": {
    "collapsed": false
   },
   "outputs": [
    {
     "name": "stdout",
     "output_type": "stream",
     "text": [
      "<type 'str'>\n",
      "<type 'int'>\n",
      "<type 'int'>\n",
      "<type 'int'>\n"
     ]
    }
   ],
   "source": [
    "rate_int = [int(i) for i in rate]\n",
    "math_int = [int(i) for i in math]\n",
    "verbal_int = [int(i) for i in verbal]\n",
    "\n",
    "print type(state[0])\n",
    "print type(rate_int[0])\n",
    "print type(math_int[0])\n",
    "print type(verbal_int[0])"
   ]
  },
  {
   "cell_type": "code",
   "execution_count": 11,
   "metadata": {
    "collapsed": false
   },
   "outputs": [
    {
     "name": "stdout",
     "output_type": "stream",
     "text": [
      "{'WA': 53, 'DE': 67, 'DC': 56, 'WI': 6, 'WV': 18, 'HI': 52, 'FL': 54, 'WY': 11, 'NH': 72, 'NJ': 81, 'NM': 13, 'TX': 53, 'LA': 7, 'NC': 65, 'ND': 4, 'NE': 8, 'TN': 13, 'NY': 77, 'PA': 71, 'RI': 71, 'NV': 33, 'VA': 68, 'CO': 31, 'AK': 51, 'AL': 9, 'AR': 6, 'VT': 69, 'IL': 12, 'GA': 63, 'IN': 60, 'IA': 5, 'OK': 8, 'AZ': 34, 'CA': 51, 'ID': 17, 'CT': 82, 'ME': 69, 'MD': 65, 'MA': 79, 'OH': 26, 'UT': 5, 'MO': 8, 'MN': 9, 'MI': 11, 'KS': 9, 'MT': 23, 'MS': 4, 'SC': 57, 'KY': 12, 'OR': 55, 'SD': 4}\n",
      "{'WA': 527, 'DE': 501, 'DC': 482, 'WI': 584, 'WV': 527, 'HI': 485, 'FL': 498, 'WY': 547, 'NH': 520, 'NJ': 499, 'NM': 551, 'TX': 493, 'LA': 564, 'NC': 493, 'ND': 592, 'NE': 562, 'TN': 562, 'NY': 495, 'PA': 500, 'RI': 501, 'NV': 509, 'VA': 510, 'CO': 539, 'AK': 514, 'AL': 559, 'AR': 562, 'VT': 511, 'IL': 576, 'GA': 491, 'IN': 499, 'IA': 593, 'OK': 567, 'AZ': 523, 'CA': 498, 'ID': 543, 'CT': 509, 'ME': 506, 'MD': 508, 'MA': 511, 'OH': 534, 'UT': 575, 'MO': 577, 'MN': 580, 'MI': 561, 'KS': 577, 'MT': 539, 'MS': 566, 'SC': 486, 'KY': 550, 'OR': 526, 'SD': 577}\n",
      "{'WA': 527, 'DE': 499, 'DC': 474, 'WI': 596, 'WV': 512, 'HI': 515, 'FL': 499, 'WY': 545, 'NH': 516, 'NJ': 513, 'NM': 542, 'TX': 499, 'LA': 562, 'NC': 499, 'ND': 599, 'NE': 568, 'TN': 553, 'NY': 505, 'PA': 499, 'RI': 499, 'NV': 515, 'VA': 501, 'CO': 542, 'AK': 510, 'AL': 554, 'AR': 550, 'VT': 506, 'IL': 589, 'GA': 489, 'IN': 501, 'IA': 603, 'OK': 561, 'AZ': 525, 'CA': 517, 'ID': 542, 'CT': 510, 'ME': 500, 'MD': 510, 'MA': 515, 'OH': 439, 'UT': 570, 'MO': 577, 'MN': 589, 'MI': 572, 'KS': 580, 'MT': 539, 'MS': 551, 'SC': 488, 'KY': 550, 'OR': 526, 'SD': 582}\n"
     ]
    }
   ],
   "source": [
    "# 10. Create a dictionary for each column mapping the State to its respective value for that column. \n",
    "\n",
    "rate_dict = {k: v for k,v in zip(state, rate_int)}\n",
    "math_dict = {k: v for k,v in zip(state, math_int)}\n",
    "verbal_dict = {k: v for k,v in zip(state, verbal_int)}\n",
    "\n",
    "print rate_dict\n",
    "print math_dict\n",
    "print verbal_dict"
   ]
  },
  {
   "cell_type": "markdown",
   "metadata": {},
   "source": [
    "##### 11. Create a dictionary with the values for each of the numeric columns"
   ]
  },
  {
   "cell_type": "code",
   "execution_count": 12,
   "metadata": {
    "collapsed": false
   },
   "outputs": [
    {
     "name": "stdout",
     "output_type": "stream",
     "text": [
      "{'Verbal': [510, 513, 515, 505, 516, 499, 499, 506, 500, 501, 499, 510, 499, 489, 501, 488, 474, 526, 499, 527, 499, 515, 510, 517, 525, 515, 542, 439, 539, 512, 542, 553, 542, 589, 550, 545, 572, 589, 580, 554, 568, 561, 577, 562, 596, 550, 570, 603, 582, 599, 551], 'State': ['CT', 'NJ', 'MA', 'NY', 'NH', 'RI', 'PA', 'VT', 'ME', 'VA', 'DE', 'MD', 'NC', 'GA', 'IN', 'SC', 'DC', 'OR', 'FL', 'WA', 'TX', 'HI', 'AK', 'CA', 'AZ', 'NV', 'CO', 'OH', 'MT', 'WV', 'ID', 'TN', 'NM', 'IL', 'KY', 'WY', 'MI', 'MN', 'KS', 'AL', 'NE', 'OK', 'MO', 'LA', 'WI', 'AR', 'UT', 'IA', 'SD', 'ND', 'MS'], 'Rate': [82, 81, 79, 77, 72, 71, 71, 69, 69, 68, 67, 65, 65, 63, 60, 57, 56, 55, 54, 53, 53, 52, 51, 51, 34, 33, 31, 26, 23, 18, 17, 13, 13, 12, 12, 11, 11, 9, 9, 9, 8, 8, 8, 7, 6, 6, 5, 5, 4, 4, 4], 'Math': [509, 499, 511, 495, 520, 501, 500, 511, 506, 510, 501, 508, 493, 491, 499, 486, 482, 526, 498, 527, 493, 485, 514, 498, 523, 509, 539, 534, 539, 527, 543, 562, 551, 576, 550, 547, 561, 580, 577, 559, 562, 567, 577, 564, 584, 562, 575, 593, 577, 592, 566]}\n"
     ]
    }
   ],
   "source": [
    "sat_dict = {}\n",
    "\n",
    "sat_dict.fromkeys(['State', 'Rate', 'Math', 'Verbal'])\n",
    "\n",
    "sat_dict['State'] = state\n",
    "sat_dict['Rate']= rate_int\n",
    "sat_dict['Math']= math_int\n",
    "sat_dict['Verbal'] = verbal_int\n",
    "\n",
    "print sat_dict"
   ]
  },
  {
   "cell_type": "markdown",
   "metadata": {},
   "source": [
    "## Step 3: Describe the data"
   ]
  },
  {
   "cell_type": "markdown",
   "metadata": {},
   "source": [
    "##### 12. Print the min and max of each column"
   ]
  },
  {
   "cell_type": "code",
   "execution_count": 13,
   "metadata": {
    "collapsed": false
   },
   "outputs": [
    {
     "name": "stdout",
     "output_type": "stream",
     "text": [
      "Rate max: 82 Rate Min: 4\n",
      "Math max: 593 Math Min: 482\n",
      "Verbal max: 603 Verbal Min: 439\n"
     ]
    }
   ],
   "source": [
    "print \"Rate max:\", max(sat_dict['Rate']), \"Rate Min:\", min(sat_dict['Rate'])\n",
    "print \"Math max:\", max(sat_dict['Math']), \"Math Min:\", min(sat_dict['Math'])\n",
    "print \"Verbal max:\", max(sat_dict['Verbal']), \"Verbal Min:\", min(sat_dict['Verbal'])"
   ]
  },
  {
   "cell_type": "markdown",
   "metadata": {},
   "source": [
    "##### 13. Write a function using only list comprehensions, no loops, to compute Standard Deviation. Print the Standard Deviation of each numeric column."
   ]
  },
  {
   "cell_type": "code",
   "execution_count": 14,
   "metadata": {
    "collapsed": false
   },
   "outputs": [
    {
     "name": "stdout",
     "output_type": "stream",
     "text": [
      "Rate Standard Deviation = 27.5506805724\n",
      "Math Standard Deviation = 33.3606672242\n",
      "Verbal Standard Deviation = 36.2873931547\n"
     ]
    }
   ],
   "source": [
    "def STDV(list):\n",
    "    n = len(list)\n",
    "    avg = float(sum(list))/n\n",
    "    return (sum((i-avg)**2 for i in list)/(n-1))**.5\n",
    "\n",
    "print \"Rate Standard Deviation =\", STDV(sat_dict['Rate'])\n",
    "print \"Math Standard Deviation =\", STDV(sat_dict['Math'])\n",
    "print \"Verbal Standard Deviation =\", STDV(sat_dict['Verbal'])"
   ]
  },
  {
   "cell_type": "markdown",
   "metadata": {},
   "source": [
    "## Step 4: Visualize the data"
   ]
  },
  {
   "cell_type": "markdown",
   "metadata": {
    "collapsed": true
   },
   "source": [
    "##### 14. Using MatPlotLib and PyPlot, plot the distribution of the Rate using histograms."
   ]
  },
  {
   "cell_type": "code",
   "execution_count": 15,
   "metadata": {
    "collapsed": false
   },
   "outputs": [
    {
     "data": {
      "image/png": "[encoded data removed]",
      "text/plain": [
       "<matplotlib.figure.Figure at 0x115b5a190>"
      ]
     },
     "metadata": {},
     "output_type": "display_data"
    }
   ],
   "source": [
    "%matplotlib inline\n",
    "import matplotlib.pyplot as plt\n",
    "import seaborn as sns\n",
    "import plotly\n",
    "import plotly.plotly as py\n",
    "import plotly.graph_objs as go\n",
    "\n",
    "plt.hist(sat_dict['Rate'], 10, facecolor='blue')\n",
    "\n",
    "plt.xlabel('Participation Rate by State')\n",
    "plt.ylabel('Frequency')\n",
    "plt.title('Distribution of SAT Participation Rates by State')\n",
    "plt.grid(True)\n",
    "\n",
    "plt.show()"
   ]
  },
  {
   "cell_type": "markdown",
   "metadata": {},
   "source": [
    "##### 15. Plot the Math distribution"
   ]
  },
  {
   "cell_type": "code",
   "execution_count": 15,
   "metadata": {
    "collapsed": false
   },
   "outputs": [
    {
     "data": {
      "image/png": "[encoded data removed]",
      "text/plain": [
       "<matplotlib.figure.Figure at 0x112b7a0d0>"
      ]
     },
     "metadata": {},
     "output_type": "display_data"
    }
   ],
   "source": [
    "plt.hist(sat_dict['Math'], 20, facecolor='green')\n",
    "\n",
    "plt.xlabel('Avg. Math Score by State')\n",
    "plt.ylabel('Frequency')\n",
    "plt.title('Distribution of Avg. SAT Math Scores by State')\n",
    "plt.grid(True)\n",
    "\n",
    "plt.show()"
   ]
  },
  {
   "cell_type": "markdown",
   "metadata": {},
   "source": [
    "##### 16. Plot the Verbal distribution"
   ]
  },
  {
   "cell_type": "code",
   "execution_count": 16,
   "metadata": {
    "collapsed": false
   },
   "outputs": [
    {
     "data": {
      "image/png": "[encoded data removed]",
      "text/plain": [
       "<matplotlib.figure.Figure at 0x112b7abd0>"
      ]
     },
     "metadata": {},
     "output_type": "display_data"
    }
   ],
   "source": [
    "plt.hist(sat_dict['Verbal'], 20, facecolor='red')\n",
    "\n",
    "plt.xlabel('Avg. Verbal Score by State')\n",
    "plt.ylabel('Frequency')\n",
    "plt.title('Distribution of Avg. SAT Verbal Scores by State')\n",
    "plt.grid(True)\n",
    "\n",
    "plt.show()"
   ]
  },
  {
   "cell_type": "markdown",
   "metadata": {},
   "source": [
    "##### 17. What is the typical assumption for data distribution?"
   ]
  },
  {
   "cell_type": "markdown",
   "metadata": {},
   "source": [
    "The typical assumption is that a data sample will mimic a 'normal' distribution (as plotted below) in which the mean and median are similar and there are relatively few outliers."
   ]
  },
  {
   "cell_type": "code",
   "execution_count": 17,
   "metadata": {
    "collapsed": false
   },
   "outputs": [
    {
     "data": {
      "image/png": "[encoded data removed]",
      "text/plain": [
       "<matplotlib.figure.Figure at 0x116b74b50>"
      ]
     },
     "metadata": {},
     "output_type": "display_data"
    }
   ],
   "source": [
    "normal = np.random.normal(size=1000)\n",
    "\n",
    "plt.hist(normal, 20, facecolor='yellow')\n",
    "\n",
    "plt.xlabel('Random #s')\n",
    "plt.ylabel('Frequency')\n",
    "plt.title('Random Distribution')\n",
    "plt.grid(True)\n",
    "\n",
    "plt.show()"
   ]
  },
  {
   "cell_type": "markdown",
   "metadata": {},
   "source": [
    "##### 18. Does that distribution hold true for our data?"
   ]
  },
  {
   "cell_type": "markdown",
   "metadata": {
    "collapsed": false
   },
   "source": [
    "Not quite: while the distribution for verbal scores loosely reflects a normal distribution, the distributions for math scores and participation rates are most dense at their extremes."
   ]
  },
  {
   "cell_type": "markdown",
   "metadata": {},
   "source": [
    "##### 19. Plot some scatterplots. **BONUS**: Use a PyPlot `figure` to present multiple plots at once."
   ]
  },
  {
   "cell_type": "code",
   "execution_count": 18,
   "metadata": {
    "collapsed": false
   },
   "outputs": [
    {
     "data": {
      "text/plain": [
       "<seaborn.axisgrid.PairGrid at 0x112b7aa10>"
      ]
     },
     "execution_count": 18,
     "metadata": {},
     "output_type": "execute_result"
    },
    {
     "data": {
      "image/png": "[encoded data removed]",
      "text/plain": [
       "<matplotlib.figure.Figure at 0x112b7ab10>"
      ]
     },
     "metadata": {},
     "output_type": "display_data"
    }
   ],
   "source": [
    "sat_dict_df = pd.DataFrame(sat_dict)\n",
    "\n",
    "sns.pairplot(sat_dict_df)"
   ]
  },
  {
   "cell_type": "markdown",
   "metadata": {},
   "source": [
    "##### 20. Are there any interesting relationships to note?"
   ]
  },
  {
   "cell_type": "markdown",
   "metadata": {},
   "source": [
    "- Math and verbal scores are closely correlated; indicating that states that perform well in one subject generally perform well in the other.\n",
    "- The correlation between math scores and participation rate is higher than the correlation between verbal scores and participation rate."
   ]
  },
  {
   "cell_type": "markdown",
   "metadata": {
    "collapsed": false
   },
   "source": [
    "\n",
    "\n",
    "##### 21. Create box plots for each variable. "
   ]
  },
  {
   "cell_type": "code",
   "execution_count": 19,
   "metadata": {
    "collapsed": false
   },
   "outputs": [
    {
     "data": {
      "text/plain": [
       "(0, 100)"
      ]
     },
     "execution_count": 19,
     "metadata": {},
     "output_type": "execute_result"
    },
    {
     "data": {
      "image/png": "[encoded data removed]",
      "text/plain": [
       "<matplotlib.figure.Figure at 0x11bc7a250>"
      ]
     },
     "metadata": {},
     "output_type": "display_data"
    }
   ],
   "source": [
    "sns.boxplot('Rate', data=sat_dict)\n",
    "plt.xlim(0, 100)"
   ]
  },
  {
   "cell_type": "code",
   "execution_count": 20,
   "metadata": {
    "collapsed": false
   },
   "outputs": [
    {
     "data": {
      "text/plain": [
       "(400, 650)"
      ]
     },
     "execution_count": 20,
     "metadata": {},
     "output_type": "execute_result"
    },
    {
     "data": {
      "image/png": "[encoded data removed]",
      "text/plain": [
       "<matplotlib.figure.Figure at 0x11b939810>"
      ]
     },
     "metadata": {},
     "output_type": "display_data"
    }
   ],
   "source": [
    "sns.boxplot('Math', data=sat_dict)\n",
    "plt.xlim(400, 650)"
   ]
  },
  {
   "cell_type": "code",
   "execution_count": 21,
   "metadata": {
    "collapsed": false
   },
   "outputs": [
    {
     "data": {
      "text/plain": [
       "(400, 650)"
      ]
     },
     "execution_count": 21,
     "metadata": {},
     "output_type": "execute_result"
    },
    {
     "data": {
      "image/png": "[encoded data removed]",
      "text/plain": [
       "<matplotlib.figure.Figure at 0x11c236690>"
      ]
     },
     "metadata": {},
     "output_type": "display_data"
    }
   ],
   "source": [
    "sns.boxplot('Verbal', data=sat_dict)\n",
    "plt.xlim(400, 650)"
   ]
  },
  {
   "cell_type": "markdown",
   "metadata": {},
   "source": [
    "##### BONUS: Using Tableau, create a heat map for each variable using a map of the US. "
   ]
  },
  {
   "cell_type": "markdown",
   "metadata": {
    "collapsed": true
   },
   "source": [
    "# ![Imgur](http://i.imgur.com/tKXGM23.png)"
   ]
  },
  {
   "cell_type": "markdown",
   "metadata": {},
   "source": [
    "# ![Imgur](http://i.imgur.com/7tUw9A2.png)"
   ]
  },
  {
   "cell_type": "markdown",
   "metadata": {},
   "source": [
    "# ![Imgur](http://i.imgur.com/jPfBbrV.png)"
   ]
  }
 ],
 "metadata": {
  "anaconda-cloud": {},
  "kernelspec": {
   "display_name": "Python [Root]",
   "language": "python",
   "name": "Python [Root]"
  },
  "language_info": {
   "codemirror_mode": {
    "name": "ipython",
    "version": 2
   },
   "file_extension": ".py",
   "mimetype": "text/x-python",
   "name": "python",
   "nbconvert_exporter": "python",
   "pygments_lexer": "ipython2",
   "version": "2.7.12"
  }
 },
 "nbformat": 4,
 "nbformat_minor": 0
}
