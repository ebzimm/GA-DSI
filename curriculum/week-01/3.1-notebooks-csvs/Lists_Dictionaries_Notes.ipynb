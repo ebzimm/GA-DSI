{
 "cells": [
  {
   "cell_type": "markdown",
   "metadata": {},
   "source": [
    "# Lists [ ]\n",
    "\n",
    "## Slicing\n",
    "> [1:5] Will pull that range\n",
    "\n",
    "## Adding to Lists\n",
    "> .append()\n",
    "\n",
    "> .extend()\n",
    "\n",
    "> .insert()\n",
    "\n",
    "## Deleting from Lists\n",
    "> .remove()\n",
    "\n",
    "> .pop()\n",
    "\n",
    "## Reversing a List\n",
    "> list[::-1]\n",
    "\n",
    "> .reverse()\n",
    "\n",
    "## Sorting a List\n",
    "> .sort()\n",
    "\n",
    "## Additional functions:\n",
    "> .index()\n",
    "\n",
    "> .count()"
   ]
  },
  {
   "cell_type": "code",
   "execution_count": 18,
   "metadata": {
    "collapsed": false
   },
   "outputs": [
    {
     "name": "stdout",
     "output_type": "stream",
     "text": [
      "['Larry', 'Moe', 'Curly', 'Bob']\n"
     ]
    }
   ],
   "source": [
    "#Defining the list\n",
    "\n",
    "friends = ['Larry', 'Moe', 'Curly']\n",
    "\n",
    "friends.append('Bob')\n",
    "\n",
    "print friends"
   ]
  },
  {
   "cell_type": "code",
   "execution_count": 19,
   "metadata": {
    "collapsed": false
   },
   "outputs": [
    {
     "data": {
      "text/plain": [
       "['Larry', 'Moe', 'Curly', 'Bob', 'Joe', 'Eric']"
      ]
     },
     "execution_count": 19,
     "metadata": {},
     "output_type": "execute_result"
    }
   ],
   "source": [
    "#Adding to list with extend\n",
    "\n",
    "friends.extend(['Joe','Eric'])\n",
    "\n",
    "friends"
   ]
  },
  {
   "cell_type": "code",
   "execution_count": 20,
   "metadata": {
    "collapsed": false
   },
   "outputs": [
    {
     "data": {
      "text/plain": [
       "['Larry', 'Moe', 'Curly', 'Bob', 'Joe', 'Eric', ['Larry', 'Dave']]"
      ]
     },
     "execution_count": 20,
     "metadata": {},
     "output_type": "execute_result"
    }
   ],
   "source": [
    "#Adding to list with append\n",
    "\n",
    "friends.append(['Larry','Dave'])\n",
    "\n",
    "friends"
   ]
  },
  {
   "cell_type": "code",
   "execution_count": 22,
   "metadata": {
    "collapsed": false
   },
   "outputs": [
    {
     "data": {
      "text/plain": [
       "['Larry', 'Moe', 'Curly', 'Bob', 'Joe', ['Larry', 'Dave']]"
      ]
     },
     "execution_count": 22,
     "metadata": {},
     "output_type": "execute_result"
    }
   ],
   "source": [
    "#Deleting from list with remove\n",
    "\n",
    "friends.remove('Eric')\n",
    "friends"
   ]
  },
  {
   "cell_type": "code",
   "execution_count": 25,
   "metadata": {
    "collapsed": false
   },
   "outputs": [
    {
     "data": {
      "text/plain": [
       "[['Larry', 'Dave'], 'Joe', 'Bob', 'Curly', 'Moe', 'Larry']"
      ]
     },
     "execution_count": 25,
     "metadata": {},
     "output_type": "execute_result"
    }
   ],
   "source": [
    "#Reversing a list; splicing\n",
    "\n",
    "friends[::-1]"
   ]
  },
  {
   "cell_type": "code",
   "execution_count": 27,
   "metadata": {
    "collapsed": false
   },
   "outputs": [
    {
     "data": {
      "text/plain": [
       "['Larry', 'Moe', 'Curly', 'Bob', 'Joe', ['Larry', 'Dave']]"
      ]
     },
     "execution_count": 27,
     "metadata": {},
     "output_type": "execute_result"
    }
   ],
   "source": [
    "#Reversing a list; .reverse\n",
    "\n",
    "friends.reverse() #insted of just seeing it reversed (above example), the function is actually altering the list.\n",
    "friends"
   ]
  },
  {
   "cell_type": "markdown",
   "metadata": {},
   "source": [
    "# Dicts { }\n",
    "\n",
    "### Isolating elements in a dictionary:\n",
    "> .keys() - lists keys in the dict\n",
    "\n",
    "> .values() - lists values in the dict\n",
    "\n",
    "> .items() - lists items ('key, value)\n",
    "\n",
    "> .pop() - pops out individual value outputs\n",
    "\n",
    "### Joins:\n",
    "> zip() - will \"zip\" together two lists\n"
   ]
  },
  {
   "cell_type": "code",
   "execution_count": 2,
   "metadata": {
    "collapsed": true
   },
   "outputs": [],
   "source": [
    "codes = {'marina': 94123, 'presidio': 94129, 'soma': 94105}"
   ]
  },
  {
   "cell_type": "code",
   "execution_count": 3,
   "metadata": {
    "collapsed": false
   },
   "outputs": [
    {
     "data": {
      "text/plain": [
       "['marina', 'presidio', 'soma']"
      ]
     },
     "execution_count": 3,
     "metadata": {},
     "output_type": "execute_result"
    }
   ],
   "source": [
    "codes.keys()"
   ]
  },
  {
   "cell_type": "code",
   "execution_count": 4,
   "metadata": {
    "collapsed": false
   },
   "outputs": [
    {
     "data": {
      "text/plain": [
       "[94123, 94129, 94105]"
      ]
     },
     "execution_count": 4,
     "metadata": {},
     "output_type": "execute_result"
    }
   ],
   "source": [
    "codes.values()"
   ]
  },
  {
   "cell_type": "code",
   "execution_count": 5,
   "metadata": {
    "collapsed": false
   },
   "outputs": [
    {
     "data": {
      "text/plain": [
       "[('marina', 94123), ('presidio', 94129), ('soma', 94105)]"
      ]
     },
     "execution_count": 5,
     "metadata": {},
     "output_type": "execute_result"
    }
   ],
   "source": [
    "codes.items()"
   ]
  },
  {
   "cell_type": "code",
   "execution_count": 6,
   "metadata": {
    "collapsed": false
   },
   "outputs": [
    {
     "data": {
      "text/plain": [
       "[('marina', 94123), ('presidio', 94129), ('soma', 94105)]"
      ]
     },
     "execution_count": 6,
     "metadata": {},
     "output_type": "execute_result"
    }
   ],
   "source": [
    "zip(codes.keys(), codes.values())"
   ]
  },
  {
   "cell_type": "code",
   "execution_count": 7,
   "metadata": {
    "collapsed": false
   },
   "outputs": [
    {
     "data": {
      "text/plain": [
       "94123"
      ]
     },
     "execution_count": 7,
     "metadata": {},
     "output_type": "execute_result"
    }
   ],
   "source": [
    "codes.pop('marina')"
   ]
  },
  {
   "cell_type": "code",
   "execution_count": null,
   "metadata": {
    "collapsed": true
   },
   "outputs": [],
   "source": []
  }
 ],
 "metadata": {
  "kernelspec": {
   "display_name": "Python [Root]",
   "language": "python",
   "name": "Python [Root]"
  }
 },
 "nbformat": 4,
 "nbformat_minor": 0
}
