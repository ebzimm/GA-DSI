{
 "cells": [
  {
   "cell_type": "markdown",
   "metadata": {},
   "source": [
    "# Summary\n",
    "\n",
    "__Airbnb/Kaggle Competition: Where will a new guest book their first travel experience?__\n",
    "\n",
    "\n",
    "New users on Airbnb can book a place to stay in 34,000+ cities across 190+ countries. By accurately predicting where a new user will book their first travel experience, Airbnb can share more personalized content with their community, decrease the average time to first booking, and better forecast demand.\n",
    "<br>\n",
    "<br>\n",
    "__Objective:__\n",
    "<br>\n",
    "_Predict in which country a new user will make his or her first booking._"
   ]
  },
  {
   "cell_type": "markdown",
   "metadata": {},
   "source": [
    "# Process\n",
    "- First I examined each data set and determined the variables that connected them.\n",
    "- I then explored initial distributions and correlations\n",
    "- __Sessions data__\n",
    "    - A function isolated key words in the \"action_detail\" column in order to reduce variables and highlight key user behaviors\n",
    "    - I then pivoted the data to calculate the median time spend on each action_key_word per user\n",
    "- __Train_users & Test_users data__\n",
    "    - I joined the sessions data with train_users and test_users to link user behavior with user profile information such as language, age, and gender.\n",
    "    - I built functions to simplify the following categories:\n",
    "        - Age (grouped into buckets - originally I scaled it as a continuos variable but it was hard to extract feature importance this way)\n",
    "        - Device (Desktop, Tablet, Phone, etc)\n",
    "        - Operating System (Mac, PC, Google, Other)\n",
    "        - Gender (replaced \"unknown\" with \"other\")\n",
    "- __Merged Data__\n",
    "    - Once Sessions and User data were merged, I scaled continous variables and created dummies for all others.\n",
    "    - I then began running models, which had less than ideal results (50-60% accuracy) but interesting feature importances."
   ]
  },
  {
   "cell_type": "markdown",
   "metadata": {},
   "source": [
    "# Findings\n",
    "<br>\n",
    "__Random Forest Top Feature Importances:__\n",
    "<br>\n",
    "- Browser type is more predictive than OS or device type; this likely reflects that browsers are more segmented by country, as well as the possibility that user experience is improved on a desktop computer. \n",
    "- Most Airbnb users are between the ages of 18-39. There is opportunity to expand older clientelle.\n",
    "- It is interesting that action key words and med_seconds_elapsed were at the top of feature importances for the random trees model.\n",
    "    - \"Wishlists\" are a promising way to predic where consumers may travel\n",
    "    - Users who spend time messaging, updating their profiles, and searching content are naturally more engaged with the service. If these active users could be clustered, more information about their preferences and similaries may be determined. \n",
    "- Men are currently more likely to book listings that women. Could destination suggestions be tailored towards male audiences?\n",
    "<br>\n",
    "<img style=\"float: left;\" src=\"http://imgur.com/h2NMfvv.png\">\n",
    "<br>"
   ]
  },
  {
   "cell_type": "markdown",
   "metadata": {},
   "source": [
    "__Logistic Regression Feature Importances__\n",
    "<br>\n",
    "- Logistic Regression offered less interpretable feature importances, however a few key takeaways were apparent.\n",
    "- Language heavily influences where poeple travel. This could have to do with cultural comforts or simply ease of use in the application.\n",
    "    - Airbnb has a unique challenge in delivering its service. It is an international business that relies on the quality of communication of its users. This is demonstrated by the significance of language as well as the variance between cumulative view time and median view time. They traffic a high volume of views but appear to have low conversion. Is that due to cultural, aesthetic, or communication challenges? Further research would be enlightening.\n",
    "- Mobile devices have a negative correlation, implying that they are not optimal tools for using the service.\n",
    "<br>\n",
    "<img style=\"float: left;\" src=\"http://imgur.com/y7VqNad.png\">\n",
    "<img style=\"float: left;\" src=\"http://imgur.com/ypHyfdz.png\">\n",
    "\n"
   ]
  },
  {
   "cell_type": "markdown",
   "metadata": {},
   "source": [
    "# Learnings\n",
    "\n",
    "- I improved at joining and manipulating pandas dataframes (without SQL).\n",
    "- I learned the value of running multiple models on a single dataset. Although accuracy may not vary dramatically, there are other results that can inform your understanding of the data.\n",
    "- The circular process of data exploration and model building; often you will get through a model and realize you need to return to your data and manipulate it another way.\n",
    "- There is great value in digging for detail in seemingly simple data sets.\n",
    "- Time away from a project is valuable for seeing the data in new ways.\n",
    "- I would like to explore ways to deal with categorical data without making dummies for everything. Some of my models were very slow to run.\n",
    "- I was able to build some functions that were reusable, however I know I can continue to improve my custom function building to make my code more efficient. This project was a step in the right direction and I plan to go back to tweak it as I study after the course.\n",
    "- I have improved in troubleshooting and have an easier time finding answers to problems independently."
   ]
  },
  {
   "cell_type": "markdown",
   "metadata": {},
   "source": [
    "# With Further Time...\n",
    "\n",
    "- Additional data would greatly improve the results of this study (dropped a lot of null values)\n",
    "- I would explore more visualizations & EDA\n",
    "- I would bring in outside data\n",
    "- I would run additional models (perhaps on a different computer with more RAM)\n",
    "- I would take a closer look at sessions data. How can I gain more context for user behavior and how that advises their destination choices?"
   ]
  },
  {
   "cell_type": "code",
   "execution_count": 72,
   "metadata": {
    "collapsed": false
   },
   "outputs": [],
   "source": [
    "# Import Libraries\n",
    "\n",
    "import pandas as pd\n",
    "import numpy as np\n",
    "import seaborn as sns\n",
    "import matplotlib.pyplot as plt\n",
    "\n",
    "from sklearn.tree import DecisionTreeClassifier\n",
    "from sklearn.ensemble import RandomForestClassifier, ExtraTreesClassifier, BaggingClassifier\n",
    "from sklearn.model_selection import train_test_split\n",
    "from sklearn.model_selection import cross_val_score\n",
    "from sklearn.model_selection import GridSearchCV\n",
    "from sklearn.model_selection import KFold\n",
    "from sklearn.linear_model import LogisticRegressionCV\n",
    "from sklearn.linear_model import LogisticRegression\n",
    "from sklearn import preprocessing\n",
    "from sklearn.preprocessing import MinMaxScaler\n",
    "\n",
    "from sklearn.cluster import KMeans\n",
    "from sklearn.decomposition import PCA\n",
    "from sklearn.feature_extraction.text import CountVectorizer\n",
    "\n",
    "from sklearn.metrics import confusion_matrix\n",
    "from sklearn.metrics import accuracy_score\n",
    "from sklearn.metrics import classification_report\n",
    "from sklearn.metrics import pairwise_distances\n",
    "from sklearn.metrics import silhouette_score\n",
    "\n",
    "from sklearn import svm\n",
    "\n",
    "%matplotlib inline"
   ]
  },
  {
   "cell_type": "code",
   "execution_count": 6,
   "metadata": {
    "collapsed": false
   },
   "outputs": [],
   "source": [
    "# Import datasets\n",
    "\n",
    "demog = pd.read_csv('/Users/ebzimm/Desktop/capstone_project/age_gender_bkts.csv')\n",
    "countries = pd.read_csv('/Users/ebzimm/Desktop/capstone_project/countries.csv')\n",
    "sessions = pd.read_csv('/Users/ebzimm/Desktop/capstone_project/sessions.csv')\n",
    "test_users = pd.read_csv('/Users/ebzimm/Desktop/capstone_project/test_users.csv')\n",
    "train_users = pd.read_csv('/Users/ebzimm/Desktop/capstone_project/train_users_2.csv')"
   ]
  },
  {
   "cell_type": "markdown",
   "metadata": {},
   "source": [
    "## EDA"
   ]
  },
  {
   "cell_type": "markdown",
   "metadata": {},
   "source": [
    "### Preview All Data"
   ]
  },
  {
   "cell_type": "code",
   "execution_count": 7,
   "metadata": {
    "collapsed": false
   },
   "outputs": [
    {
     "name": "stdout",
     "output_type": "stream",
     "text": [
      "420 rows\n"
     ]
    },
    {
     "data": {
      "text/html": [
       "<div>\n",
       "<table border=\"1\" class=\"dataframe\">\n",
       "  <thead>\n",
       "    <tr style=\"text-align: right;\">\n",
       "      <th></th>\n",
       "      <th>age_bucket</th>\n",
       "      <th>country_destination</th>\n",
       "      <th>gender</th>\n",
       "      <th>population_in_thousands</th>\n",
       "      <th>year</th>\n",
       "    </tr>\n",
       "  </thead>\n",
       "  <tbody>\n",
       "    <tr>\n",
       "      <th>0</th>\n",
       "      <td>100+</td>\n",
       "      <td>AU</td>\n",
       "      <td>male</td>\n",
       "      <td>1.0</td>\n",
       "      <td>2015.0</td>\n",
       "    </tr>\n",
       "    <tr>\n",
       "      <th>1</th>\n",
       "      <td>95-99</td>\n",
       "      <td>AU</td>\n",
       "      <td>male</td>\n",
       "      <td>9.0</td>\n",
       "      <td>2015.0</td>\n",
       "    </tr>\n",
       "  </tbody>\n",
       "</table>\n",
       "</div>"
      ],
      "text/plain": [
       "  age_bucket country_destination gender  population_in_thousands    year\n",
       "0       100+                  AU   male                      1.0  2015.0\n",
       "1      95-99                  AU   male                      9.0  2015.0"
      ]
     },
     "execution_count": 7,
     "metadata": {},
     "output_type": "execute_result"
    }
   ],
   "source": [
    "# Find length of dataframe and preview data\n",
    "\n",
    "print len(demog),\"rows\"\n",
    "demog.head(2)"
   ]
  },
  {
   "cell_type": "code",
   "execution_count": 8,
   "metadata": {
    "collapsed": false
   },
   "outputs": [
    {
     "name": "stdout",
     "output_type": "stream",
     "text": [
      "10 rows\n"
     ]
    },
    {
     "data": {
      "text/html": [
       "<div>\n",
       "<table border=\"1\" class=\"dataframe\">\n",
       "  <thead>\n",
       "    <tr style=\"text-align: right;\">\n",
       "      <th></th>\n",
       "      <th>country_destination</th>\n",
       "      <th>lat_destination</th>\n",
       "      <th>lng_destination</th>\n",
       "      <th>distance_km</th>\n",
       "      <th>destination_km2</th>\n",
       "      <th>destination_language</th>\n",
       "      <th>language_levenshtein_distance</th>\n",
       "    </tr>\n",
       "  </thead>\n",
       "  <tbody>\n",
       "    <tr>\n",
       "      <th>0</th>\n",
       "      <td>AU</td>\n",
       "      <td>-26.853388</td>\n",
       "      <td>133.275160</td>\n",
       "      <td>15297.7440</td>\n",
       "      <td>7741220.0</td>\n",
       "      <td>eng</td>\n",
       "      <td>0.0</td>\n",
       "    </tr>\n",
       "    <tr>\n",
       "      <th>1</th>\n",
       "      <td>CA</td>\n",
       "      <td>62.393303</td>\n",
       "      <td>-96.818146</td>\n",
       "      <td>2828.1333</td>\n",
       "      <td>9984670.0</td>\n",
       "      <td>eng</td>\n",
       "      <td>0.0</td>\n",
       "    </tr>\n",
       "  </tbody>\n",
       "</table>\n",
       "</div>"
      ],
      "text/plain": [
       "  country_destination  lat_destination  lng_destination  distance_km  \\\n",
       "0                  AU       -26.853388       133.275160   15297.7440   \n",
       "1                  CA        62.393303       -96.818146    2828.1333   \n",
       "\n",
       "   destination_km2 destination_language   language_levenshtein_distance  \n",
       "0        7741220.0                   eng                            0.0  \n",
       "1        9984670.0                   eng                            0.0  "
      ]
     },
     "execution_count": 8,
     "metadata": {},
     "output_type": "execute_result"
    }
   ],
   "source": [
    "print len(countries),\"rows\"\n",
    "countries.head(2)"
   ]
  },
  {
   "cell_type": "code",
   "execution_count": 9,
   "metadata": {
    "collapsed": false
   },
   "outputs": [
    {
     "name": "stdout",
     "output_type": "stream",
     "text": [
      "10567737 rows\n"
     ]
    },
    {
     "data": {
      "text/html": [
       "<div>\n",
       "<table border=\"1\" class=\"dataframe\">\n",
       "  <thead>\n",
       "    <tr style=\"text-align: right;\">\n",
       "      <th></th>\n",
       "      <th>user_id</th>\n",
       "      <th>action</th>\n",
       "      <th>action_type</th>\n",
       "      <th>action_detail</th>\n",
       "      <th>device_type</th>\n",
       "      <th>secs_elapsed</th>\n",
       "    </tr>\n",
       "  </thead>\n",
       "  <tbody>\n",
       "    <tr>\n",
       "      <th>0</th>\n",
       "      <td>d1mm9tcy42</td>\n",
       "      <td>lookup</td>\n",
       "      <td>NaN</td>\n",
       "      <td>NaN</td>\n",
       "      <td>Windows Desktop</td>\n",
       "      <td>319.0</td>\n",
       "    </tr>\n",
       "    <tr>\n",
       "      <th>1</th>\n",
       "      <td>d1mm9tcy42</td>\n",
       "      <td>search_results</td>\n",
       "      <td>click</td>\n",
       "      <td>view_search_results</td>\n",
       "      <td>Windows Desktop</td>\n",
       "      <td>67753.0</td>\n",
       "    </tr>\n",
       "  </tbody>\n",
       "</table>\n",
       "</div>"
      ],
      "text/plain": [
       "      user_id          action action_type        action_detail  \\\n",
       "0  d1mm9tcy42          lookup         NaN                  NaN   \n",
       "1  d1mm9tcy42  search_results       click  view_search_results   \n",
       "\n",
       "       device_type  secs_elapsed  \n",
       "0  Windows Desktop         319.0  \n",
       "1  Windows Desktop       67753.0  "
      ]
     },
     "execution_count": 9,
     "metadata": {},
     "output_type": "execute_result"
    }
   ],
   "source": [
    "print len(sessions),\"rows\"\n",
    "sessions.head(2)"
   ]
  },
  {
   "cell_type": "code",
   "execution_count": 10,
   "metadata": {
    "collapsed": false
   },
   "outputs": [
    {
     "name": "stdout",
     "output_type": "stream",
     "text": [
      "62096 rows\n"
     ]
    },
    {
     "data": {
      "text/html": [
       "<div>\n",
       "<table border=\"1\" class=\"dataframe\">\n",
       "  <thead>\n",
       "    <tr style=\"text-align: right;\">\n",
       "      <th></th>\n",
       "      <th>id</th>\n",
       "      <th>date_account_created</th>\n",
       "      <th>timestamp_first_active</th>\n",
       "      <th>date_first_booking</th>\n",
       "      <th>gender</th>\n",
       "      <th>age</th>\n",
       "      <th>signup_method</th>\n",
       "      <th>signup_flow</th>\n",
       "      <th>language</th>\n",
       "      <th>affiliate_channel</th>\n",
       "      <th>affiliate_provider</th>\n",
       "      <th>first_affiliate_tracked</th>\n",
       "      <th>signup_app</th>\n",
       "      <th>first_device_type</th>\n",
       "      <th>first_browser</th>\n",
       "    </tr>\n",
       "  </thead>\n",
       "  <tbody>\n",
       "    <tr>\n",
       "      <th>0</th>\n",
       "      <td>5uwns89zht</td>\n",
       "      <td>2014-07-01</td>\n",
       "      <td>20140701000006</td>\n",
       "      <td>NaN</td>\n",
       "      <td>FEMALE</td>\n",
       "      <td>35.0</td>\n",
       "      <td>facebook</td>\n",
       "      <td>0</td>\n",
       "      <td>en</td>\n",
       "      <td>direct</td>\n",
       "      <td>direct</td>\n",
       "      <td>untracked</td>\n",
       "      <td>Moweb</td>\n",
       "      <td>iPhone</td>\n",
       "      <td>Mobile Safari</td>\n",
       "    </tr>\n",
       "    <tr>\n",
       "      <th>1</th>\n",
       "      <td>jtl0dijy2j</td>\n",
       "      <td>2014-07-01</td>\n",
       "      <td>20140701000051</td>\n",
       "      <td>NaN</td>\n",
       "      <td>-unknown-</td>\n",
       "      <td>NaN</td>\n",
       "      <td>basic</td>\n",
       "      <td>0</td>\n",
       "      <td>en</td>\n",
       "      <td>direct</td>\n",
       "      <td>direct</td>\n",
       "      <td>untracked</td>\n",
       "      <td>Moweb</td>\n",
       "      <td>iPhone</td>\n",
       "      <td>Mobile Safari</td>\n",
       "    </tr>\n",
       "  </tbody>\n",
       "</table>\n",
       "</div>"
      ],
      "text/plain": [
       "           id date_account_created  timestamp_first_active  \\\n",
       "0  5uwns89zht           2014-07-01          20140701000006   \n",
       "1  jtl0dijy2j           2014-07-01          20140701000051   \n",
       "\n",
       "   date_first_booking     gender   age signup_method  signup_flow language  \\\n",
       "0                 NaN     FEMALE  35.0      facebook            0       en   \n",
       "1                 NaN  -unknown-   NaN         basic            0       en   \n",
       "\n",
       "  affiliate_channel affiliate_provider first_affiliate_tracked signup_app  \\\n",
       "0            direct             direct               untracked      Moweb   \n",
       "1            direct             direct               untracked      Moweb   \n",
       "\n",
       "  first_device_type  first_browser  \n",
       "0            iPhone  Mobile Safari  \n",
       "1            iPhone  Mobile Safari  "
      ]
     },
     "execution_count": 10,
     "metadata": {},
     "output_type": "execute_result"
    }
   ],
   "source": [
    "print len(test_users),\"rows\"\n",
    "test_users.head(2)"
   ]
  },
  {
   "cell_type": "code",
   "execution_count": 11,
   "metadata": {
    "collapsed": false
   },
   "outputs": [
    {
     "name": "stdout",
     "output_type": "stream",
     "text": [
      "213451 rows\n"
     ]
    },
    {
     "data": {
      "text/html": [
       "<div>\n",
       "<table border=\"1\" class=\"dataframe\">\n",
       "  <thead>\n",
       "    <tr style=\"text-align: right;\">\n",
       "      <th></th>\n",
       "      <th>id</th>\n",
       "      <th>date_account_created</th>\n",
       "      <th>timestamp_first_active</th>\n",
       "      <th>date_first_booking</th>\n",
       "      <th>gender</th>\n",
       "      <th>age</th>\n",
       "      <th>signup_method</th>\n",
       "      <th>signup_flow</th>\n",
       "      <th>language</th>\n",
       "      <th>affiliate_channel</th>\n",
       "      <th>affiliate_provider</th>\n",
       "      <th>first_affiliate_tracked</th>\n",
       "      <th>signup_app</th>\n",
       "      <th>first_device_type</th>\n",
       "      <th>first_browser</th>\n",
       "      <th>country_destination</th>\n",
       "    </tr>\n",
       "  </thead>\n",
       "  <tbody>\n",
       "    <tr>\n",
       "      <th>0</th>\n",
       "      <td>gxn3p5htnn</td>\n",
       "      <td>2010-06-28</td>\n",
       "      <td>20090319043255</td>\n",
       "      <td>NaN</td>\n",
       "      <td>-unknown-</td>\n",
       "      <td>NaN</td>\n",
       "      <td>facebook</td>\n",
       "      <td>0</td>\n",
       "      <td>en</td>\n",
       "      <td>direct</td>\n",
       "      <td>direct</td>\n",
       "      <td>untracked</td>\n",
       "      <td>Web</td>\n",
       "      <td>Mac Desktop</td>\n",
       "      <td>Chrome</td>\n",
       "      <td>NDF</td>\n",
       "    </tr>\n",
       "    <tr>\n",
       "      <th>1</th>\n",
       "      <td>820tgsjxq7</td>\n",
       "      <td>2011-05-25</td>\n",
       "      <td>20090523174809</td>\n",
       "      <td>NaN</td>\n",
       "      <td>MALE</td>\n",
       "      <td>38.0</td>\n",
       "      <td>facebook</td>\n",
       "      <td>0</td>\n",
       "      <td>en</td>\n",
       "      <td>seo</td>\n",
       "      <td>google</td>\n",
       "      <td>untracked</td>\n",
       "      <td>Web</td>\n",
       "      <td>Mac Desktop</td>\n",
       "      <td>Chrome</td>\n",
       "      <td>NDF</td>\n",
       "    </tr>\n",
       "  </tbody>\n",
       "</table>\n",
       "</div>"
      ],
      "text/plain": [
       "           id date_account_created  timestamp_first_active date_first_booking  \\\n",
       "0  gxn3p5htnn           2010-06-28          20090319043255                NaN   \n",
       "1  820tgsjxq7           2011-05-25          20090523174809                NaN   \n",
       "\n",
       "      gender   age signup_method  signup_flow language affiliate_channel  \\\n",
       "0  -unknown-   NaN      facebook            0       en            direct   \n",
       "1       MALE  38.0      facebook            0       en               seo   \n",
       "\n",
       "  affiliate_provider first_affiliate_tracked signup_app first_device_type  \\\n",
       "0             direct               untracked        Web       Mac Desktop   \n",
       "1             google               untracked        Web       Mac Desktop   \n",
       "\n",
       "  first_browser country_destination  \n",
       "0        Chrome                 NDF  \n",
       "1        Chrome                 NDF  "
      ]
     },
     "execution_count": 11,
     "metadata": {},
     "output_type": "execute_result"
    }
   ],
   "source": [
    "print len(train_users),\"rows\"\n",
    "train_users.head(2)"
   ]
  },
  {
   "cell_type": "markdown",
   "metadata": {},
   "source": [
    "### Assess Relative Sizes of Train and Test data"
   ]
  },
  {
   "cell_type": "code",
   "execution_count": 12,
   "metadata": {
    "collapsed": false
   },
   "outputs": [
    {
     "name": "stdout",
     "output_type": "stream",
     "text": [
      "Test: Train Percentage= 23.0 : 77.0\n",
      "Test Count= 62096\n",
      "Train Count= 213451\n"
     ]
    }
   ],
   "source": [
    "test_perc = float(len(test_users)) / float(len(train_users)+len(test_users))*100\n",
    "train_perc = float(len(train_users)) / float(len(train_users)+len(test_users))*100\n",
    "\n",
    "print \"Test: Train Percentage=\", round(test_perc) ,\":\", round(train_perc)\n",
    "print \"Test Count=\",len(test_users)\n",
    "print \"Train Count=\",len(train_users)"
   ]
  },
  {
   "cell_type": "markdown",
   "metadata": {},
   "source": [
    "## Explore Age & Gender"
   ]
  },
  {
   "cell_type": "code",
   "execution_count": 13,
   "metadata": {
    "collapsed": false
   },
   "outputs": [
    {
     "data": {
      "text/html": [
       "<div>\n",
       "<table border=\"1\" class=\"dataframe\">\n",
       "  <thead>\n",
       "    <tr style=\"text-align: right;\">\n",
       "      <th></th>\n",
       "      <th>age_bucket</th>\n",
       "      <th>country_destination</th>\n",
       "      <th>gender</th>\n",
       "      <th>population_in_thousands</th>\n",
       "      <th>year</th>\n",
       "    </tr>\n",
       "  </thead>\n",
       "  <tbody>\n",
       "    <tr>\n",
       "      <th>0</th>\n",
       "      <td>100+</td>\n",
       "      <td>AU</td>\n",
       "      <td>male</td>\n",
       "      <td>1.0</td>\n",
       "      <td>2015.0</td>\n",
       "    </tr>\n",
       "    <tr>\n",
       "      <th>1</th>\n",
       "      <td>95-99</td>\n",
       "      <td>AU</td>\n",
       "      <td>male</td>\n",
       "      <td>9.0</td>\n",
       "      <td>2015.0</td>\n",
       "    </tr>\n",
       "  </tbody>\n",
       "</table>\n",
       "</div>"
      ],
      "text/plain": [
       "  age_bucket country_destination gender  population_in_thousands    year\n",
       "0       100+                  AU   male                      1.0  2015.0\n",
       "1      95-99                  AU   male                      9.0  2015.0"
      ]
     },
     "execution_count": 13,
     "metadata": {},
     "output_type": "execute_result"
    }
   ],
   "source": [
    "# Preview data (again)\n",
    "\n",
    "demog.head(2)"
   ]
  },
  {
   "cell_type": "code",
   "execution_count": 14,
   "metadata": {
    "collapsed": false
   },
   "outputs": [
    {
     "name": "stdout",
     "output_type": "stream",
     "text": [
      "# of Age Brackets: 21\n",
      "Desitination Countries: ['AU' 'CA' 'DE' 'ES' 'FR' 'GB' 'IT' 'NL' 'PT' 'US']\n",
      "Genders: ['male' 'female']\n",
      "Year: [ 2015.]\n"
     ]
    }
   ],
   "source": [
    "# Check unique values per column\n",
    "\n",
    "print \"# of Age Brackets:\", len(demog['age_bucket'].unique())\n",
    "print \"Desitination Countries:\",demog['country_destination'].unique()\n",
    "print \"Genders:\",demog['gender'].unique()\n",
    "print \"Year:\",demog['year'].unique()"
   ]
  },
  {
   "cell_type": "code",
   "execution_count": 15,
   "metadata": {
    "collapsed": false
   },
   "outputs": [
    {
     "data": {
      "text/plain": [
       "age_bucket                  object\n",
       "country_destination         object\n",
       "gender                      object\n",
       "population_in_thousands    float64\n",
       "year                         int64\n",
       "dtype: object"
      ]
     },
     "execution_count": 15,
     "metadata": {},
     "output_type": "execute_result"
    }
   ],
   "source": [
    "# Change year to int (because it bothered me as float)\n",
    "\n",
    "demog['year'] = pd.to_numeric('2015')\n",
    "demog.dtypes"
   ]
  },
  {
   "cell_type": "code",
   "execution_count": 16,
   "metadata": {
    "collapsed": false
   },
   "outputs": [
    {
     "data": {
      "text/plain": [
       "age_bucket                 0\n",
       "country_destination        0\n",
       "gender                     0\n",
       "population_in_thousands    0\n",
       "year                       0\n",
       "dtype: int64"
      ]
     },
     "execution_count": 16,
     "metadata": {},
     "output_type": "execute_result"
    }
   ],
   "source": [
    "# Check for null values by column\n",
    "\n",
    "demog.isnull().sum()"
   ]
  },
  {
   "cell_type": "code",
   "execution_count": 17,
   "metadata": {
    "collapsed": false
   },
   "outputs": [
    {
     "data": {
      "image/png": "[encoded data removed]",
      "text/plain": [
       "<matplotlib.figure.Figure at 0x11e7c2b10>"
      ]
     },
     "metadata": {},
     "output_type": "display_data"
    }
   ],
   "source": [
    "# Total Population in thousands by Age Bucket (country data, not user data)\n",
    "\n",
    "# Get Total Sum by Age_Bucket\n",
    "age_pivot = pd.pivot_table(demog, index = 'age_bucket', values = 'population_in_thousands', aggfunc = sum, )\n",
    "age_pivot = pd.DataFrame(age_pivot)\n",
    "age_pivot.reset_index(inplace = True)\n",
    "age_pivot.sort_values(by=['age_bucket'], ascending=[True])\n",
    "\n",
    "# Plot\n",
    "action = age_pivot['age_bucket']\n",
    "count = age_pivot['population_in_thousands']\n",
    "\n",
    "pos = np.arange(len(action))\n",
    "width = 1.0\n",
    "\n",
    "ax = plt.axes()\n",
    "ax.set_yticks(pos + (width / 2))\n",
    "ax.set_yticklabels(action)\n",
    "\n",
    "plt.barh(pos, count, width, color='crimson')\n",
    "plt.title(\"Global Total Population in Thousands by Age Bucket\")\n",
    "plt.show()"
   ]
  },
  {
   "cell_type": "markdown",
   "metadata": {},
   "source": [
    "Age / gender does not seem helpful except to compare total population by age with Airbnb user ages"
   ]
  },
  {
   "cell_type": "markdown",
   "metadata": {},
   "source": [
    "## Explore countries"
   ]
  },
  {
   "cell_type": "code",
   "execution_count": 18,
   "metadata": {
    "collapsed": false
   },
   "outputs": [
    {
     "data": {
      "text/html": [
       "<div>\n",
       "<table border=\"1\" class=\"dataframe\">\n",
       "  <thead>\n",
       "    <tr style=\"text-align: right;\">\n",
       "      <th></th>\n",
       "      <th>country_destination</th>\n",
       "      <th>lat_destination</th>\n",
       "      <th>lng_destination</th>\n",
       "      <th>distance_km</th>\n",
       "      <th>destination_km2</th>\n",
       "      <th>destination_language</th>\n",
       "      <th>language_levenshtein_distance</th>\n",
       "    </tr>\n",
       "  </thead>\n",
       "  <tbody>\n",
       "    <tr>\n",
       "      <th>0</th>\n",
       "      <td>AU</td>\n",
       "      <td>-26.853388</td>\n",
       "      <td>133.275160</td>\n",
       "      <td>15297.7440</td>\n",
       "      <td>7741220.0</td>\n",
       "      <td>eng</td>\n",
       "      <td>0.00</td>\n",
       "    </tr>\n",
       "    <tr>\n",
       "      <th>1</th>\n",
       "      <td>CA</td>\n",
       "      <td>62.393303</td>\n",
       "      <td>-96.818146</td>\n",
       "      <td>2828.1333</td>\n",
       "      <td>9984670.0</td>\n",
       "      <td>eng</td>\n",
       "      <td>0.00</td>\n",
       "    </tr>\n",
       "    <tr>\n",
       "      <th>2</th>\n",
       "      <td>DE</td>\n",
       "      <td>51.165707</td>\n",
       "      <td>10.452764</td>\n",
       "      <td>7879.5680</td>\n",
       "      <td>357022.0</td>\n",
       "      <td>deu</td>\n",
       "      <td>72.61</td>\n",
       "    </tr>\n",
       "    <tr>\n",
       "      <th>3</th>\n",
       "      <td>ES</td>\n",
       "      <td>39.896027</td>\n",
       "      <td>-2.487694</td>\n",
       "      <td>7730.7240</td>\n",
       "      <td>505370.0</td>\n",
       "      <td>spa</td>\n",
       "      <td>92.25</td>\n",
       "    </tr>\n",
       "    <tr>\n",
       "      <th>4</th>\n",
       "      <td>FR</td>\n",
       "      <td>46.232193</td>\n",
       "      <td>2.209667</td>\n",
       "      <td>7682.9450</td>\n",
       "      <td>643801.0</td>\n",
       "      <td>fra</td>\n",
       "      <td>92.06</td>\n",
       "    </tr>\n",
       "    <tr>\n",
       "      <th>5</th>\n",
       "      <td>GB</td>\n",
       "      <td>54.633220</td>\n",
       "      <td>-3.432277</td>\n",
       "      <td>6883.6590</td>\n",
       "      <td>243610.0</td>\n",
       "      <td>eng</td>\n",
       "      <td>0.00</td>\n",
       "    </tr>\n",
       "    <tr>\n",
       "      <th>6</th>\n",
       "      <td>IT</td>\n",
       "      <td>41.873990</td>\n",
       "      <td>12.564167</td>\n",
       "      <td>8636.6310</td>\n",
       "      <td>301340.0</td>\n",
       "      <td>ita</td>\n",
       "      <td>89.40</td>\n",
       "    </tr>\n",
       "    <tr>\n",
       "      <th>7</th>\n",
       "      <td>NL</td>\n",
       "      <td>52.133057</td>\n",
       "      <td>5.295250</td>\n",
       "      <td>7524.3203</td>\n",
       "      <td>41543.0</td>\n",
       "      <td>nld</td>\n",
       "      <td>63.22</td>\n",
       "    </tr>\n",
       "    <tr>\n",
       "      <th>8</th>\n",
       "      <td>PT</td>\n",
       "      <td>39.553444</td>\n",
       "      <td>-7.839319</td>\n",
       "      <td>7355.2534</td>\n",
       "      <td>92090.0</td>\n",
       "      <td>por</td>\n",
       "      <td>95.45</td>\n",
       "    </tr>\n",
       "    <tr>\n",
       "      <th>9</th>\n",
       "      <td>US</td>\n",
       "      <td>36.966427</td>\n",
       "      <td>-95.844030</td>\n",
       "      <td>0.0000</td>\n",
       "      <td>9826675.0</td>\n",
       "      <td>eng</td>\n",
       "      <td>0.00</td>\n",
       "    </tr>\n",
       "  </tbody>\n",
       "</table>\n",
       "</div>"
      ],
      "text/plain": [
       "  country_destination  lat_destination  lng_destination  distance_km  \\\n",
       "0                  AU       -26.853388       133.275160   15297.7440   \n",
       "1                  CA        62.393303       -96.818146    2828.1333   \n",
       "2                  DE        51.165707        10.452764    7879.5680   \n",
       "3                  ES        39.896027        -2.487694    7730.7240   \n",
       "4                  FR        46.232193         2.209667    7682.9450   \n",
       "5                  GB        54.633220        -3.432277    6883.6590   \n",
       "6                  IT        41.873990        12.564167    8636.6310   \n",
       "7                  NL        52.133057         5.295250    7524.3203   \n",
       "8                  PT        39.553444        -7.839319    7355.2534   \n",
       "9                  US        36.966427       -95.844030       0.0000   \n",
       "\n",
       "   destination_km2 destination_language   language_levenshtein_distance  \n",
       "0        7741220.0                   eng                           0.00  \n",
       "1        9984670.0                   eng                           0.00  \n",
       "2         357022.0                   deu                          72.61  \n",
       "3         505370.0                   spa                          92.25  \n",
       "4         643801.0                   fra                          92.06  \n",
       "5         243610.0                   eng                           0.00  \n",
       "6         301340.0                   ita                          89.40  \n",
       "7          41543.0                   nld                          63.22  \n",
       "8          92090.0                   por                          95.45  \n",
       "9        9826675.0                   eng                           0.00  "
      ]
     },
     "execution_count": 18,
     "metadata": {},
     "output_type": "execute_result"
    }
   ],
   "source": [
    "# Preview the data\n",
    "\n",
    "countries.head(20)"
   ]
  },
  {
   "cell_type": "code",
   "execution_count": 19,
   "metadata": {
    "collapsed": true
   },
   "outputs": [],
   "source": [
    "# Correct punctuation in titles\n",
    "\n",
    "countries.columns = ['country_destination', 'lat_destination', 'lng_destination', 'distance_km', 'destination_km2', 'destination_language', \\\n",
    "       'language_levenshtein_distance']"
   ]
  },
  {
   "cell_type": "code",
   "execution_count": 20,
   "metadata": {
    "collapsed": false
   },
   "outputs": [
    {
     "name": "stdout",
     "output_type": "stream",
     "text": [
      "Desitination Countries: ['AU' 'CA' 'DE' 'ES' 'FR' 'GB' 'IT' 'NL' 'PT' 'US'] Count= 10\n",
      "Languages: ['eng' 'deu' 'spa' 'fra' 'ita' 'nld' 'por'] Count= 10\n"
     ]
    }
   ],
   "source": [
    "# Check unique values\n",
    "\n",
    "print \"Desitination Countries:\",countries['country_destination'].unique(),\"Count=\",len(countries['country_destination'])\n",
    "print \"Languages:\",countries['destination_language'].unique(),\"Count=\",len(countries['destination_language'])"
   ]
  },
  {
   "cell_type": "code",
   "execution_count": 21,
   "metadata": {
    "collapsed": false
   },
   "outputs": [
    {
     "data": {
      "text/plain": [
       "country_destination     0\n",
       "lat_destination         0\n",
       "lng_destination         0\n",
       "destination_language    0\n",
       "dtype: int64"
      ]
     },
     "execution_count": 21,
     "metadata": {},
     "output_type": "execute_result"
    }
   ],
   "source": [
    "# Delete some columns\n",
    "del countries['language_levenshtein_distance']\n",
    "del countries['distance_km']\n",
    "del countries['destination_km2']\n",
    "\n",
    "# Delete null values\n",
    "countries.isnull().sum()"
   ]
  },
  {
   "cell_type": "markdown",
   "metadata": {},
   "source": [
    "## Sessions"
   ]
  },
  {
   "cell_type": "code",
   "execution_count": 22,
   "metadata": {
    "collapsed": false
   },
   "outputs": [
    {
     "data": {
      "text/html": [
       "<div>\n",
       "<table border=\"1\" class=\"dataframe\">\n",
       "  <thead>\n",
       "    <tr style=\"text-align: right;\">\n",
       "      <th></th>\n",
       "      <th>user_id</th>\n",
       "      <th>action</th>\n",
       "      <th>action_type</th>\n",
       "      <th>action_detail</th>\n",
       "      <th>device_type</th>\n",
       "      <th>secs_elapsed</th>\n",
       "    </tr>\n",
       "  </thead>\n",
       "  <tbody>\n",
       "    <tr>\n",
       "      <th>0</th>\n",
       "      <td>d1mm9tcy42</td>\n",
       "      <td>lookup</td>\n",
       "      <td>NaN</td>\n",
       "      <td>NaN</td>\n",
       "      <td>Windows Desktop</td>\n",
       "      <td>319.0</td>\n",
       "    </tr>\n",
       "    <tr>\n",
       "      <th>1</th>\n",
       "      <td>d1mm9tcy42</td>\n",
       "      <td>search_results</td>\n",
       "      <td>click</td>\n",
       "      <td>view_search_results</td>\n",
       "      <td>Windows Desktop</td>\n",
       "      <td>67753.0</td>\n",
       "    </tr>\n",
       "  </tbody>\n",
       "</table>\n",
       "</div>"
      ],
      "text/plain": [
       "      user_id          action action_type        action_detail  \\\n",
       "0  d1mm9tcy42          lookup         NaN                  NaN   \n",
       "1  d1mm9tcy42  search_results       click  view_search_results   \n",
       "\n",
       "       device_type  secs_elapsed  \n",
       "0  Windows Desktop         319.0  \n",
       "1  Windows Desktop       67753.0  "
      ]
     },
     "execution_count": 22,
     "metadata": {},
     "output_type": "execute_result"
    }
   ],
   "source": [
    "# Re-import clean data\n",
    "sessions = pd.read_csv('/Users/ebzimm/Desktop/capstone_project/sessions.csv')\n",
    "\n",
    "# Establish original count\n",
    "orig_count = len(sessions)\n",
    "\n",
    "# Preview the data\n",
    "sessions.head(2)"
   ]
  },
  {
   "cell_type": "code",
   "execution_count": 23,
   "metadata": {
    "collapsed": false
   },
   "outputs": [
    {
     "name": "stdout",
     "output_type": "stream",
     "text": [
      "# Unique Users: 135484\n",
      "# Unique Actions: 360\n",
      "# Unique Action Types 11 ... [nan 'click' 'data' 'view' 'submit' 'message_post' '-unknown-'\n",
      " 'booking_request' 'partner_callback' 'booking_response' 'modify']\n",
      "# Unique Action Details 156\n",
      "# Unique Device Types 14 ... ['Windows Desktop' '-unknown-' 'Mac Desktop' 'Android Phone' 'iPhone'\n",
      " 'iPad Tablet' 'Android App Unknown Phone/Tablet' 'Linux Desktop' 'Tablet'\n",
      " 'Chromebook' 'Blackberry' 'iPodtouch' 'Windows Phone' 'Opera Phone']\n"
     ]
    }
   ],
   "source": [
    "# Check unique values\n",
    "\n",
    "print \"# Unique Users:\", len(sessions['user_id'].unique())\n",
    "print \"# Unique Actions:\", len(sessions['action'].unique())\n",
    "print \"# Unique Action Types\", len(sessions['action_type'].unique()), \"...\", sessions['action_type'].unique()\n",
    "print \"# Unique Action Details\", len(sessions['action_detail'].unique())\n",
    "print \"# Unique Device Types\", len(sessions['device_type'].unique()), \"...\", sessions['device_type'].unique()"
   ]
  },
  {
   "cell_type": "code",
   "execution_count": 24,
   "metadata": {
    "collapsed": false
   },
   "outputs": [
    {
     "data": {
      "text/plain": [
       "user_id            34496\n",
       "action             79626\n",
       "action_type      1126204\n",
       "action_detail    1126204\n",
       "device_type            0\n",
       "secs_elapsed      136031\n",
       "dtype: int64"
      ]
     },
     "execution_count": 24,
     "metadata": {},
     "output_type": "execute_result"
    }
   ],
   "source": [
    "# Check null values\n",
    "\n",
    "sessions.isnull().sum()\n",
    "\n",
    "# Oh dear; there are a lot."
   ]
  },
  {
   "cell_type": "code",
   "execution_count": 25,
   "metadata": {
    "collapsed": false
   },
   "outputs": [],
   "source": [
    "# Delete some columns\n",
    "del sessions['action']\n",
    "del sessions['action_type']\n",
    "\n",
    "# Drop all null values from sessions\n",
    "sessions = sessions.dropna()"
   ]
  },
  {
   "cell_type": "code",
   "execution_count": 26,
   "metadata": {
    "collapsed": false
   },
   "outputs": [
    {
     "name": "stdout",
     "output_type": "stream",
     "text": [
      "Original Count= 10567737\n",
      "Count After .dropna()= 9277992\n",
      "Dropped Rows= 1289745\n",
      "drop_perc 12.0 %\n"
     ]
    }
   ],
   "source": [
    "# Calculate new vs orignal counts after dropping nulls\n",
    "\n",
    "new_count = len(sessions)\n",
    "drop = orig_count-new_count\n",
    "drop_perc = round(((float(drop))/(float(orig_count))*100))\n",
    "\n",
    "print \"Original Count=\",orig_count\n",
    "print \"Count After .dropna()=\",new_count\n",
    "print \"Dropped Rows=\",drop\n",
    "print \"drop_perc\",drop_perc,\"%\""
   ]
  },
  {
   "cell_type": "code",
   "execution_count": 27,
   "metadata": {
    "collapsed": false
   },
   "outputs": [],
   "source": [
    "#Simplify Action_details into key words\n",
    "\n",
    "def reorg_action_detail(list):\n",
    "    new_col = []\n",
    "    for i in list: \n",
    "        if \"host\" in i:\n",
    "            new_col.append('host')\n",
    "        elif \"coupon\" in i:\n",
    "            new_col.append('coupon')\n",
    "        elif \"message\" in i:\n",
    "            new_col.append(\"message\")\n",
    "        elif \"search\" in i:\n",
    "            new_col.append(\"search\")\n",
    "        elif \"profile\" in i:\n",
    "            new_col.append('profile')\n",
    "        elif \"wishlist\" in i:\n",
    "            new_col.append('wishlist')\n",
    "        elif \"review\" in i:\n",
    "            new_col.append('review')\n",
    "        elif \"book\" in i:\n",
    "            new_col.append('book')\n",
    "        elif \"guest\" in i: \n",
    "            new_col.append(\"guest\")\n",
    "        elif \"cancel\" in i or \"deactiv\" in i:\n",
    "            new_col.append(\"cancel\")\n",
    "        else:\n",
    "            new_col.append(\"other\")\n",
    "\n",
    "    return new_col"
   ]
  },
  {
   "cell_type": "code",
   "execution_count": 28,
   "metadata": {
    "collapsed": false
   },
   "outputs": [],
   "source": [
    "# Insert new column\n",
    "sessions['action_key_word'] = reorg_action_detail(sessions['action_detail'])\n",
    "\n",
    "# Delete old column\n",
    "del sessions['action_detail']"
   ]
  },
  {
   "cell_type": "code",
   "execution_count": 29,
   "metadata": {
    "collapsed": false
   },
   "outputs": [
    {
     "data": {
      "text/html": [
       "<div>\n",
       "<table border=\"1\" class=\"dataframe\">\n",
       "  <thead>\n",
       "    <tr style=\"text-align: right;\">\n",
       "      <th></th>\n",
       "      <th>user_id</th>\n",
       "      <th>device_type</th>\n",
       "      <th>secs_elapsed</th>\n",
       "      <th>action_key_word</th>\n",
       "    </tr>\n",
       "  </thead>\n",
       "  <tbody>\n",
       "    <tr>\n",
       "      <th>1</th>\n",
       "      <td>d1mm9tcy42</td>\n",
       "      <td>Windows Desktop</td>\n",
       "      <td>67753.0</td>\n",
       "      <td>search</td>\n",
       "    </tr>\n",
       "    <tr>\n",
       "      <th>3</th>\n",
       "      <td>d1mm9tcy42</td>\n",
       "      <td>Windows Desktop</td>\n",
       "      <td>22141.0</td>\n",
       "      <td>search</td>\n",
       "    </tr>\n",
       "    <tr>\n",
       "      <th>5</th>\n",
       "      <td>d1mm9tcy42</td>\n",
       "      <td>Windows Desktop</td>\n",
       "      <td>7703.0</td>\n",
       "      <td>search</td>\n",
       "    </tr>\n",
       "    <tr>\n",
       "      <th>7</th>\n",
       "      <td>d1mm9tcy42</td>\n",
       "      <td>Windows Desktop</td>\n",
       "      <td>831.0</td>\n",
       "      <td>wishlist</td>\n",
       "    </tr>\n",
       "    <tr>\n",
       "      <th>8</th>\n",
       "      <td>d1mm9tcy42</td>\n",
       "      <td>Windows Desktop</td>\n",
       "      <td>20842.0</td>\n",
       "      <td>search</td>\n",
       "    </tr>\n",
       "  </tbody>\n",
       "</table>\n",
       "</div>"
      ],
      "text/plain": [
       "      user_id      device_type  secs_elapsed action_key_word\n",
       "1  d1mm9tcy42  Windows Desktop       67753.0          search\n",
       "3  d1mm9tcy42  Windows Desktop       22141.0          search\n",
       "5  d1mm9tcy42  Windows Desktop        7703.0          search\n",
       "7  d1mm9tcy42  Windows Desktop         831.0        wishlist\n",
       "8  d1mm9tcy42  Windows Desktop       20842.0          search"
      ]
     },
     "execution_count": 29,
     "metadata": {},
     "output_type": "execute_result"
    }
   ],
   "source": [
    "# Preview results\n",
    "\n",
    "sessions.head()"
   ]
  },
  {
   "cell_type": "code",
   "execution_count": 30,
   "metadata": {
    "collapsed": false
   },
   "outputs": [
    {
     "data": {
      "text/html": [
       "<div>\n",
       "<table border=\"1\" class=\"dataframe\">\n",
       "  <thead>\n",
       "    <tr style=\"text-align: right;\">\n",
       "      <th></th>\n",
       "      <th>user_id</th>\n",
       "      <th>action_key_word</th>\n",
       "      <th>device_type</th>\n",
       "      <th>med_secs_elapsed</th>\n",
       "    </tr>\n",
       "  </thead>\n",
       "  <tbody>\n",
       "    <tr>\n",
       "      <th>0</th>\n",
       "      <td>00023iyk9l</td>\n",
       "      <td>message</td>\n",
       "      <td>Mac Desktop</td>\n",
       "      <td>129817.0</td>\n",
       "    </tr>\n",
       "    <tr>\n",
       "      <th>1</th>\n",
       "      <td>00023iyk9l</td>\n",
       "      <td>other</td>\n",
       "      <td>Mac Desktop</td>\n",
       "      <td>811.5</td>\n",
       "    </tr>\n",
       "    <tr>\n",
       "      <th>2</th>\n",
       "      <td>00023iyk9l</td>\n",
       "      <td>other</td>\n",
       "      <td>iPhone</td>\n",
       "      <td>2339.5</td>\n",
       "    </tr>\n",
       "    <tr>\n",
       "      <th>3</th>\n",
       "      <td>00023iyk9l</td>\n",
       "      <td>search</td>\n",
       "      <td>Mac Desktop</td>\n",
       "      <td>9938.0</td>\n",
       "    </tr>\n",
       "    <tr>\n",
       "      <th>4</th>\n",
       "      <td>00023iyk9l</td>\n",
       "      <td>wishlist</td>\n",
       "      <td>Mac Desktop</td>\n",
       "      <td>871.0</td>\n",
       "    </tr>\n",
       "  </tbody>\n",
       "</table>\n",
       "</div>"
      ],
      "text/plain": [
       "      user_id action_key_word  device_type  med_secs_elapsed\n",
       "0  00023iyk9l         message  Mac Desktop          129817.0\n",
       "1  00023iyk9l           other  Mac Desktop             811.5\n",
       "2  00023iyk9l           other       iPhone            2339.5\n",
       "3  00023iyk9l          search  Mac Desktop            9938.0\n",
       "4  00023iyk9l        wishlist  Mac Desktop             871.0"
      ]
     },
     "execution_count": 30,
     "metadata": {},
     "output_type": "execute_result"
    }
   ],
   "source": [
    "# Pivot to find action_key_word median time_elapsed by user_id\n",
    "\n",
    "sessions_pivot = pd.pivot_table(sessions, index = ['user_id', 'action_key_word','device_type'], aggfunc = np.median)\n",
    "sessions_pivot.reset_index(inplace=True)\n",
    "sessions_pivot.columns = ['user_id','action_key_word','device_type','med_secs_elapsed']\n",
    "sessions_pivot.head()"
   ]
  },
  {
   "cell_type": "code",
   "execution_count": 31,
   "metadata": {
    "collapsed": false
   },
   "outputs": [
    {
     "data": {
      "image/png": "[encoded data removed]",
      "text/plain": [
       "<matplotlib.figure.Figure at 0x10b516c10>"
      ]
     },
     "metadata": {},
     "output_type": "display_data"
    }
   ],
   "source": [
    "# Device histogram\n",
    "\n",
    "# Get Values\n",
    "device_df = pd.DataFrame(sessions_pivot['device_type'].value_counts())\n",
    "device_df.reset_index(inplace=True)\n",
    "device_df.columns = ['device','count']\n",
    "\n",
    "# Plot\n",
    "device = device_df['device']\n",
    "count = device_df['count']\n",
    "\n",
    "pos = np.arange(len(device))\n",
    "width = 1.0\n",
    "\n",
    "ax = plt.axes()\n",
    "ax.set_yticks(pos + (width / 2))\n",
    "ax.set_yticklabels(device)\n",
    "\n",
    "plt.barh(pos, count, width, color='teal')\n",
    "plt.title(\"Device Distribution\")\n",
    "plt.show()"
   ]
  },
  {
   "cell_type": "markdown",
   "metadata": {},
   "source": [
    "<img style=\"float: left;\" src=\"http://imgur.com/TyNLaNH.png\">"
   ]
  },
  {
   "cell_type": "markdown",
   "metadata": {},
   "source": [
    "- Interesting to note that median view length is shorter than median click length\n",
    "- Views are by far the highest volume activity on Airbnb. People are spending very little time on average viewing properties (scrolling, most likely) but are willing to work through a lot of content.\n",
    "    - How can Airbnb improve conversion or extend viewing periods?\n",
    "- Messaging and booking take the longest time to complete on average. Messaging makes sense, but there may be opportunity to expedite the booking process."
   ]
  },
  {
   "cell_type": "markdown",
   "metadata": {},
   "source": [
    "## Train_Users"
   ]
  },
  {
   "cell_type": "code",
   "execution_count": 32,
   "metadata": {
    "collapsed": false
   },
   "outputs": [
    {
     "data": {
      "text/html": [
       "<div>\n",
       "<table border=\"1\" class=\"dataframe\">\n",
       "  <thead>\n",
       "    <tr style=\"text-align: right;\">\n",
       "      <th></th>\n",
       "      <th>id</th>\n",
       "      <th>date_account_created</th>\n",
       "      <th>timestamp_first_active</th>\n",
       "      <th>date_first_booking</th>\n",
       "      <th>gender</th>\n",
       "      <th>age</th>\n",
       "      <th>signup_method</th>\n",
       "      <th>signup_flow</th>\n",
       "      <th>language</th>\n",
       "      <th>affiliate_channel</th>\n",
       "      <th>affiliate_provider</th>\n",
       "      <th>first_affiliate_tracked</th>\n",
       "      <th>signup_app</th>\n",
       "      <th>first_device_type</th>\n",
       "      <th>first_browser</th>\n",
       "      <th>country_destination</th>\n",
       "    </tr>\n",
       "  </thead>\n",
       "  <tbody>\n",
       "    <tr>\n",
       "      <th>0</th>\n",
       "      <td>gxn3p5htnn</td>\n",
       "      <td>2010-06-28</td>\n",
       "      <td>20090319043255</td>\n",
       "      <td>NaN</td>\n",
       "      <td>-unknown-</td>\n",
       "      <td>NaN</td>\n",
       "      <td>facebook</td>\n",
       "      <td>0</td>\n",
       "      <td>en</td>\n",
       "      <td>direct</td>\n",
       "      <td>direct</td>\n",
       "      <td>untracked</td>\n",
       "      <td>Web</td>\n",
       "      <td>Mac Desktop</td>\n",
       "      <td>Chrome</td>\n",
       "      <td>NDF</td>\n",
       "    </tr>\n",
       "    <tr>\n",
       "      <th>1</th>\n",
       "      <td>820tgsjxq7</td>\n",
       "      <td>2011-05-25</td>\n",
       "      <td>20090523174809</td>\n",
       "      <td>NaN</td>\n",
       "      <td>MALE</td>\n",
       "      <td>38.0</td>\n",
       "      <td>facebook</td>\n",
       "      <td>0</td>\n",
       "      <td>en</td>\n",
       "      <td>seo</td>\n",
       "      <td>google</td>\n",
       "      <td>untracked</td>\n",
       "      <td>Web</td>\n",
       "      <td>Mac Desktop</td>\n",
       "      <td>Chrome</td>\n",
       "      <td>NDF</td>\n",
       "    </tr>\n",
       "    <tr>\n",
       "      <th>2</th>\n",
       "      <td>4ft3gnwmtx</td>\n",
       "      <td>2010-09-28</td>\n",
       "      <td>20090609231247</td>\n",
       "      <td>2010-08-02</td>\n",
       "      <td>FEMALE</td>\n",
       "      <td>56.0</td>\n",
       "      <td>basic</td>\n",
       "      <td>3</td>\n",
       "      <td>en</td>\n",
       "      <td>direct</td>\n",
       "      <td>direct</td>\n",
       "      <td>untracked</td>\n",
       "      <td>Web</td>\n",
       "      <td>Windows Desktop</td>\n",
       "      <td>IE</td>\n",
       "      <td>US</td>\n",
       "    </tr>\n",
       "    <tr>\n",
       "      <th>3</th>\n",
       "      <td>bjjt8pjhuk</td>\n",
       "      <td>2011-12-05</td>\n",
       "      <td>20091031060129</td>\n",
       "      <td>2012-09-08</td>\n",
       "      <td>FEMALE</td>\n",
       "      <td>42.0</td>\n",
       "      <td>facebook</td>\n",
       "      <td>0</td>\n",
       "      <td>en</td>\n",
       "      <td>direct</td>\n",
       "      <td>direct</td>\n",
       "      <td>untracked</td>\n",
       "      <td>Web</td>\n",
       "      <td>Mac Desktop</td>\n",
       "      <td>Firefox</td>\n",
       "      <td>other</td>\n",
       "    </tr>\n",
       "    <tr>\n",
       "      <th>4</th>\n",
       "      <td>87mebub9p4</td>\n",
       "      <td>2010-09-14</td>\n",
       "      <td>20091208061105</td>\n",
       "      <td>2010-02-18</td>\n",
       "      <td>-unknown-</td>\n",
       "      <td>41.0</td>\n",
       "      <td>basic</td>\n",
       "      <td>0</td>\n",
       "      <td>en</td>\n",
       "      <td>direct</td>\n",
       "      <td>direct</td>\n",
       "      <td>untracked</td>\n",
       "      <td>Web</td>\n",
       "      <td>Mac Desktop</td>\n",
       "      <td>Chrome</td>\n",
       "      <td>US</td>\n",
       "    </tr>\n",
       "  </tbody>\n",
       "</table>\n",
       "</div>"
      ],
      "text/plain": [
       "           id date_account_created  timestamp_first_active date_first_booking  \\\n",
       "0  gxn3p5htnn           2010-06-28          20090319043255                NaN   \n",
       "1  820tgsjxq7           2011-05-25          20090523174809                NaN   \n",
       "2  4ft3gnwmtx           2010-09-28          20090609231247         2010-08-02   \n",
       "3  bjjt8pjhuk           2011-12-05          20091031060129         2012-09-08   \n",
       "4  87mebub9p4           2010-09-14          20091208061105         2010-02-18   \n",
       "\n",
       "      gender   age signup_method  signup_flow language affiliate_channel  \\\n",
       "0  -unknown-   NaN      facebook            0       en            direct   \n",
       "1       MALE  38.0      facebook            0       en               seo   \n",
       "2     FEMALE  56.0         basic            3       en            direct   \n",
       "3     FEMALE  42.0      facebook            0       en            direct   \n",
       "4  -unknown-  41.0         basic            0       en            direct   \n",
       "\n",
       "  affiliate_provider first_affiliate_tracked signup_app first_device_type  \\\n",
       "0             direct               untracked        Web       Mac Desktop   \n",
       "1             google               untracked        Web       Mac Desktop   \n",
       "2             direct               untracked        Web   Windows Desktop   \n",
       "3             direct               untracked        Web       Mac Desktop   \n",
       "4             direct               untracked        Web       Mac Desktop   \n",
       "\n",
       "  first_browser country_destination  \n",
       "0        Chrome                 NDF  \n",
       "1        Chrome                 NDF  \n",
       "2            IE                  US  \n",
       "3       Firefox               other  \n",
       "4        Chrome                  US  "
      ]
     },
     "execution_count": 32,
     "metadata": {},
     "output_type": "execute_result"
    }
   ],
   "source": [
    "# Re-import clean data\n",
    "train_users = pd.read_csv('/Users/ebzimm/Desktop/capstone_project/train_users_2.csv')\n",
    "\n",
    "# Preview data\n",
    "train_users.head()"
   ]
  },
  {
   "cell_type": "code",
   "execution_count": 33,
   "metadata": {
    "collapsed": true
   },
   "outputs": [],
   "source": [
    "# Define functions for re-classifying some columns\n",
    "\n",
    "def reorg_device(list):\n",
    "    new_col = []\n",
    "    for i in list:\n",
    "        if i=='Mac Desktop' or i=='Windows Desktop' or i=='Linux Desktop' or i=='Chromebook':\n",
    "            new_col.append('Desktop')\n",
    "        elif i=='iPhone' or i=='Android Phone' or i=='Blackberry' or i=='Opera Phone' or i=='Windows Phone':\n",
    "            new_col.append('Phone')\n",
    "        elif i=='iPad Tablet' or i=='Tablet':\n",
    "            new_col.append('Tablet')\n",
    "        else:\n",
    "            new_col.append('Other')\n",
    "    return new_col\n",
    "\n",
    "def reorg_OS(list):\n",
    "    new_col = []\n",
    "    for i in list:\n",
    "        if i=='Mac Desktop' or i=='iPhone' or i=='iPad Tablet' or i=='iPodtouch':\n",
    "            new_col.append('Mac')\n",
    "        elif i=='Windows Desktop' or i=='Android Phone' or i=='Windows Phone' or i=='Blackberry' or i=='Chromebook'\\\n",
    "            or i=='Android App Unknown Phone/Tablet':\n",
    "            new_col.append('PC')\n",
    "        else:\n",
    "            new_col.append('Other')\n",
    "    return new_col\n",
    "\n",
    "\n",
    "def bucket_age(list):\n",
    "    new_col = []\n",
    "    for i in list: \n",
    "        if i<30:\n",
    "            new_col.append('18-29')\n",
    "        elif i>=30 and i<40:\n",
    "            new_col.append('30-39')\n",
    "        elif i>=40 and i<65:\n",
    "            new_col.append('40-64')\n",
    "        else: \n",
    "            new_col.append('>65')\n",
    "    return new_col\n",
    "\n",
    "def reorg_gender(list):\n",
    "    new_col = []\n",
    "    for i in list: \n",
    "        if i=='FEMALE':\n",
    "            new_col.append('female')\n",
    "        elif i=='MALE':\n",
    "            new_col.append('male')\n",
    "        else:\n",
    "            new_col.append('other')\n",
    "    return new_col"
   ]
  },
  {
   "cell_type": "code",
   "execution_count": 34,
   "metadata": {
    "collapsed": false
   },
   "outputs": [],
   "source": [
    "# Imputing\n",
    "median = train_users['age'].median()\n",
    "train_users['age'].fillna(median, inplace=True)\n",
    "\n",
    "# Reclassify columns\n",
    "train_users['first_device_type'] = reorg_device(train_users['first_device_type'])\n",
    "train_users['first_OS'] = reorg_OS(train_users['first_device_type'])\n",
    "train_users['age'] = bucket_age(train_users['age'])\n",
    "train_users['gender'] = reorg_gender(train_users['gender'])\n",
    "\n",
    "# Delete columns\n",
    "del train_users['date_first_booking']\n",
    "# del train_users['signup_method']\n",
    "# del train_users['signup_flow']\n",
    "# del train_users['affiliate_channel']\n",
    "del train_users['first_affiliate_tracked']"
   ]
  },
  {
   "cell_type": "code",
   "execution_count": 35,
   "metadata": {
    "collapsed": false
   },
   "outputs": [
    {
     "data": {
      "text/plain": [
       "id                        0\n",
       "date_account_created      0\n",
       "timestamp_first_active    0\n",
       "gender                    0\n",
       "age                       0\n",
       "signup_method             0\n",
       "signup_flow               0\n",
       "language                  0\n",
       "affiliate_channel         0\n",
       "affiliate_provider        0\n",
       "signup_app                0\n",
       "first_device_type         0\n",
       "first_browser             0\n",
       "country_destination       0\n",
       "first_OS                  0\n",
       "dtype: int64"
      ]
     },
     "execution_count": 35,
     "metadata": {},
     "output_type": "execute_result"
    }
   ],
   "source": [
    "# Check if any null values remain\n",
    "\n",
    "train_users.isnull().sum()"
   ]
  },
  {
   "cell_type": "code",
   "execution_count": 36,
   "metadata": {
    "collapsed": false
   },
   "outputs": [
    {
     "name": "stdout",
     "output_type": "stream",
     "text": [
      "# of rows: 213451\n"
     ]
    },
    {
     "data": {
      "text/html": [
       "<div>\n",
       "<table border=\"1\" class=\"dataframe\">\n",
       "  <thead>\n",
       "    <tr style=\"text-align: right;\">\n",
       "      <th></th>\n",
       "      <th>id</th>\n",
       "      <th>date_account_created</th>\n",
       "      <th>timestamp_first_active</th>\n",
       "      <th>gender</th>\n",
       "      <th>age</th>\n",
       "      <th>signup_method</th>\n",
       "      <th>signup_flow</th>\n",
       "      <th>language</th>\n",
       "      <th>affiliate_channel</th>\n",
       "      <th>affiliate_provider</th>\n",
       "      <th>signup_app</th>\n",
       "      <th>first_device_type</th>\n",
       "      <th>first_browser</th>\n",
       "      <th>country_destination</th>\n",
       "      <th>first_OS</th>\n",
       "    </tr>\n",
       "  </thead>\n",
       "  <tbody>\n",
       "    <tr>\n",
       "      <th>0</th>\n",
       "      <td>gxn3p5htnn</td>\n",
       "      <td>2010-06-28</td>\n",
       "      <td>20090319043255</td>\n",
       "      <td>other</td>\n",
       "      <td>30-39</td>\n",
       "      <td>facebook</td>\n",
       "      <td>0</td>\n",
       "      <td>en</td>\n",
       "      <td>direct</td>\n",
       "      <td>direct</td>\n",
       "      <td>Web</td>\n",
       "      <td>Desktop</td>\n",
       "      <td>Chrome</td>\n",
       "      <td>NDF</td>\n",
       "      <td>Other</td>\n",
       "    </tr>\n",
       "    <tr>\n",
       "      <th>1</th>\n",
       "      <td>820tgsjxq7</td>\n",
       "      <td>2011-05-25</td>\n",
       "      <td>20090523174809</td>\n",
       "      <td>male</td>\n",
       "      <td>30-39</td>\n",
       "      <td>facebook</td>\n",
       "      <td>0</td>\n",
       "      <td>en</td>\n",
       "      <td>seo</td>\n",
       "      <td>google</td>\n",
       "      <td>Web</td>\n",
       "      <td>Desktop</td>\n",
       "      <td>Chrome</td>\n",
       "      <td>NDF</td>\n",
       "      <td>Other</td>\n",
       "    </tr>\n",
       "    <tr>\n",
       "      <th>2</th>\n",
       "      <td>4ft3gnwmtx</td>\n",
       "      <td>2010-09-28</td>\n",
       "      <td>20090609231247</td>\n",
       "      <td>female</td>\n",
       "      <td>40-64</td>\n",
       "      <td>basic</td>\n",
       "      <td>3</td>\n",
       "      <td>en</td>\n",
       "      <td>direct</td>\n",
       "      <td>direct</td>\n",
       "      <td>Web</td>\n",
       "      <td>Desktop</td>\n",
       "      <td>IE</td>\n",
       "      <td>US</td>\n",
       "      <td>Other</td>\n",
       "    </tr>\n",
       "    <tr>\n",
       "      <th>3</th>\n",
       "      <td>bjjt8pjhuk</td>\n",
       "      <td>2011-12-05</td>\n",
       "      <td>20091031060129</td>\n",
       "      <td>female</td>\n",
       "      <td>40-64</td>\n",
       "      <td>facebook</td>\n",
       "      <td>0</td>\n",
       "      <td>en</td>\n",
       "      <td>direct</td>\n",
       "      <td>direct</td>\n",
       "      <td>Web</td>\n",
       "      <td>Desktop</td>\n",
       "      <td>Firefox</td>\n",
       "      <td>other</td>\n",
       "      <td>Other</td>\n",
       "    </tr>\n",
       "    <tr>\n",
       "      <th>4</th>\n",
       "      <td>87mebub9p4</td>\n",
       "      <td>2010-09-14</td>\n",
       "      <td>20091208061105</td>\n",
       "      <td>other</td>\n",
       "      <td>40-64</td>\n",
       "      <td>basic</td>\n",
       "      <td>0</td>\n",
       "      <td>en</td>\n",
       "      <td>direct</td>\n",
       "      <td>direct</td>\n",
       "      <td>Web</td>\n",
       "      <td>Desktop</td>\n",
       "      <td>Chrome</td>\n",
       "      <td>US</td>\n",
       "      <td>Other</td>\n",
       "    </tr>\n",
       "  </tbody>\n",
       "</table>\n",
       "</div>"
      ],
      "text/plain": [
       "           id date_account_created  timestamp_first_active  gender    age  \\\n",
       "0  gxn3p5htnn           2010-06-28          20090319043255   other  30-39   \n",
       "1  820tgsjxq7           2011-05-25          20090523174809    male  30-39   \n",
       "2  4ft3gnwmtx           2010-09-28          20090609231247  female  40-64   \n",
       "3  bjjt8pjhuk           2011-12-05          20091031060129  female  40-64   \n",
       "4  87mebub9p4           2010-09-14          20091208061105   other  40-64   \n",
       "\n",
       "  signup_method  signup_flow language affiliate_channel affiliate_provider  \\\n",
       "0      facebook            0       en            direct             direct   \n",
       "1      facebook            0       en               seo             google   \n",
       "2         basic            3       en            direct             direct   \n",
       "3      facebook            0       en            direct             direct   \n",
       "4         basic            0       en            direct             direct   \n",
       "\n",
       "  signup_app first_device_type first_browser country_destination first_OS  \n",
       "0        Web           Desktop        Chrome                 NDF    Other  \n",
       "1        Web           Desktop        Chrome                 NDF    Other  \n",
       "2        Web           Desktop            IE                  US    Other  \n",
       "3        Web           Desktop       Firefox               other    Other  \n",
       "4        Web           Desktop        Chrome                  US    Other  "
      ]
     },
     "execution_count": 36,
     "metadata": {},
     "output_type": "execute_result"
    }
   ],
   "source": [
    "# Check results\n",
    "\n",
    "print \"# of rows:\", len(train_users)\n",
    "train_users.head()"
   ]
  },
  {
   "cell_type": "markdown",
   "metadata": {},
   "source": [
    "## Test_Users"
   ]
  },
  {
   "cell_type": "code",
   "execution_count": 37,
   "metadata": {
    "collapsed": false
   },
   "outputs": [
    {
     "data": {
      "text/html": [
       "<div>\n",
       "<table border=\"1\" class=\"dataframe\">\n",
       "  <thead>\n",
       "    <tr style=\"text-align: right;\">\n",
       "      <th></th>\n",
       "      <th>id</th>\n",
       "      <th>date_account_created</th>\n",
       "      <th>timestamp_first_active</th>\n",
       "      <th>date_first_booking</th>\n",
       "      <th>gender</th>\n",
       "      <th>age</th>\n",
       "      <th>signup_method</th>\n",
       "      <th>signup_flow</th>\n",
       "      <th>language</th>\n",
       "      <th>affiliate_channel</th>\n",
       "      <th>affiliate_provider</th>\n",
       "      <th>first_affiliate_tracked</th>\n",
       "      <th>signup_app</th>\n",
       "      <th>first_device_type</th>\n",
       "      <th>first_browser</th>\n",
       "    </tr>\n",
       "  </thead>\n",
       "  <tbody>\n",
       "    <tr>\n",
       "      <th>0</th>\n",
       "      <td>5uwns89zht</td>\n",
       "      <td>2014-07-01</td>\n",
       "      <td>20140701000006</td>\n",
       "      <td>NaN</td>\n",
       "      <td>FEMALE</td>\n",
       "      <td>35.0</td>\n",
       "      <td>facebook</td>\n",
       "      <td>0</td>\n",
       "      <td>en</td>\n",
       "      <td>direct</td>\n",
       "      <td>direct</td>\n",
       "      <td>untracked</td>\n",
       "      <td>Moweb</td>\n",
       "      <td>iPhone</td>\n",
       "      <td>Mobile Safari</td>\n",
       "    </tr>\n",
       "    <tr>\n",
       "      <th>1</th>\n",
       "      <td>jtl0dijy2j</td>\n",
       "      <td>2014-07-01</td>\n",
       "      <td>20140701000051</td>\n",
       "      <td>NaN</td>\n",
       "      <td>-unknown-</td>\n",
       "      <td>NaN</td>\n",
       "      <td>basic</td>\n",
       "      <td>0</td>\n",
       "      <td>en</td>\n",
       "      <td>direct</td>\n",
       "      <td>direct</td>\n",
       "      <td>untracked</td>\n",
       "      <td>Moweb</td>\n",
       "      <td>iPhone</td>\n",
       "      <td>Mobile Safari</td>\n",
       "    </tr>\n",
       "    <tr>\n",
       "      <th>2</th>\n",
       "      <td>xx0ulgorjt</td>\n",
       "      <td>2014-07-01</td>\n",
       "      <td>20140701000148</td>\n",
       "      <td>NaN</td>\n",
       "      <td>-unknown-</td>\n",
       "      <td>NaN</td>\n",
       "      <td>basic</td>\n",
       "      <td>0</td>\n",
       "      <td>en</td>\n",
       "      <td>direct</td>\n",
       "      <td>direct</td>\n",
       "      <td>linked</td>\n",
       "      <td>Web</td>\n",
       "      <td>Windows Desktop</td>\n",
       "      <td>Chrome</td>\n",
       "    </tr>\n",
       "    <tr>\n",
       "      <th>3</th>\n",
       "      <td>6c6puo6ix0</td>\n",
       "      <td>2014-07-01</td>\n",
       "      <td>20140701000215</td>\n",
       "      <td>NaN</td>\n",
       "      <td>-unknown-</td>\n",
       "      <td>NaN</td>\n",
       "      <td>basic</td>\n",
       "      <td>0</td>\n",
       "      <td>en</td>\n",
       "      <td>direct</td>\n",
       "      <td>direct</td>\n",
       "      <td>linked</td>\n",
       "      <td>Web</td>\n",
       "      <td>Windows Desktop</td>\n",
       "      <td>IE</td>\n",
       "    </tr>\n",
       "    <tr>\n",
       "      <th>4</th>\n",
       "      <td>czqhjk3yfe</td>\n",
       "      <td>2014-07-01</td>\n",
       "      <td>20140701000305</td>\n",
       "      <td>NaN</td>\n",
       "      <td>-unknown-</td>\n",
       "      <td>NaN</td>\n",
       "      <td>basic</td>\n",
       "      <td>0</td>\n",
       "      <td>en</td>\n",
       "      <td>direct</td>\n",
       "      <td>direct</td>\n",
       "      <td>untracked</td>\n",
       "      <td>Web</td>\n",
       "      <td>Mac Desktop</td>\n",
       "      <td>Safari</td>\n",
       "    </tr>\n",
       "  </tbody>\n",
       "</table>\n",
       "</div>"
      ],
      "text/plain": [
       "           id date_account_created  timestamp_first_active  \\\n",
       "0  5uwns89zht           2014-07-01          20140701000006   \n",
       "1  jtl0dijy2j           2014-07-01          20140701000051   \n",
       "2  xx0ulgorjt           2014-07-01          20140701000148   \n",
       "3  6c6puo6ix0           2014-07-01          20140701000215   \n",
       "4  czqhjk3yfe           2014-07-01          20140701000305   \n",
       "\n",
       "   date_first_booking     gender   age signup_method  signup_flow language  \\\n",
       "0                 NaN     FEMALE  35.0      facebook            0       en   \n",
       "1                 NaN  -unknown-   NaN         basic            0       en   \n",
       "2                 NaN  -unknown-   NaN         basic            0       en   \n",
       "3                 NaN  -unknown-   NaN         basic            0       en   \n",
       "4                 NaN  -unknown-   NaN         basic            0       en   \n",
       "\n",
       "  affiliate_channel affiliate_provider first_affiliate_tracked signup_app  \\\n",
       "0            direct             direct               untracked      Moweb   \n",
       "1            direct             direct               untracked      Moweb   \n",
       "2            direct             direct                  linked        Web   \n",
       "3            direct             direct                  linked        Web   \n",
       "4            direct             direct               untracked        Web   \n",
       "\n",
       "  first_device_type  first_browser  \n",
       "0            iPhone  Mobile Safari  \n",
       "1            iPhone  Mobile Safari  \n",
       "2   Windows Desktop         Chrome  \n",
       "3   Windows Desktop             IE  \n",
       "4       Mac Desktop         Safari  "
      ]
     },
     "execution_count": 37,
     "metadata": {},
     "output_type": "execute_result"
    }
   ],
   "source": [
    "# Implement same steps as Train_users\n",
    "\n",
    "# Re-import clean data\n",
    "test_users = pd.read_csv('/Users/ebzimm/Desktop/capstone_project/test_users.csv')\n",
    "\n",
    "# Preview data\n",
    "test_users.head()"
   ]
  },
  {
   "cell_type": "code",
   "execution_count": 38,
   "metadata": {
    "collapsed": false
   },
   "outputs": [],
   "source": [
    "# Imputing\n",
    "median = test_users['age'].median()\n",
    "test_users['age'].fillna(median, inplace=True)\n",
    "\n",
    "# Reclassify columns\n",
    "test_users['first_device_type'] = reorg_device(test_users['first_device_type'])\n",
    "test_users['first_OS'] = reorg_OS(test_users['first_device_type'])\n",
    "test_users['age'] = bucket_age(test_users['age'])\n",
    "test_users['gender'] = reorg_gender(test_users['gender'])\n",
    "\n",
    "# Delete columns\n",
    "del test_users['date_first_booking']\n",
    "# del test_users['signup_method']\n",
    "# del test_users['signup_flow']\n",
    "# del test_users['affiliate_channel']\n",
    "del test_users['first_affiliate_tracked']"
   ]
  },
  {
   "cell_type": "code",
   "execution_count": 39,
   "metadata": {
    "collapsed": false
   },
   "outputs": [
    {
     "data": {
      "text/plain": [
       "id                        0\n",
       "date_account_created      0\n",
       "timestamp_first_active    0\n",
       "gender                    0\n",
       "age                       0\n",
       "signup_method             0\n",
       "signup_flow               0\n",
       "language                  0\n",
       "affiliate_channel         0\n",
       "affiliate_provider        0\n",
       "signup_app                0\n",
       "first_device_type         0\n",
       "first_browser             0\n",
       "first_OS                  0\n",
       "dtype: int64"
      ]
     },
     "execution_count": 39,
     "metadata": {},
     "output_type": "execute_result"
    }
   ],
   "source": [
    "# Check if any null values remain\n",
    "\n",
    "test_users.isnull().sum()"
   ]
  },
  {
   "cell_type": "code",
   "execution_count": 40,
   "metadata": {
    "collapsed": false
   },
   "outputs": [
    {
     "name": "stdout",
     "output_type": "stream",
     "text": [
      "# of rows: 62096\n"
     ]
    },
    {
     "data": {
      "text/html": [
       "<div>\n",
       "<table border=\"1\" class=\"dataframe\">\n",
       "  <thead>\n",
       "    <tr style=\"text-align: right;\">\n",
       "      <th></th>\n",
       "      <th>id</th>\n",
       "      <th>date_account_created</th>\n",
       "      <th>timestamp_first_active</th>\n",
       "      <th>gender</th>\n",
       "      <th>age</th>\n",
       "      <th>signup_method</th>\n",
       "      <th>signup_flow</th>\n",
       "      <th>language</th>\n",
       "      <th>affiliate_channel</th>\n",
       "      <th>affiliate_provider</th>\n",
       "      <th>signup_app</th>\n",
       "      <th>first_device_type</th>\n",
       "      <th>first_browser</th>\n",
       "      <th>country_destination</th>\n",
       "      <th>first_OS</th>\n",
       "    </tr>\n",
       "  </thead>\n",
       "  <tbody>\n",
       "    <tr>\n",
       "      <th>0</th>\n",
       "      <td>gxn3p5htnn</td>\n",
       "      <td>2010-06-28</td>\n",
       "      <td>20090319043255</td>\n",
       "      <td>other</td>\n",
       "      <td>30-39</td>\n",
       "      <td>facebook</td>\n",
       "      <td>0</td>\n",
       "      <td>en</td>\n",
       "      <td>direct</td>\n",
       "      <td>direct</td>\n",
       "      <td>Web</td>\n",
       "      <td>Desktop</td>\n",
       "      <td>Chrome</td>\n",
       "      <td>NDF</td>\n",
       "      <td>Other</td>\n",
       "    </tr>\n",
       "    <tr>\n",
       "      <th>1</th>\n",
       "      <td>820tgsjxq7</td>\n",
       "      <td>2011-05-25</td>\n",
       "      <td>20090523174809</td>\n",
       "      <td>male</td>\n",
       "      <td>30-39</td>\n",
       "      <td>facebook</td>\n",
       "      <td>0</td>\n",
       "      <td>en</td>\n",
       "      <td>seo</td>\n",
       "      <td>google</td>\n",
       "      <td>Web</td>\n",
       "      <td>Desktop</td>\n",
       "      <td>Chrome</td>\n",
       "      <td>NDF</td>\n",
       "      <td>Other</td>\n",
       "    </tr>\n",
       "    <tr>\n",
       "      <th>2</th>\n",
       "      <td>4ft3gnwmtx</td>\n",
       "      <td>2010-09-28</td>\n",
       "      <td>20090609231247</td>\n",
       "      <td>female</td>\n",
       "      <td>40-64</td>\n",
       "      <td>basic</td>\n",
       "      <td>3</td>\n",
       "      <td>en</td>\n",
       "      <td>direct</td>\n",
       "      <td>direct</td>\n",
       "      <td>Web</td>\n",
       "      <td>Desktop</td>\n",
       "      <td>IE</td>\n",
       "      <td>US</td>\n",
       "      <td>Other</td>\n",
       "    </tr>\n",
       "    <tr>\n",
       "      <th>3</th>\n",
       "      <td>bjjt8pjhuk</td>\n",
       "      <td>2011-12-05</td>\n",
       "      <td>20091031060129</td>\n",
       "      <td>female</td>\n",
       "      <td>40-64</td>\n",
       "      <td>facebook</td>\n",
       "      <td>0</td>\n",
       "      <td>en</td>\n",
       "      <td>direct</td>\n",
       "      <td>direct</td>\n",
       "      <td>Web</td>\n",
       "      <td>Desktop</td>\n",
       "      <td>Firefox</td>\n",
       "      <td>other</td>\n",
       "      <td>Other</td>\n",
       "    </tr>\n",
       "    <tr>\n",
       "      <th>4</th>\n",
       "      <td>87mebub9p4</td>\n",
       "      <td>2010-09-14</td>\n",
       "      <td>20091208061105</td>\n",
       "      <td>other</td>\n",
       "      <td>40-64</td>\n",
       "      <td>basic</td>\n",
       "      <td>0</td>\n",
       "      <td>en</td>\n",
       "      <td>direct</td>\n",
       "      <td>direct</td>\n",
       "      <td>Web</td>\n",
       "      <td>Desktop</td>\n",
       "      <td>Chrome</td>\n",
       "      <td>US</td>\n",
       "      <td>Other</td>\n",
       "    </tr>\n",
       "  </tbody>\n",
       "</table>\n",
       "</div>"
      ],
      "text/plain": [
       "           id date_account_created  timestamp_first_active  gender    age  \\\n",
       "0  gxn3p5htnn           2010-06-28          20090319043255   other  30-39   \n",
       "1  820tgsjxq7           2011-05-25          20090523174809    male  30-39   \n",
       "2  4ft3gnwmtx           2010-09-28          20090609231247  female  40-64   \n",
       "3  bjjt8pjhuk           2011-12-05          20091031060129  female  40-64   \n",
       "4  87mebub9p4           2010-09-14          20091208061105   other  40-64   \n",
       "\n",
       "  signup_method  signup_flow language affiliate_channel affiliate_provider  \\\n",
       "0      facebook            0       en            direct             direct   \n",
       "1      facebook            0       en               seo             google   \n",
       "2         basic            3       en            direct             direct   \n",
       "3      facebook            0       en            direct             direct   \n",
       "4         basic            0       en            direct             direct   \n",
       "\n",
       "  signup_app first_device_type first_browser country_destination first_OS  \n",
       "0        Web           Desktop        Chrome                 NDF    Other  \n",
       "1        Web           Desktop        Chrome                 NDF    Other  \n",
       "2        Web           Desktop            IE                  US    Other  \n",
       "3        Web           Desktop       Firefox               other    Other  \n",
       "4        Web           Desktop        Chrome                  US    Other  "
      ]
     },
     "execution_count": 40,
     "metadata": {},
     "output_type": "execute_result"
    }
   ],
   "source": [
    "# Check results\n",
    "\n",
    "print \"# of rows:\",len(test_users)\n",
    "train_users.head()"
   ]
  },
  {
   "cell_type": "markdown",
   "metadata": {},
   "source": [
    "## Merge Training Data"
   ]
  },
  {
   "cell_type": "code",
   "execution_count": 41,
   "metadata": {
    "collapsed": false
   },
   "outputs": [
    {
     "name": "stderr",
     "output_type": "stream",
     "text": [
      "/Users/ebzimm/anaconda/lib/python2.7/site-packages/sklearn/preprocessing/data.py:321: DeprecationWarning: Passing 1d arrays as data is deprecated in 0.17 and will raise ValueError in 0.19. Reshape your data either using X.reshape(-1, 1) if your data has a single feature or X.reshape(1, -1) if it contains a single sample.\n",
      "  warnings.warn(DEPRECATION_MSG_1D, DeprecationWarning)\n",
      "/Users/ebzimm/anaconda/lib/python2.7/site-packages/sklearn/preprocessing/data.py:356: DeprecationWarning: Passing 1d arrays as data is deprecated in 0.17 and will raise ValueError in 0.19. Reshape your data either using X.reshape(-1, 1) if your data has a single feature or X.reshape(1, -1) if it contains a single sample.\n",
      "  warnings.warn(DEPRECATION_MSG_1D, DeprecationWarning)\n"
     ]
    },
    {
     "name": "stdout",
     "output_type": "stream",
     "text": [
      "# of Rows: 289023\n",
      "                     0\n",
      "action_key_word      0\n",
      "device_type          0\n",
      "med_secs_elapsed     0\n",
      "gender               0\n",
      "age                  0\n",
      "signup_method        0\n",
      "signup_flow          0\n",
      "language             0\n",
      "affiliate_channel    0\n",
      "affiliate_provider   0\n",
      "signup_app           0\n",
      "first_device_type    0\n",
      "first_browser        0\n",
      "country_destination  0\n",
      "first_OS             0\n",
      "OS                   0\n"
     ]
    }
   ],
   "source": [
    "# Join sessions data with train_users data\n",
    "train_data = sessions_pivot.set_index('user_id').join(train_users.set_index('id'), how='inner')\n",
    "train_data.reset_index(inplace=True)\n",
    "\n",
    "# Reclassify Columns\n",
    "train_data['device_type'] = reorg_device(train_data['device_type'])\n",
    "train_data['OS'] = reorg_OS(train_data['device_type'])\n",
    "\n",
    "# Scale med_time_elapsed data\n",
    "scaler = MinMaxScaler(feature_range=(0, 1))\n",
    "train_data['med_secs_elapsed'] = scaler.fit_transform(train_data['med_secs_elapsed'])\n",
    "\n",
    "# Delete columns\n",
    "del train_data['index']\n",
    "del train_data['date_account_created']\n",
    "del train_data['timestamp_first_active']\n",
    "\n",
    "# Check number of rows\n",
    "print '# of Rows:', len(train_data)\n",
    "\n",
    "# Check null values\n",
    "print pd.DataFrame(train_data.isnull().sum())"
   ]
  },
  {
   "cell_type": "code",
   "execution_count": 42,
   "metadata": {
    "collapsed": true
   },
   "outputs": [],
   "source": [
    "# Isolate target\n",
    "y = train_data['country_destination']\n",
    "\n",
    "del train_data['country_destination']"
   ]
  },
  {
   "cell_type": "code",
   "execution_count": 43,
   "metadata": {
    "collapsed": false
   },
   "outputs": [
    {
     "data": {
      "text/html": [
       "<div>\n",
       "<table border=\"1\" class=\"dataframe\">\n",
       "  <thead>\n",
       "    <tr style=\"text-align: right;\">\n",
       "      <th></th>\n",
       "      <th>action_key_word</th>\n",
       "      <th>device_type</th>\n",
       "      <th>med_secs_elapsed</th>\n",
       "      <th>gender</th>\n",
       "      <th>age</th>\n",
       "      <th>signup_method</th>\n",
       "      <th>signup_flow</th>\n",
       "      <th>language</th>\n",
       "      <th>affiliate_channel</th>\n",
       "      <th>affiliate_provider</th>\n",
       "      <th>signup_app</th>\n",
       "      <th>first_device_type</th>\n",
       "      <th>first_browser</th>\n",
       "      <th>first_OS</th>\n",
       "      <th>OS</th>\n",
       "    </tr>\n",
       "  </thead>\n",
       "  <tbody>\n",
       "    <tr>\n",
       "      <th>0</th>\n",
       "      <td>message</td>\n",
       "      <td>Desktop</td>\n",
       "      <td>0.072123</td>\n",
       "      <td>other</td>\n",
       "      <td>30-39</td>\n",
       "      <td>basic</td>\n",
       "      <td>0</td>\n",
       "      <td>en</td>\n",
       "      <td>direct</td>\n",
       "      <td>direct</td>\n",
       "      <td>Web</td>\n",
       "      <td>Desktop</td>\n",
       "      <td>Safari</td>\n",
       "      <td>Other</td>\n",
       "      <td>Other</td>\n",
       "    </tr>\n",
       "    <tr>\n",
       "      <th>1</th>\n",
       "      <td>other</td>\n",
       "      <td>Desktop</td>\n",
       "      <td>0.000451</td>\n",
       "      <td>other</td>\n",
       "      <td>30-39</td>\n",
       "      <td>basic</td>\n",
       "      <td>0</td>\n",
       "      <td>en</td>\n",
       "      <td>direct</td>\n",
       "      <td>direct</td>\n",
       "      <td>Web</td>\n",
       "      <td>Desktop</td>\n",
       "      <td>Safari</td>\n",
       "      <td>Other</td>\n",
       "      <td>Other</td>\n",
       "    </tr>\n",
       "    <tr>\n",
       "      <th>2</th>\n",
       "      <td>other</td>\n",
       "      <td>Phone</td>\n",
       "      <td>0.001300</td>\n",
       "      <td>other</td>\n",
       "      <td>30-39</td>\n",
       "      <td>basic</td>\n",
       "      <td>0</td>\n",
       "      <td>en</td>\n",
       "      <td>direct</td>\n",
       "      <td>direct</td>\n",
       "      <td>Web</td>\n",
       "      <td>Desktop</td>\n",
       "      <td>Safari</td>\n",
       "      <td>Other</td>\n",
       "      <td>Other</td>\n",
       "    </tr>\n",
       "    <tr>\n",
       "      <th>3</th>\n",
       "      <td>search</td>\n",
       "      <td>Desktop</td>\n",
       "      <td>0.005521</td>\n",
       "      <td>other</td>\n",
       "      <td>30-39</td>\n",
       "      <td>basic</td>\n",
       "      <td>0</td>\n",
       "      <td>en</td>\n",
       "      <td>direct</td>\n",
       "      <td>direct</td>\n",
       "      <td>Web</td>\n",
       "      <td>Desktop</td>\n",
       "      <td>Safari</td>\n",
       "      <td>Other</td>\n",
       "      <td>Other</td>\n",
       "    </tr>\n",
       "    <tr>\n",
       "      <th>4</th>\n",
       "      <td>wishlist</td>\n",
       "      <td>Desktop</td>\n",
       "      <td>0.000484</td>\n",
       "      <td>other</td>\n",
       "      <td>30-39</td>\n",
       "      <td>basic</td>\n",
       "      <td>0</td>\n",
       "      <td>en</td>\n",
       "      <td>direct</td>\n",
       "      <td>direct</td>\n",
       "      <td>Web</td>\n",
       "      <td>Desktop</td>\n",
       "      <td>Safari</td>\n",
       "      <td>Other</td>\n",
       "      <td>Other</td>\n",
       "    </tr>\n",
       "  </tbody>\n",
       "</table>\n",
       "</div>"
      ],
      "text/plain": [
       "  action_key_word device_type  med_secs_elapsed gender    age signup_method  \\\n",
       "0         message     Desktop          0.072123  other  30-39         basic   \n",
       "1           other     Desktop          0.000451  other  30-39         basic   \n",
       "2           other       Phone          0.001300  other  30-39         basic   \n",
       "3          search     Desktop          0.005521  other  30-39         basic   \n",
       "4        wishlist     Desktop          0.000484  other  30-39         basic   \n",
       "\n",
       "   signup_flow language affiliate_channel affiliate_provider signup_app  \\\n",
       "0            0       en            direct             direct        Web   \n",
       "1            0       en            direct             direct        Web   \n",
       "2            0       en            direct             direct        Web   \n",
       "3            0       en            direct             direct        Web   \n",
       "4            0       en            direct             direct        Web   \n",
       "\n",
       "  first_device_type first_browser first_OS     OS  \n",
       "0           Desktop        Safari    Other  Other  \n",
       "1           Desktop        Safari    Other  Other  \n",
       "2           Desktop        Safari    Other  Other  \n",
       "3           Desktop        Safari    Other  Other  \n",
       "4           Desktop        Safari    Other  Other  "
      ]
     },
     "execution_count": 43,
     "metadata": {},
     "output_type": "execute_result"
    }
   ],
   "source": [
    "# Preview results\n",
    "\n",
    "train_data.head()"
   ]
  },
  {
   "cell_type": "markdown",
   "metadata": {},
   "source": [
    "## Merge Testing Data"
   ]
  },
  {
   "cell_type": "code",
   "execution_count": 44,
   "metadata": {
    "collapsed": false
   },
   "outputs": [
    {
     "name": "stderr",
     "output_type": "stream",
     "text": [
      "/Users/ebzimm/anaconda/lib/python2.7/site-packages/sklearn/preprocessing/data.py:321: DeprecationWarning: Passing 1d arrays as data is deprecated in 0.17 and will raise ValueError in 0.19. Reshape your data either using X.reshape(-1, 1) if your data has a single feature or X.reshape(1, -1) if it contains a single sample.\n",
      "  warnings.warn(DEPRECATION_MSG_1D, DeprecationWarning)\n",
      "/Users/ebzimm/anaconda/lib/python2.7/site-packages/sklearn/preprocessing/data.py:356: DeprecationWarning: Passing 1d arrays as data is deprecated in 0.17 and will raise ValueError in 0.19. Reshape your data either using X.reshape(-1, 1) if your data has a single feature or X.reshape(1, -1) if it contains a single sample.\n",
      "  warnings.warn(DEPRECATION_MSG_1D, DeprecationWarning)\n"
     ]
    },
    {
     "name": "stdout",
     "output_type": "stream",
     "text": [
      "# of Rows: 261618\n",
      "                    0\n",
      "action_key_word     0\n",
      "device_type         0\n",
      "med_secs_elapsed    0\n",
      "gender              0\n",
      "age                 0\n",
      "signup_method       0\n",
      "signup_flow         0\n",
      "language            0\n",
      "affiliate_channel   0\n",
      "affiliate_provider  0\n",
      "signup_app          0\n",
      "first_device_type   0\n",
      "first_browser       0\n",
      "first_OS            0\n",
      "OS                  0\n"
     ]
    }
   ],
   "source": [
    "# Join sessions data with train_users data\n",
    "test_data = sessions_pivot.set_index('user_id').join(test_users.set_index('id'), how='inner')\n",
    "test_data.reset_index(inplace=True)\n",
    "\n",
    "# Reclassify Columns\n",
    "test_data['device_type'] = reorg_device(test_data['device_type'])\n",
    "test_data['OS'] = reorg_OS(test_data['device_type'])\n",
    "\n",
    "# Scale med_time_elapsed data\n",
    "scaler = MinMaxScaler(feature_range=(0, 1))\n",
    "test_data['med_secs_elapsed'] = scaler.fit_transform(test_data['med_secs_elapsed'])\n",
    "\n",
    "# Delete columns\n",
    "del test_data['index']\n",
    "del test_data['date_account_created']\n",
    "del test_data['timestamp_first_active']\n",
    "\n",
    "# Check number of rows\n",
    "print '# of Rows:', len(test_data)\n",
    "\n",
    "# Check null values\n",
    "print pd.DataFrame(test_data.isnull().sum())"
   ]
  },
  {
   "cell_type": "markdown",
   "metadata": {},
   "source": [
    "## Create Dummy Variables"
   ]
  },
  {
   "cell_type": "code",
   "execution_count": 45,
   "metadata": {
    "collapsed": false
   },
   "outputs": [],
   "source": [
    "# Create dummy dfs for train and test data \n",
    "\n",
    "def dummies(df):\n",
    "    return pd.get_dummies(df, columns = \\\n",
    "            ['action_key_word',\\\n",
    "            'device_type',\\\n",
    "            'gender',\\\n",
    "            'age',\\\n",
    "            'signup_flow',\\\n",
    "            'signup_method',\\\n",
    "            'language',\\\n",
    "            'affiliate_channel',\\\n",
    "            'affiliate_provider',\\\n",
    "            'signup_app',\\\n",
    "            'first_device_type',\\\n",
    "            'first_browser',\\\n",
    "            'first_OS',\\\n",
    "            'OS'])\n",
    "\n",
    "train_dummies = dummies(train_data)\n",
    "test_dummies = dummies(test_data)"
   ]
  },
  {
   "cell_type": "markdown",
   "metadata": {},
   "source": [
    "## Model Building"
   ]
  },
  {
   "cell_type": "markdown",
   "metadata": {},
   "source": [
    "Originally I had factored in the destination country language and distance which were colinear with the target y (destination country). This was yielding very high accuracy scores.\n",
    "\n",
    "When I realized my mistake and removed the colinear data my scores fell nearly 40% across multiple models."
   ]
  },
  {
   "cell_type": "markdown",
   "metadata": {},
   "source": [
    "### Vanilla Logistic Regression"
   ]
  },
  {
   "cell_type": "code",
   "execution_count": 46,
   "metadata": {
    "collapsed": false
   },
   "outputs": [
    {
     "name": "stdout",
     "output_type": "stream",
     "text": [
      "289023\n",
      "289023\n"
     ]
    }
   ],
   "source": [
    "# Check lengths are matching for X and y\n",
    "print len(y)\n",
    "print len(train_dummies)"
   ]
  },
  {
   "cell_type": "code",
   "execution_count": 47,
   "metadata": {
    "collapsed": true
   },
   "outputs": [],
   "source": [
    "y = y\n",
    "X = train_dummies\n",
    "# X_test = test_dummies"
   ]
  },
  {
   "cell_type": "code",
   "execution_count": 48,
   "metadata": {
    "collapsed": false
   },
   "outputs": [
    {
     "name": "stdout",
     "output_type": "stream",
     "text": [
      "             precision    recall  f1-score   support\n",
      "\n",
      "         AU       0.00      0.00      0.00       210\n",
      "         CA       0.00      0.00      0.00       644\n",
      "         DE       0.00      0.00      0.00       361\n",
      "         ES       0.00      0.00      0.00      1043\n",
      "         FR       0.00      0.00      0.00      2031\n",
      "         GB       0.00      0.00      0.00      1042\n",
      "         IT       1.00      0.00      0.00      1413\n",
      "        NDF       0.64      0.87      0.74     53867\n",
      "         NL       0.00      0.00      0.00       342\n",
      "         PT       0.00      0.00      0.00       118\n",
      "         US       0.49      0.37      0.42     29083\n",
      "      other       0.75      0.00      0.00      5224\n",
      "\n",
      "avg / total       0.57      0.61      0.55     95378\n",
      "\n"
     ]
    },
    {
     "name": "stderr",
     "output_type": "stream",
     "text": [
      "/Users/ebzimm/anaconda/lib/python2.7/site-packages/sklearn/metrics/classification.py:1113: UndefinedMetricWarning: Precision and F-score are ill-defined and being set to 0.0 in labels with no predicted samples.\n",
      "  'precision', 'predicted', average, warn_for)\n"
     ]
    },
    {
     "data": {
      "text/html": [
       "<div>\n",
       "<table border=\"1\" class=\"dataframe\">\n",
       "  <thead>\n",
       "    <tr style=\"text-align: right;\">\n",
       "      <th></th>\n",
       "      <th>features</th>\n",
       "      <th>coef</th>\n",
       "    </tr>\n",
       "  </thead>\n",
       "  <tbody>\n",
       "    <tr>\n",
       "      <th>0</th>\n",
       "      <td>language_de</td>\n",
       "      <td>1.09655</td>\n",
       "    </tr>\n",
       "    <tr>\n",
       "      <th>1</th>\n",
       "      <td>language_zh</td>\n",
       "      <td>0.615322</td>\n",
       "    </tr>\n",
       "    <tr>\n",
       "      <th>2</th>\n",
       "      <td>affiliate_provider_google</td>\n",
       "      <td>0.599375</td>\n",
       "    </tr>\n",
       "    <tr>\n",
       "      <th>3</th>\n",
       "      <td>first_browser_Mobile Safari</td>\n",
       "      <td>0.50369</td>\n",
       "    </tr>\n",
       "    <tr>\n",
       "      <th>4</th>\n",
       "      <td>affiliate_channel_sem-non-brand</td>\n",
       "      <td>0.477531</td>\n",
       "    </tr>\n",
       "    <tr>\n",
       "      <th>5</th>\n",
       "      <td>first_browser_IE</td>\n",
       "      <td>0.385414</td>\n",
       "    </tr>\n",
       "    <tr>\n",
       "      <th>6</th>\n",
       "      <td>affiliate_channel_direct</td>\n",
       "      <td>0.344987</td>\n",
       "    </tr>\n",
       "    <tr>\n",
       "      <th>7</th>\n",
       "      <td>affiliate_provider_direct</td>\n",
       "      <td>0.344987</td>\n",
       "    </tr>\n",
       "    <tr>\n",
       "      <th>8</th>\n",
       "      <td>language_en</td>\n",
       "      <td>0.314007</td>\n",
       "    </tr>\n",
       "    <tr>\n",
       "      <th>9</th>\n",
       "      <td>first_browser_Safari</td>\n",
       "      <td>0.299959</td>\n",
       "    </tr>\n",
       "    <tr>\n",
       "      <th>10</th>\n",
       "      <td>signup_app_Web</td>\n",
       "      <td>0.294449</td>\n",
       "    </tr>\n",
       "    <tr>\n",
       "      <th>11</th>\n",
       "      <td>gender_male</td>\n",
       "      <td>0.209041</td>\n",
       "    </tr>\n",
       "    <tr>\n",
       "      <th>12</th>\n",
       "      <td>signup_flow_12</td>\n",
       "      <td>0.178599</td>\n",
       "    </tr>\n",
       "    <tr>\n",
       "      <th>13</th>\n",
       "      <td>action_key_word_guest</td>\n",
       "      <td>0.160791</td>\n",
       "    </tr>\n",
       "    <tr>\n",
       "      <th>14</th>\n",
       "      <td>action_key_word_message</td>\n",
       "      <td>0.14097</td>\n",
       "    </tr>\n",
       "    <tr>\n",
       "      <th>15</th>\n",
       "      <td>affiliate_channel_seo</td>\n",
       "      <td>0.100562</td>\n",
       "    </tr>\n",
       "    <tr>\n",
       "      <th>16</th>\n",
       "      <td>affiliate_channel_api</td>\n",
       "      <td>0.0933238</td>\n",
       "    </tr>\n",
       "    <tr>\n",
       "      <th>17</th>\n",
       "      <td>action_key_word_book</td>\n",
       "      <td>0.0839536</td>\n",
       "    </tr>\n",
       "    <tr>\n",
       "      <th>18</th>\n",
       "      <td>signup_app_iOS</td>\n",
       "      <td>0.0833485</td>\n",
       "    </tr>\n",
       "    <tr>\n",
       "      <th>19</th>\n",
       "      <td>first_browser_-unknown-</td>\n",
       "      <td>0.0654397</td>\n",
       "    </tr>\n",
       "    <tr>\n",
       "      <th>20</th>\n",
       "      <td>first_browser_Chrome</td>\n",
       "      <td>0.00322992</td>\n",
       "    </tr>\n",
       "    <tr>\n",
       "      <th>21</th>\n",
       "      <td>first_browser_Avant Browser</td>\n",
       "      <td>0</td>\n",
       "    </tr>\n",
       "    <tr>\n",
       "      <th>22</th>\n",
       "      <td>first_browser_wOSBrowser</td>\n",
       "      <td>0</td>\n",
       "    </tr>\n",
       "    <tr>\n",
       "      <th>23</th>\n",
       "      <td>affiliate_provider_craigslist</td>\n",
       "      <td>-0.000689265</td>\n",
       "    </tr>\n",
       "    <tr>\n",
       "      <th>24</th>\n",
       "      <td>first_browser_IceDragon</td>\n",
       "      <td>-0.000723154</td>\n",
       "    </tr>\n",
       "    <tr>\n",
       "      <th>25</th>\n",
       "      <td>first_browser_TheWorld Browser</td>\n",
       "      <td>-0.000979909</td>\n",
       "    </tr>\n",
       "    <tr>\n",
       "      <th>26</th>\n",
       "      <td>first_browser_Opera Mini</td>\n",
       "      <td>-0.00156968</td>\n",
       "    </tr>\n",
       "    <tr>\n",
       "      <th>27</th>\n",
       "      <td>first_browser_Googlebot</td>\n",
       "      <td>-0.00173112</td>\n",
       "    </tr>\n",
       "    <tr>\n",
       "      <th>28</th>\n",
       "      <td>affiliate_provider_daum</td>\n",
       "      <td>-0.00308777</td>\n",
       "    </tr>\n",
       "    <tr>\n",
       "      <th>29</th>\n",
       "      <td>first_browser_TenFourFox</td>\n",
       "      <td>-0.00331266</td>\n",
       "    </tr>\n",
       "    <tr>\n",
       "      <th>...</th>\n",
       "      <td>...</td>\n",
       "      <td>...</td>\n",
       "    </tr>\n",
       "    <tr>\n",
       "      <th>96</th>\n",
       "      <td>action_key_word_search</td>\n",
       "      <td>-0.317162</td>\n",
       "    </tr>\n",
       "    <tr>\n",
       "      <th>97</th>\n",
       "      <td>affiliate_channel_sem-brand</td>\n",
       "      <td>-0.333161</td>\n",
       "    </tr>\n",
       "    <tr>\n",
       "      <th>98</th>\n",
       "      <td>signup_flow_0</td>\n",
       "      <td>-0.333549</td>\n",
       "    </tr>\n",
       "    <tr>\n",
       "      <th>99</th>\n",
       "      <td>language_ru</td>\n",
       "      <td>-0.363776</td>\n",
       "    </tr>\n",
       "    <tr>\n",
       "      <th>100</th>\n",
       "      <td>language_it</td>\n",
       "      <td>-0.380538</td>\n",
       "    </tr>\n",
       "    <tr>\n",
       "      <th>101</th>\n",
       "      <td>first_browser_Android Browser</td>\n",
       "      <td>-0.391896</td>\n",
       "    </tr>\n",
       "    <tr>\n",
       "      <th>102</th>\n",
       "      <td>affiliate_provider_other</td>\n",
       "      <td>-0.477882</td>\n",
       "    </tr>\n",
       "    <tr>\n",
       "      <th>103</th>\n",
       "      <td>first_device_type_Other</td>\n",
       "      <td>-0.489641</td>\n",
       "    </tr>\n",
       "    <tr>\n",
       "      <th>104</th>\n",
       "      <td>age_30-39</td>\n",
       "      <td>-0.520718</td>\n",
       "    </tr>\n",
       "    <tr>\n",
       "      <th>105</th>\n",
       "      <td>signup_flow_25</td>\n",
       "      <td>-0.53503</td>\n",
       "    </tr>\n",
       "    <tr>\n",
       "      <th>106</th>\n",
       "      <td>device_type_Desktop</td>\n",
       "      <td>-0.55093</td>\n",
       "    </tr>\n",
       "    <tr>\n",
       "      <th>107</th>\n",
       "      <td>signup_method_google</td>\n",
       "      <td>-0.559727</td>\n",
       "    </tr>\n",
       "    <tr>\n",
       "      <th>108</th>\n",
       "      <td>signup_flow_8</td>\n",
       "      <td>-0.578284</td>\n",
       "    </tr>\n",
       "    <tr>\n",
       "      <th>109</th>\n",
       "      <td>action_key_word_review</td>\n",
       "      <td>-0.592228</td>\n",
       "    </tr>\n",
       "    <tr>\n",
       "      <th>110</th>\n",
       "      <td>signup_app_Moweb</td>\n",
       "      <td>-0.638306</td>\n",
       "    </tr>\n",
       "    <tr>\n",
       "      <th>111</th>\n",
       "      <td>device_type_Other</td>\n",
       "      <td>-0.651966</td>\n",
       "    </tr>\n",
       "    <tr>\n",
       "      <th>112</th>\n",
       "      <td>gender_female</td>\n",
       "      <td>-0.653649</td>\n",
       "    </tr>\n",
       "    <tr>\n",
       "      <th>113</th>\n",
       "      <td>language_ko</td>\n",
       "      <td>-0.699326</td>\n",
       "    </tr>\n",
       "    <tr>\n",
       "      <th>114</th>\n",
       "      <td>language_es</td>\n",
       "      <td>-0.712303</td>\n",
       "    </tr>\n",
       "    <tr>\n",
       "      <th>115</th>\n",
       "      <td>signup_method_facebook</td>\n",
       "      <td>-0.759222</td>\n",
       "    </tr>\n",
       "    <tr>\n",
       "      <th>116</th>\n",
       "      <td>age_&gt;65</td>\n",
       "      <td>-0.801811</td>\n",
       "    </tr>\n",
       "    <tr>\n",
       "      <th>117</th>\n",
       "      <td>affiliate_channel_other</td>\n",
       "      <td>-0.873176</td>\n",
       "    </tr>\n",
       "    <tr>\n",
       "      <th>118</th>\n",
       "      <td>first_device_type_Phone</td>\n",
       "      <td>-0.901054</td>\n",
       "    </tr>\n",
       "    <tr>\n",
       "      <th>119</th>\n",
       "      <td>first_browser_Chrome Mobile</td>\n",
       "      <td>-0.943192</td>\n",
       "    </tr>\n",
       "    <tr>\n",
       "      <th>120</th>\n",
       "      <td>affiliate_provider_facebook</td>\n",
       "      <td>-0.965983</td>\n",
       "    </tr>\n",
       "    <tr>\n",
       "      <th>121</th>\n",
       "      <td>affiliate_channel_remarketing</td>\n",
       "      <td>-1.13127</td>\n",
       "    </tr>\n",
       "    <tr>\n",
       "      <th>122</th>\n",
       "      <td>gender_other</td>\n",
       "      <td>-1.14988</td>\n",
       "    </tr>\n",
       "    <tr>\n",
       "      <th>123</th>\n",
       "      <td>signup_app_Android</td>\n",
       "      <td>-1.33398</td>\n",
       "    </tr>\n",
       "    <tr>\n",
       "      <th>124</th>\n",
       "      <td>first_OS_Other</td>\n",
       "      <td>-1.59449</td>\n",
       "    </tr>\n",
       "    <tr>\n",
       "      <th>125</th>\n",
       "      <td>OS_Other</td>\n",
       "      <td>-1.59449</td>\n",
       "    </tr>\n",
       "  </tbody>\n",
       "</table>\n",
       "<p>126 rows × 2 columns</p>\n",
       "</div>"
      ],
      "text/plain": [
       "                            features         coef\n",
       "0                        language_de      1.09655\n",
       "1                        language_zh     0.615322\n",
       "2          affiliate_provider_google     0.599375\n",
       "3        first_browser_Mobile Safari      0.50369\n",
       "4    affiliate_channel_sem-non-brand     0.477531\n",
       "5                   first_browser_IE     0.385414\n",
       "6           affiliate_channel_direct     0.344987\n",
       "7          affiliate_provider_direct     0.344987\n",
       "8                        language_en     0.314007\n",
       "9               first_browser_Safari     0.299959\n",
       "10                    signup_app_Web     0.294449\n",
       "11                       gender_male     0.209041\n",
       "12                    signup_flow_12     0.178599\n",
       "13             action_key_word_guest     0.160791\n",
       "14           action_key_word_message      0.14097\n",
       "15             affiliate_channel_seo     0.100562\n",
       "16             affiliate_channel_api    0.0933238\n",
       "17              action_key_word_book    0.0839536\n",
       "18                    signup_app_iOS    0.0833485\n",
       "19           first_browser_-unknown-    0.0654397\n",
       "20              first_browser_Chrome   0.00322992\n",
       "21       first_browser_Avant Browser            0\n",
       "22          first_browser_wOSBrowser            0\n",
       "23     affiliate_provider_craigslist -0.000689265\n",
       "24           first_browser_IceDragon -0.000723154\n",
       "25    first_browser_TheWorld Browser -0.000979909\n",
       "26          first_browser_Opera Mini  -0.00156968\n",
       "27           first_browser_Googlebot  -0.00173112\n",
       "28           affiliate_provider_daum  -0.00308777\n",
       "29          first_browser_TenFourFox  -0.00331266\n",
       "..                               ...          ...\n",
       "96            action_key_word_search    -0.317162\n",
       "97       affiliate_channel_sem-brand    -0.333161\n",
       "98                     signup_flow_0    -0.333549\n",
       "99                       language_ru    -0.363776\n",
       "100                      language_it    -0.380538\n",
       "101    first_browser_Android Browser    -0.391896\n",
       "102         affiliate_provider_other    -0.477882\n",
       "103          first_device_type_Other    -0.489641\n",
       "104                        age_30-39    -0.520718\n",
       "105                   signup_flow_25     -0.53503\n",
       "106              device_type_Desktop     -0.55093\n",
       "107             signup_method_google    -0.559727\n",
       "108                    signup_flow_8    -0.578284\n",
       "109           action_key_word_review    -0.592228\n",
       "110                 signup_app_Moweb    -0.638306\n",
       "111                device_type_Other    -0.651966\n",
       "112                    gender_female    -0.653649\n",
       "113                      language_ko    -0.699326\n",
       "114                      language_es    -0.712303\n",
       "115           signup_method_facebook    -0.759222\n",
       "116                          age_>65    -0.801811\n",
       "117          affiliate_channel_other    -0.873176\n",
       "118          first_device_type_Phone    -0.901054\n",
       "119      first_browser_Chrome Mobile    -0.943192\n",
       "120      affiliate_provider_facebook    -0.965983\n",
       "121    affiliate_channel_remarketing     -1.13127\n",
       "122                     gender_other     -1.14988\n",
       "123               signup_app_Android     -1.33398\n",
       "124                   first_OS_Other     -1.59449\n",
       "125                         OS_Other     -1.59449\n",
       "\n",
       "[126 rows x 2 columns]"
      ]
     },
     "execution_count": 48,
     "metadata": {},
     "output_type": "execute_result"
    }
   ],
   "source": [
    "X_train, X_test, y_train, y_test = train_test_split(X, y, test_size=0.33, random_state=42)\n",
    "\n",
    "lr = LogisticRegression()\n",
    "model = lr.fit(X_train,y_train)\n",
    "\n",
    "y_pred = lr.predict(X_test)\n",
    "\n",
    "print(classification_report(y_test, y_pred))\n",
    "\n",
    "coef = pd.DataFrame([list(X_train.columns), list(model.coef_[0])], index=['features', 'coef']).T\n",
    "coef.sort_values(by = 'coef', ascending = False, inplace = True)\n",
    "coef.reset_index(inplace = True)\n",
    "del coef['index']\n",
    "coef"
   ]
  },
  {
   "cell_type": "markdown",
   "metadata": {
    "collapsed": false
   },
   "source": [
    "### Tree-based Classifiers"
   ]
  },
  {
   "cell_type": "code",
   "execution_count": 52,
   "metadata": {
    "collapsed": false
   },
   "outputs": [
    {
     "name": "stdout",
     "output_type": "stream",
     "text": [
      "Decision Tree Score:\t0.481 ± 0.001\n",
      "Random Forest Score:\t0.504 ± 0.001\n",
      "Extra Trees Score:\t0.49 ± 0.001\n"
     ]
    }
   ],
   "source": [
    "dt = DecisionTreeClassifier(class_weight='balanced')\n",
    "rf = RandomForestClassifier(class_weight='balanced')\n",
    "et = ExtraTreesClassifier(class_weight='balanced')\n",
    "\n",
    "s = cross_val_score(dt, X, y, n_jobs=-1)\n",
    "d = cross_val_score(rf, X, y, n_jobs=-1)\n",
    "f = cross_val_score(et, X, y, n_jobs=-1)\n",
    "\n",
    "print(\"{} Score:\\t{:0.3} ± {:0.3}\".format(\"Decision Tree\", s.mean().round(3), s.std().round(3)))\n",
    "print(\"{} Score:\\t{:0.3} ± {:0.3}\".format(\"Random Forest\", d.mean().round(3), d.std().round(3)))\n",
    "print(\"{} Score:\\t{:0.3} ± {:0.3}\".format(\"Extra Trees\", f.mean().round(3), f.std().round(3)))"
   ]
  },
  {
   "cell_type": "code",
   "execution_count": 53,
   "metadata": {
    "collapsed": true
   },
   "outputs": [],
   "source": [
    "rf_model = rf.fit(X,y)"
   ]
  },
  {
   "cell_type": "code",
   "execution_count": 65,
   "metadata": {
    "collapsed": false
   },
   "outputs": [
    {
     "data": {
      "text/html": [
       "<div>\n",
       "<table border=\"1\" class=\"dataframe\">\n",
       "  <thead>\n",
       "    <tr style=\"text-align: right;\">\n",
       "      <th></th>\n",
       "      <th>features</th>\n",
       "      <th>coef</th>\n",
       "    </tr>\n",
       "  </thead>\n",
       "  <tbody>\n",
       "    <tr>\n",
       "      <th>0</th>\n",
       "      <td>med_secs_elapsed</td>\n",
       "      <td>6.603713e-01</td>\n",
       "    </tr>\n",
       "    <tr>\n",
       "      <th>1</th>\n",
       "      <td>age_30-39</td>\n",
       "      <td>1.399591e-02</td>\n",
       "    </tr>\n",
       "    <tr>\n",
       "      <th>2</th>\n",
       "      <td>action_key_word_other</td>\n",
       "      <td>1.395281e-02</td>\n",
       "    </tr>\n",
       "    <tr>\n",
       "      <th>3</th>\n",
       "      <td>first_browser_Chrome</td>\n",
       "      <td>1.219724e-02</td>\n",
       "    </tr>\n",
       "    <tr>\n",
       "      <th>4</th>\n",
       "      <td>first_browser_Safari</td>\n",
       "      <td>1.219580e-02</td>\n",
       "    </tr>\n",
       "    <tr>\n",
       "      <th>5</th>\n",
       "      <td>age_40-64</td>\n",
       "      <td>1.123074e-02</td>\n",
       "    </tr>\n",
       "    <tr>\n",
       "      <th>6</th>\n",
       "      <td>action_key_word_wishlist</td>\n",
       "      <td>1.105792e-02</td>\n",
       "    </tr>\n",
       "    <tr>\n",
       "      <th>7</th>\n",
       "      <td>action_key_word_message</td>\n",
       "      <td>1.104854e-02</td>\n",
       "    </tr>\n",
       "    <tr>\n",
       "      <th>8</th>\n",
       "      <td>action_key_word_profile</td>\n",
       "      <td>1.046447e-02</td>\n",
       "    </tr>\n",
       "    <tr>\n",
       "      <th>9</th>\n",
       "      <td>action_key_word_search</td>\n",
       "      <td>1.038402e-02</td>\n",
       "    </tr>\n",
       "    <tr>\n",
       "      <th>10</th>\n",
       "      <td>first_browser_Firefox</td>\n",
       "      <td>9.985788e-03</td>\n",
       "    </tr>\n",
       "    <tr>\n",
       "      <th>11</th>\n",
       "      <td>age_18-29</td>\n",
       "      <td>9.816531e-03</td>\n",
       "    </tr>\n",
       "    <tr>\n",
       "      <th>12</th>\n",
       "      <td>gender_male</td>\n",
       "      <td>9.517055e-03</td>\n",
       "    </tr>\n",
       "    <tr>\n",
       "      <th>13</th>\n",
       "      <td>first_browser_IE</td>\n",
       "      <td>9.351072e-03</td>\n",
       "    </tr>\n",
       "    <tr>\n",
       "      <th>14</th>\n",
       "      <td>action_key_word_host</td>\n",
       "      <td>9.345489e-03</td>\n",
       "    </tr>\n",
       "    <tr>\n",
       "      <th>15</th>\n",
       "      <td>device_type_Desktop</td>\n",
       "      <td>8.072151e-03</td>\n",
       "    </tr>\n",
       "    <tr>\n",
       "      <th>16</th>\n",
       "      <td>signup_method_basic</td>\n",
       "      <td>7.965600e-03</td>\n",
       "    </tr>\n",
       "    <tr>\n",
       "      <th>17</th>\n",
       "      <td>gender_female</td>\n",
       "      <td>7.652354e-03</td>\n",
       "    </tr>\n",
       "    <tr>\n",
       "      <th>18</th>\n",
       "      <td>affiliate_channel_sem-brand</td>\n",
       "      <td>7.609851e-03</td>\n",
       "    </tr>\n",
       "    <tr>\n",
       "      <th>19</th>\n",
       "      <td>signup_method_facebook</td>\n",
       "      <td>7.258918e-03</td>\n",
       "    </tr>\n",
       "    <tr>\n",
       "      <th>20</th>\n",
       "      <td>gender_other</td>\n",
       "      <td>7.048614e-03</td>\n",
       "    </tr>\n",
       "    <tr>\n",
       "      <th>21</th>\n",
       "      <td>age_&gt;65</td>\n",
       "      <td>6.697368e-03</td>\n",
       "    </tr>\n",
       "    <tr>\n",
       "      <th>22</th>\n",
       "      <td>first_browser_Mobile Safari</td>\n",
       "      <td>6.657325e-03</td>\n",
       "    </tr>\n",
       "    <tr>\n",
       "      <th>23</th>\n",
       "      <td>device_type_Tablet</td>\n",
       "      <td>6.357434e-03</td>\n",
       "    </tr>\n",
       "    <tr>\n",
       "      <th>24</th>\n",
       "      <td>affiliate_provider_google</td>\n",
       "      <td>5.841695e-03</td>\n",
       "    </tr>\n",
       "    <tr>\n",
       "      <th>25</th>\n",
       "      <td>first_device_type_Desktop</td>\n",
       "      <td>5.830700e-03</td>\n",
       "    </tr>\n",
       "    <tr>\n",
       "      <th>26</th>\n",
       "      <td>first_device_type_Other</td>\n",
       "      <td>5.800319e-03</td>\n",
       "    </tr>\n",
       "    <tr>\n",
       "      <th>27</th>\n",
       "      <td>language_en</td>\n",
       "      <td>5.651913e-03</td>\n",
       "    </tr>\n",
       "    <tr>\n",
       "      <th>28</th>\n",
       "      <td>action_key_word_cancel</td>\n",
       "      <td>5.562856e-03</td>\n",
       "    </tr>\n",
       "    <tr>\n",
       "      <th>29</th>\n",
       "      <td>affiliate_channel_sem-non-brand</td>\n",
       "      <td>5.523081e-03</td>\n",
       "    </tr>\n",
       "    <tr>\n",
       "      <th>...</th>\n",
       "      <td>...</td>\n",
       "      <td>...</td>\n",
       "    </tr>\n",
       "    <tr>\n",
       "      <th>96</th>\n",
       "      <td>language_th</td>\n",
       "      <td>2.580458e-05</td>\n",
       "    </tr>\n",
       "    <tr>\n",
       "      <th>97</th>\n",
       "      <td>first_browser_Iron</td>\n",
       "      <td>2.336713e-05</td>\n",
       "    </tr>\n",
       "    <tr>\n",
       "      <th>98</th>\n",
       "      <td>first_browser_IE Mobile</td>\n",
       "      <td>1.829738e-05</td>\n",
       "    </tr>\n",
       "    <tr>\n",
       "      <th>99</th>\n",
       "      <td>language_da</td>\n",
       "      <td>1.554266e-05</td>\n",
       "    </tr>\n",
       "    <tr>\n",
       "      <th>100</th>\n",
       "      <td>first_browser_SeaMonkey</td>\n",
       "      <td>1.250100e-05</td>\n",
       "    </tr>\n",
       "    <tr>\n",
       "      <th>101</th>\n",
       "      <td>first_browser_Googlebot</td>\n",
       "      <td>1.118076e-05</td>\n",
       "    </tr>\n",
       "    <tr>\n",
       "      <th>102</th>\n",
       "      <td>first_browser_wOSBrowser</td>\n",
       "      <td>9.715688e-06</td>\n",
       "    </tr>\n",
       "    <tr>\n",
       "      <th>103</th>\n",
       "      <td>affiliate_provider_daum</td>\n",
       "      <td>9.570954e-06</td>\n",
       "    </tr>\n",
       "    <tr>\n",
       "      <th>104</th>\n",
       "      <td>first_browser_BlackBerry Browser</td>\n",
       "      <td>9.515448e-06</td>\n",
       "    </tr>\n",
       "    <tr>\n",
       "      <th>105</th>\n",
       "      <td>affiliate_provider_gsp</td>\n",
       "      <td>9.019776e-06</td>\n",
       "    </tr>\n",
       "    <tr>\n",
       "      <th>106</th>\n",
       "      <td>affiliate_provider_yandex</td>\n",
       "      <td>7.134445e-06</td>\n",
       "    </tr>\n",
       "    <tr>\n",
       "      <th>107</th>\n",
       "      <td>language_no</td>\n",
       "      <td>5.743724e-06</td>\n",
       "    </tr>\n",
       "    <tr>\n",
       "      <th>108</th>\n",
       "      <td>affiliate_provider_meetup</td>\n",
       "      <td>5.704969e-06</td>\n",
       "    </tr>\n",
       "    <tr>\n",
       "      <th>109</th>\n",
       "      <td>first_browser_TenFourFox</td>\n",
       "      <td>5.398150e-06</td>\n",
       "    </tr>\n",
       "    <tr>\n",
       "      <th>110</th>\n",
       "      <td>first_browser_Yandex.Browser</td>\n",
       "      <td>5.257768e-06</td>\n",
       "    </tr>\n",
       "    <tr>\n",
       "      <th>111</th>\n",
       "      <td>language_hu</td>\n",
       "      <td>4.550007e-06</td>\n",
       "    </tr>\n",
       "    <tr>\n",
       "      <th>112</th>\n",
       "      <td>first_browser_Pale Moon</td>\n",
       "      <td>3.663722e-06</td>\n",
       "    </tr>\n",
       "    <tr>\n",
       "      <th>113</th>\n",
       "      <td>language_id</td>\n",
       "      <td>3.123057e-06</td>\n",
       "    </tr>\n",
       "    <tr>\n",
       "      <th>114</th>\n",
       "      <td>first_browser_Opera Mini</td>\n",
       "      <td>3.033971e-06</td>\n",
       "    </tr>\n",
       "    <tr>\n",
       "      <th>115</th>\n",
       "      <td>signup_flow_21</td>\n",
       "      <td>2.280460e-06</td>\n",
       "    </tr>\n",
       "    <tr>\n",
       "      <th>116</th>\n",
       "      <td>affiliate_provider_craigslist</td>\n",
       "      <td>1.898462e-06</td>\n",
       "    </tr>\n",
       "    <tr>\n",
       "      <th>117</th>\n",
       "      <td>language_ca</td>\n",
       "      <td>1.830175e-06</td>\n",
       "    </tr>\n",
       "    <tr>\n",
       "      <th>118</th>\n",
       "      <td>language_is</td>\n",
       "      <td>1.320835e-06</td>\n",
       "    </tr>\n",
       "    <tr>\n",
       "      <th>119</th>\n",
       "      <td>first_browser_IceDragon</td>\n",
       "      <td>9.838947e-07</td>\n",
       "    </tr>\n",
       "    <tr>\n",
       "      <th>120</th>\n",
       "      <td>first_browser_Outlook 2007</td>\n",
       "      <td>9.670281e-07</td>\n",
       "    </tr>\n",
       "    <tr>\n",
       "      <th>121</th>\n",
       "      <td>first_browser_Mozilla</td>\n",
       "      <td>7.428246e-07</td>\n",
       "    </tr>\n",
       "    <tr>\n",
       "      <th>122</th>\n",
       "      <td>first_browser_Avant Browser</td>\n",
       "      <td>4.167587e-07</td>\n",
       "    </tr>\n",
       "    <tr>\n",
       "      <th>123</th>\n",
       "      <td>first_browser_TheWorld Browser</td>\n",
       "      <td>8.793363e-08</td>\n",
       "    </tr>\n",
       "    <tr>\n",
       "      <th>124</th>\n",
       "      <td>first_OS_Other</td>\n",
       "      <td>0.000000e+00</td>\n",
       "    </tr>\n",
       "    <tr>\n",
       "      <th>125</th>\n",
       "      <td>OS_Other</td>\n",
       "      <td>0.000000e+00</td>\n",
       "    </tr>\n",
       "  </tbody>\n",
       "</table>\n",
       "<p>126 rows × 2 columns</p>\n",
       "</div>"
      ],
      "text/plain": [
       "                             features          coef\n",
       "0                    med_secs_elapsed  6.603713e-01\n",
       "1                           age_30-39  1.399591e-02\n",
       "2               action_key_word_other  1.395281e-02\n",
       "3                first_browser_Chrome  1.219724e-02\n",
       "4                first_browser_Safari  1.219580e-02\n",
       "5                           age_40-64  1.123074e-02\n",
       "6            action_key_word_wishlist  1.105792e-02\n",
       "7             action_key_word_message  1.104854e-02\n",
       "8             action_key_word_profile  1.046447e-02\n",
       "9              action_key_word_search  1.038402e-02\n",
       "10              first_browser_Firefox  9.985788e-03\n",
       "11                          age_18-29  9.816531e-03\n",
       "12                        gender_male  9.517055e-03\n",
       "13                   first_browser_IE  9.351072e-03\n",
       "14               action_key_word_host  9.345489e-03\n",
       "15                device_type_Desktop  8.072151e-03\n",
       "16                signup_method_basic  7.965600e-03\n",
       "17                      gender_female  7.652354e-03\n",
       "18        affiliate_channel_sem-brand  7.609851e-03\n",
       "19             signup_method_facebook  7.258918e-03\n",
       "20                       gender_other  7.048614e-03\n",
       "21                            age_>65  6.697368e-03\n",
       "22        first_browser_Mobile Safari  6.657325e-03\n",
       "23                 device_type_Tablet  6.357434e-03\n",
       "24          affiliate_provider_google  5.841695e-03\n",
       "25          first_device_type_Desktop  5.830700e-03\n",
       "26            first_device_type_Other  5.800319e-03\n",
       "27                        language_en  5.651913e-03\n",
       "28             action_key_word_cancel  5.562856e-03\n",
       "29    affiliate_channel_sem-non-brand  5.523081e-03\n",
       "..                                ...           ...\n",
       "96                        language_th  2.580458e-05\n",
       "97                 first_browser_Iron  2.336713e-05\n",
       "98            first_browser_IE Mobile  1.829738e-05\n",
       "99                        language_da  1.554266e-05\n",
       "100           first_browser_SeaMonkey  1.250100e-05\n",
       "101           first_browser_Googlebot  1.118076e-05\n",
       "102          first_browser_wOSBrowser  9.715688e-06\n",
       "103           affiliate_provider_daum  9.570954e-06\n",
       "104  first_browser_BlackBerry Browser  9.515448e-06\n",
       "105            affiliate_provider_gsp  9.019776e-06\n",
       "106         affiliate_provider_yandex  7.134445e-06\n",
       "107                       language_no  5.743724e-06\n",
       "108         affiliate_provider_meetup  5.704969e-06\n",
       "109          first_browser_TenFourFox  5.398150e-06\n",
       "110      first_browser_Yandex.Browser  5.257768e-06\n",
       "111                       language_hu  4.550007e-06\n",
       "112           first_browser_Pale Moon  3.663722e-06\n",
       "113                       language_id  3.123057e-06\n",
       "114          first_browser_Opera Mini  3.033971e-06\n",
       "115                    signup_flow_21  2.280460e-06\n",
       "116     affiliate_provider_craigslist  1.898462e-06\n",
       "117                       language_ca  1.830175e-06\n",
       "118                       language_is  1.320835e-06\n",
       "119           first_browser_IceDragon  9.838947e-07\n",
       "120        first_browser_Outlook 2007  9.670281e-07\n",
       "121             first_browser_Mozilla  7.428246e-07\n",
       "122       first_browser_Avant Browser  4.167587e-07\n",
       "123    first_browser_TheWorld Browser  8.793363e-08\n",
       "124                    first_OS_Other  0.000000e+00\n",
       "125                          OS_Other  0.000000e+00\n",
       "\n",
       "[126 rows x 2 columns]"
      ]
     },
     "execution_count": 65,
     "metadata": {},
     "output_type": "execute_result"
    }
   ],
   "source": [
    "coef = pd.DataFrame([list(X_train.columns), list(rf_model.feature_importances_)], index=['features', 'coef']).T\n",
    "coef['coef'] = pd.to_numeric(coef['coef'])\n",
    "coef.sort_values(by = 'coef', ascending = False, inplace = True)\n",
    "coef.reset_index(inplace = True, drop=True)\n",
    "coef"
   ]
  },
  {
   "cell_type": "markdown",
   "metadata": {},
   "source": [
    "### Logistic Regression with Cross Validation"
   ]
  },
  {
   "cell_type": "code",
   "execution_count": null,
   "metadata": {
    "collapsed": true
   },
   "outputs": [],
   "source": [
    "# Kernel crashing for all of the below:"
   ]
  },
  {
   "cell_type": "code",
   "execution_count": null,
   "metadata": {
    "collapsed": false
   },
   "outputs": [],
   "source": [
    "# C_vals = [0.0001, 0.001, 0.01, 0.1, .15, .25, .275, .33, 0.5, .66, 0.75, 1.0, 2.5, 5.0, 10.0, 100.0, 1000.0]\n",
    "# penalties = ['l1','l2']\n",
    "\n",
    "# gs = GridSearchCV(LogisticRegression(solver='liblinear'),\n",
    "#                  {'C': C_vals,\n",
    "#                  'penalty': penalties},\n",
    "#                  cv=10)\n",
    "# gs.fit(X,y)"
   ]
  },
  {
   "cell_type": "code",
   "execution_count": null,
   "metadata": {
    "collapsed": true
   },
   "outputs": [],
   "source": [
    "# y_pred = gs.predict(X_test)\n",
    "# y_score = gs.decision_function(X_test)\n",
    "\n",
    "\n",
    "# conmat = np.array(confusion_matrix(y, y_pred, labels=[1,0]))\n",
    "# confusion = pd.DataFrame(conmat, index=['label', 'label'],\n",
    "#                             columns=['label','label'])\n",
    "\n",
    "# print(confusion)\n",
    "# print classification_report(y_test,y_pred2)\n",
    "# print \"roc score:\",roc_auc_score(y_test, y_score2)"
   ]
  },
  {
   "cell_type": "code",
   "execution_count": null,
   "metadata": {
    "collapsed": true
   },
   "outputs": [],
   "source": [
    "# # Plot ROC Curve\n",
    "\n",
    "# FPR = dict()\n",
    "# TPR = dict()\n",
    "# ROC_AUC = dict()\n",
    "\n",
    "# # For class 1, find the area under the curve\n",
    "# FPR[1], TPR[1], _ = roc_curve(y_test, y_score2)\n",
    "# ROC_AUC[1] = auc(FPR[1], TPR[1])\n",
    "\n",
    "# # Plot of a ROC curve for class 1 (has_cancer)\n",
    "# plt.figure(figsize=[11,9])\n",
    "# plt.plot(FPR[1], TPR[1], label='ROC curve (area = %0.2f)' % ROC_AUC[1], linewidth=4)\n",
    "# plt.plot([0, 1], [0, 1], 'k--', linewidth=4)\n",
    "# plt.xlim([0.0, 1.0])\n",
    "# plt.ylim([0.0, 1.05])\n",
    "# plt.xlabel('False Positive Rate', fontsize=18)\n",
    "# plt.ylabel('True Positive Rate', fontsize=18)\n",
    "# plt.title('Receiver operating characteristic for high/low income', fontsize=18)\n",
    "# plt.legend(loc=\"lower right\")\n",
    "# plt.show()"
   ]
  },
  {
   "cell_type": "code",
   "execution_count": null,
   "metadata": {
    "collapsed": true
   },
   "outputs": [],
   "source": [
    "# coef = pd.DataFrame([list(X.columns), list(gs.best_estimator_.coef_[0])], index=['features', 'coef']).T\n",
    "# coef.sort_values(by = 'coef', ascending = False, inplace = True)\n",
    "# coef.reset_index(inplace = True)\n",
    "# del coef['index']\n",
    "# coef"
   ]
  },
  {
   "cell_type": "markdown",
   "metadata": {},
   "source": [
    "### Cluster Analysis"
   ]
  },
  {
   "cell_type": "code",
   "execution_count": 67,
   "metadata": {
    "collapsed": false
   },
   "outputs": [
    {
     "data": {
      "text/plain": [
       "KMeans(algorithm='auto', copy_x=True, init='k-means++', max_iter=300,\n",
       "    n_clusters=4, n_init=10, n_jobs=1, precompute_distances='auto',\n",
       "    random_state=None, tol=0.0001, verbose=0)"
      ]
     },
     "execution_count": 67,
     "metadata": {},
     "output_type": "execute_result"
    }
   ],
   "source": [
    "k = 4\n",
    "kmeans = KMeans(n_clusters=k)\n",
    "kmeans.fit(X)"
   ]
  },
  {
   "cell_type": "code",
   "execution_count": 68,
   "metadata": {
    "collapsed": true
   },
   "outputs": [],
   "source": [
    "labels = kmeans.labels_\n",
    "centroids = kmeans.cluster_centers_\n",
    "inertia = kmeans.inertia_"
   ]
  },
  {
   "cell_type": "code",
   "execution_count": 1,
   "metadata": {
    "collapsed": true
   },
   "outputs": [],
   "source": [
    "# Kernel crashing for all of the below"
   ]
  },
  {
   "cell_type": "code",
   "execution_count": null,
   "metadata": {
    "collapsed": false
   },
   "outputs": [],
   "source": [
    "# silhouette_score(X, labels, metric='euclidean')"
   ]
  },
  {
   "cell_type": "code",
   "execution_count": null,
   "metadata": {
    "collapsed": true
   },
   "outputs": [],
   "source": [
    "# df['label'] = labels\n",
    "# df.head()"
   ]
  },
  {
   "cell_type": "code",
   "execution_count": 2,
   "metadata": {
    "collapsed": false
   },
   "outputs": [],
   "source": [
    "# fig, ax = plt.subplots(figsize=(10,6))\n",
    "\n",
    "# plt.scatter(X[:, 0], X[:, 1], c=labels, s=50, cmap='rainbow');\n",
    "# ax.set_xticks([]);\n",
    "# ax.set_yticks([]);\n",
    "\n",
    "# plt.scatter(centroids[:, 0], centroids[:, 1],\n",
    "#             marker='x', s=500, linewidths=5,\n",
    "#             color='k', zorder=10)"
   ]
  },
  {
   "cell_type": "code",
   "execution_count": null,
   "metadata": {
    "collapsed": true
   },
   "outputs": [],
   "source": []
  }
 ],
 "metadata": {
  "anaconda-cloud": {},
  "kernelspec": {
   "display_name": "Python [Root]",
   "language": "python",
   "name": "Python [Root]"
  },
  "language_info": {
   "codemirror_mode": {
    "name": "ipython",
    "version": 2
   },
   "file_extension": ".py",
   "mimetype": "text/x-python",
   "name": "python",
   "nbconvert_exporter": "python",
   "pygments_lexer": "ipython2",
   "version": "2.7.12"
  },
  "toc": {
   "nav_menu": {
    "height": "102px",
    "width": "252px"
   },
   "navigate_menu": true,
   "number_sections": true,
   "sideBar": true,
   "threshold": 4,
   "toc_cell": false,
   "toc_section_display": "block",
   "toc_window_display": false
  }
 },
 "nbformat": 4,
 "nbformat_minor": 0
}
